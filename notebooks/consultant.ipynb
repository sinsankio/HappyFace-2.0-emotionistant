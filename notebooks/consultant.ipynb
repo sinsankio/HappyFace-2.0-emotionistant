{
 "cells": [
  {
   "cell_type": "code",
   "outputs": [],
   "source": [
    "from utils.consultant import generate_init_consultancy, generate_query_consultancy, generate_summarized_profile"
   ],
   "metadata": {
    "collapsed": false,
    "ExecuteTime": {
     "end_time": "2024-04-06T17:32:52.797933Z",
     "start_time": "2024-04-06T17:32:51.853195Z"
    }
   },
   "id": "92bdeb67556cf284",
   "execution_count": 1
  },
  {
   "cell_type": "code",
   "outputs": [
    {
     "name": "stdout",
     "output_type": "stream",
     "text": [
      " Smith is a male individual residing in the USA, who was born on June 20, 2001, making him 23 years old. His annual salary is 75,000, and he does not have any hidden diseases. In his compound family, there are 12 members, with a monthly income of 300,000 and monthly expenses of 500,000. This family's financial situation may present challenges due to high monthly expenses compared to their income.\n"
     ]
    }
   ],
   "source": [
    "profile = {\n",
    "    \"name\": \"Smith\",\n",
    "    \"address\": \"USA\",\n",
    "    \"dob\": \"2001-06-20\",\n",
    "    \"gender\": \"male\",\n",
    "    \"salary\": 75000,\n",
    "    \"hiddenDiseases\": [],\n",
    "    \"family\": {\n",
    "        \"numMembers\": 12,\n",
    "        \"monthlyIncome\": 300000,\n",
    "        \"monthlyExpenses\": 500000,\n",
    "        \"category\": \"compound\"\n",
    "    }\n",
    "}\n",
    "personal_profile = generate_summarized_profile(profile)\n",
    "print(personal_profile)"
   ],
   "metadata": {
    "collapsed": false,
    "ExecuteTime": {
     "end_time": "2024-04-06T17:33:00.696304Z",
     "start_time": "2024-04-06T17:32:55.704823Z"
    }
   },
   "id": "965d2425ef49953a",
   "execution_count": 2
  },
  {
   "cell_type": "code",
   "outputs": [
    {
     "name": "stdout",
     "output_type": "stream",
     "text": [
      " Pakar is a male individual whose emotional profile shows that he predominantly exhibits fear in his facial expressions, with an average arousal level of -20.5 and an average valence of 60.3. In sentimental contexts, Pakar mostly engages with emotions of contempt, featuring an average arousal level of -50 and an average valence of 90. This emotional profile suggests that Pakar often displays fear in his facial expressions and tends to express contempt in sentimental situations.\n"
     ]
    }
   ],
   "source": [
    "profile = {\n",
    "    \"name\": \"Pakar\",\n",
    "    \"gender\": \"male\",\n",
    "    \"emotionalProfile\": {\n",
    "        \"mostlyEngagingFacialEmotion\": {\n",
    "            \"emotion\": \"fear\",\n",
    "            \"avgArousal (percentage)\": -20.5,\n",
    "            \"avgValence (percentage)\": 60.3\n",
    "        },\n",
    "        \"mostlyEngagingSentimentalEmotion\": {\n",
    "            \"emotion\": \"contempt\",\n",
    "            \"avgArousal (percentage)\": -50,\n",
    "            \"avgValence (percentage)\": 90\n",
    "        }\n",
    "    }\n",
    "}\n",
    "emotion_profile = generate_summarized_profile(profile)\n",
    "print(emotion_profile)"
   ],
   "metadata": {
    "collapsed": false,
    "ExecuteTime": {
     "end_time": "2024-04-06T17:33:11.079303Z",
     "start_time": "2024-04-06T17:33:07.639783Z"
    }
   },
   "id": "d0a4b40899df031c",
   "execution_count": 3
  },
  {
   "cell_type": "code",
   "outputs": [
    {
     "name": "stdout",
     "output_type": "stream",
     "text": [
      " Hello Smith,\n",
      "\n",
      "I hope you're having a good day. I appreciate you engaging with me on your emotional well-being. I understand that you've been experiencing fear and contempt in your facial expressions and sentimental contexts respectively. It's important to acknowledge these feelings as they can impact your overall well-being.\n",
      "\n",
      "I also noticed that your family's monthly expenses exceed their income, which may be causing financial stress. It's crucial to address this issue as it can affect your emotional health.\n",
      "\n",
      "To better understand your context, may I ask how you've been managing your emotions in relation to your family's financial situation? Have you tried any coping mechanisms to alleviate feelings of fear and contempt? Your responses will help me provide a more tailored consultation.\n",
      "\n",
      "I'm here to help you navigate these emotions and support you in finding solutions to any problems you may be facing. Remember, it's okay to seek help and I'm here to provide it.\n",
      "\n",
      "Warm regards,\n",
      "[Your Name]\n"
     ]
    }
   ],
   "source": [
    "init_consultancy = generate_init_consultancy(personal_profile, emotion_profile, [])\n",
    "print(init_consultancy)"
   ],
   "metadata": {
    "collapsed": false,
    "ExecuteTime": {
     "end_time": "2024-04-06T17:33:34.301450Z",
     "start_time": "2024-04-06T17:33:30.284033Z"
    }
   },
   "id": "dc6eeefd12343799",
   "execution_count": 4
  },
  {
   "cell_type": "code",
   "outputs": [
    {
     "name": "stdout",
     "output_type": "stream",
     "text": [
      " Hello Smith,\n",
      "\n",
      "I hope you're having a good day. I appreciate you engaging with me on your emotional well-being. I understand that you've been experiencing fear and contempt in your facial expressions and sentimental contexts respectively. It's important to acknowledge these feelings as they can impact your overall well-being.\n",
      "\n",
      "I also noticed that your family's monthly expenses exceed their income, which may be causing financial stress. It's crucial to address this issue as it can affect your emotional health.\n",
      "\n",
      "To better understand your context, may I ask how you've been managing your emotions in relation to your family's financial situation? Have you tried any coping mechanisms to alleviate feelings of fear and contempt? Your responses will help me provide a more tailored consultation.\n",
      "\n",
      "I'm here to help you navigate these emotions and support you in finding solutions to any problems you may be facing. Remember, it's okay to seek help and I'm here to provide it.\n",
      "\n",
      "Warm regards,\n",
      "[Your Name]\n"
     ]
    }
   ],
   "source": [
    "query_consultancy = generate_query_consultancy(personal_profile, emotion_profile, [], \"I am feeling depressed with over work of my company :(\")\n",
    "print(init_consultancy)"
   ],
   "metadata": {
    "collapsed": false,
    "ExecuteTime": {
     "end_time": "2024-04-06T17:34:09.687790Z",
     "start_time": "2024-04-06T17:34:05.624749Z"
    }
   },
   "id": "837f11a318e279dd",
   "execution_count": 5
  },
  {
   "cell_type": "code",
   "outputs": [],
   "source": [],
   "metadata": {
    "collapsed": false
   },
   "id": "983ee7a4c8cbc6c9"
  }
 ],
 "metadata": {
  "kernelspec": {
   "display_name": "Python 3",
   "language": "python",
   "name": "python3"
  },
  "language_info": {
   "codemirror_mode": {
    "name": "ipython",
    "version": 2
   },
   "file_extension": ".py",
   "mimetype": "text/x-python",
   "name": "python",
   "nbconvert_exporter": "python",
   "pygments_lexer": "ipython2",
   "version": "2.7.6"
  }
 },
 "nbformat": 4,
 "nbformat_minor": 5
}
