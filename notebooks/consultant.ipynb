{
 "cells": [
  {
   "cell_type": "code",
   "outputs": [],
   "source": [
    "from utils.consultant import generate_init_consultancy, generate_query_consultancy\n",
    "from utils.profile import generate_summarized_profile, generate_profiles_into_recommendation"
   ],
   "metadata": {
    "collapsed": false,
    "ExecuteTime": {
     "end_time": "2024-04-08T13:28:44.516576Z",
     "start_time": "2024-04-08T13:28:43.383149Z"
    }
   },
   "id": "92bdeb67556cf284",
   "execution_count": 1
  },
  {
   "cell_type": "code",
   "outputs": [
    {
     "name": "stdout",
     "output_type": "stream",
     "text": [
      " The provided JSON object pertains to a 23-year-old male individual residing in Sri Lanka, Colombo, with a salary of 10,000 LKR. He does not have any known hidden diseases. In terms of his family profile, there are five members in his nucleus family, with a monthly income of 30,000 LKR and monthly expenses of 28,000 LKR, indicating a relatively balanced financial situation.\n"
     ]
    }
   ],
   "source": [
    "profile = {\n",
    "    # \"name\": \"Sineth\",\n",
    "    \"address\": \"Sri Lanka, Colombo\",\n",
    "    \"dob\": \"2000-09-18\",\n",
    "    \"gender\": \"male\",\n",
    "    \"salary (LKR)\": 10000,\n",
    "    \"hiddenDiseases\": [],\n",
    "    \"family\": {\n",
    "        \"numMembers\": 5,\n",
    "        \"monthlyIncome (LKR)\": 30000,\n",
    "        \"monthlyExpenses (LKR)\": 28000,\n",
    "        \"category\": \"nucleus\"\n",
    "    }\n",
    "}\n",
    "bio_data_profile = generate_summarized_profile(profile)\n",
    "print(bio_data_profile)"
   ],
   "metadata": {
    "collapsed": false,
    "ExecuteTime": {
     "end_time": "2024-04-08T13:33:46.682451Z",
     "start_time": "2024-04-08T13:33:43.223519Z"
    }
   },
   "id": "965d2425ef49953a",
   "execution_count": 11
  },
  {
   "cell_type": "code",
   "outputs": [
    {
     "name": "stdout",
     "output_type": "stream",
     "text": [
      " This individual's emotional profile demonstrates a predominant engagement with the emotion \"happy.\" The mostly engaging facial emotion is \"happy\" with a high arousal level (90%) and moderate positivity (60%), indicating strong feelings of joy or excitement. The engaging sentimental emotion is also \"happy,\" but with lower arousal (30%) and even lower positivity (20%). This suggests a more subdued and calm form of happiness. Overall, the emotional profile indicates a positive outlook, but the difference in arousal levels between the two emotions might imply varying intensities of happiness in different contexts.\n"
     ]
    }
   ],
   "source": [
    "profile = {\n",
    "    # \"name\": \"Smith\",\n",
    "    # \"gender\": \"male\",\n",
    "    \"emotionalProfile\": {\n",
    "        \"mostlyEngagingFacialEmotion\": {\n",
    "            \"emotion\": \"happy\",\n",
    "            \"avgArousal (percentage)\": 90,\n",
    "            \"avgValence (percentage)\": 60\n",
    "        },\n",
    "        \"mostlyEngagingSentimentalEmotion\": {\n",
    "            \"emotion\": \"happy\",\n",
    "            \"avgArousal (percentage)\": 30,\n",
    "            \"avgValence (percentage)\": 20\n",
    "        }\n",
    "    }\n",
    "}\n",
    "emotion_profile = generate_summarized_profile(profile)\n",
    "print(emotion_profile)"
   ],
   "metadata": {
    "collapsed": false,
    "ExecuteTime": {
     "end_time": "2024-04-08T13:33:50.390933Z",
     "start_time": "2024-04-08T13:33:46.685440Z"
    }
   },
   "id": "d0a4b40899df031c",
   "execution_count": 12
  },
  {
   "cell_type": "code",
   "outputs": [
    {
     "name": "stdout",
     "output_type": "stream",
     "text": [
      " Taking into account the provided personal bio data and emotional engagement profiles, several recommendations can be made for this individual.\n",
      "\n",
      "Firstly, considering the balanced financial situation of his nucleus family, it is suggested that this employee maintains his current employment status. This will ensure the stability of his family's income and expenses. Furthermore, with a salary of 10,000 LKR, he is contributing significantly to the overall family income, which is currently 30,000 LKR per month.\n",
      "\n",
      "Secondly, the employee's emotional disposition indicates a predominant engagement with the emotion \"happy.\" This is a positive attribute that can be leveraged in the workplace. Managers should consider assigning this employee tasks that require creativity and innovation, as positive emotions have been linked to enhanced problem-solving abilities and increased productivity.\n",
      "\n",
      "Additionally, the difference in arousal levels between the two \"happy\" emotions suggests varying intensities of happiness in different contexts. Therefore, it is recommended that managers provide a diverse range of tasks and responsibilities to this employee. This will allow him to experience different levels of arousal and maintain his overall emotional engagement.\n",
      "\n",
      "Finally, the employee's positive emotional disposition and balanced financial situation make him an ideal candidate for leadership roles in the future. Managers should consider providing him with opportunities for professional development and growth, such as training programs or mentorship opportunities. This will enable him to further enhance his skills and contribute positively to the organization.\n"
     ]
    }
   ],
   "source": [
    "recommendation = generate_profiles_into_recommendation(bio_data_profile, emotion_profile)\n",
    "print(recommendation)"
   ],
   "metadata": {
    "collapsed": false,
    "ExecuteTime": {
     "end_time": "2024-04-08T13:33:55.242455Z",
     "start_time": "2024-04-08T13:33:50.393922Z"
    }
   },
   "id": "109524b2ff1d74d1",
   "execution_count": 13
  },
  {
   "cell_type": "code",
   "outputs": [
    {
     "name": "stdout",
     "output_type": "stream",
     "text": [
      " Hello Sineth! It's wonderful to see your predominant emotional profile leaning towards positivity, with a strong engagement in happy facial emotions. This is truly fantastic and shows that you have a great outlook on life. 😊\n",
      "\n",
      "Your happy facial emotions with a high arousal level of 90% indicate strong feelings of joy or excitement, which is truly inspiring. Although the valence of this facial emotion is moderate at 60%, the positive aspect of this emotion is still quite significant. 😊\n",
      "\n",
      "In terms of sentimental emotions, your more subdued, yet still positive, sentimental emotion of happiness reflects a sense of contentment. This is a great sign of emotional well-being and suggests that you are generally satisfied with your life. 😊\n",
      "\n",
      "To further enhance your emotional well-being, I would suggest focusing on the present moment and practicing mindfulness. This can help you to appreciate the small things in life and increase your overall sense of happiness. 😊\n",
      "\n",
      "Keep up the great work, Sineth! Your positive emotional state is a testament to your resilience and ability to overcome challenges. 😊 If you have any questions or need further guidance, please don't hesitate to ask. 😊\n"
     ]
    }
   ],
   "source": [
    "init_consultancy = generate_init_consultancy(bio_data_profile, emotion_profile)\n",
    "print(init_consultancy)"
   ],
   "metadata": {
    "collapsed": false,
    "ExecuteTime": {
     "end_time": "2024-04-08T13:29:17.046868Z",
     "start_time": "2024-04-08T13:29:10.586169Z"
    }
   },
   "id": "dc6eeefd12343799",
   "execution_count": 5
  },
  {
   "cell_type": "code",
   "outputs": [
    {
     "name": "stdout",
     "output_type": "stream",
     "text": [
      " 1. 😊 Acknowledge your feelings: It's important to recognise and accept your emotions towards your boss and friends. This is the first step in managing them effectively.\n",
      "\n",
      "2. 🤔 Understand the cause: Try to understand the reasons behind your fear for your boss and anger towards your friends. Is it due to their behaviour, your past experiences, or something else?\n",
      "\n",
      "3. 💬 Communicate: If appropriate, communicate your feelings to your boss or friends. They may not be aware of the impact they are having on you. \n",
      "\n",
      "4. 🧭 Seek support: Don't hesitate to seek support from colleagues, family, or a professional counsellor. They can provide guidance and help you navigate through your feelings.\n",
      "\n",
      "5. 🤝 Build relationships: Try to build a positive relationship with your boss. Understand their expectations, communicate regularly, and seek feedback. This can help reduce your fear and improve your working relationship.\n",
      "\n",
      "6. 🚶‍♂️ Distancing: If your friends are consistently toxic, it might be beneficial to distance yourself from them. Spend less time with them and invest in relationships that are positive and supportive.\n",
      "\n",
      "7. 💡 Positive thinking: Try to replace negative thoughts with positive ones. Instead of focusing on your fear or anger, think about the things you appreciate or enjoy about your boss or friends.\n",
      "\n",
      "8. 🧘‍♂️ Mindfulness: Practice mindfulness to stay present and focused. This can help you manage your emotions and respond to situations calmly and thoughtfully.\n",
      "\n",
      "9. 📚 Learn: There are many resources available to help you manage your emotions and build positive relationships. Take advantage of these resources to learn and grow.\n",
      "\n",
      "10. 🔝 Progress: Remember, managing emotions is a process. Celebrate your progress, no matter how small, and continue to strive for improvement. 🌟\n"
     ]
    }
   ],
   "source": [
    "query = '''\n",
    "    I feel fear for my boss and feel anger upon my toxic friends\n",
    "'''\n",
    "query_consultancy = generate_query_consultancy(\n",
    "    query,\n",
    "    recommendation,\n",
    "    \"TEN\"\n",
    ")\n",
    "print(query_consultancy)"
   ],
   "metadata": {
    "collapsed": false,
    "ExecuteTime": {
     "end_time": "2024-04-08T13:34:00.903440Z",
     "start_time": "2024-04-08T13:33:55.248447Z"
    }
   },
   "id": "837f11a318e279dd",
   "execution_count": 14
  },
  {
   "cell_type": "code",
   "outputs": [
    {
     "name": "stdout",
     "output_type": "stream",
     "text": [
      " 1. 💡 Maintain transparency: Have an open and honest conversation with your family about your financial situation. This will help to ensure that everyone is on the same page and can work together to manage expenses.\n",
      "\n",
      "2. 📝 Create a budget: With your family, create a detailed budget that outlines your income and expenses. This will help you to keep track of your spending and ensure that you are living within your means.\n",
      "\n",
      "3. 🔒 Set financial limits: Consider setting limits on discretionary spending, such as entertainment or dining out. This can help to prevent overspending and ensure that you have enough money for essential expenses.\n",
      "\n",
      "4. 💼 Seek professional help: Consider seeking the help of a financial advisor or counsellor. They can provide you with guidance and support as you work to manage your finances.\n",
      "\n",
      "5. 🤝 Seek support from your employer: If you are struggling with addiction, consider reaching out to your employer for support. They may be able to provide you with resources or accommodations to help you manage your addiction and maintain your employment.\n",
      "\n",
      "6. 💼 Pursue professional development: Take advantage of opportunities for professional development and growth, such as training programs or mentorship opportunities. This can help you to enhance your skills and increase your earning potential.\n",
      "\n",
      "7. 👥 Leverage your positive emotional disposition: Continue to leverage your positive emotional disposition in the workplace. This can help you to stay motivated and engaged, even in the face of challenges.\n",
      "\n",
      "8. 🌟 Embrace leadership opportunities: Consider taking on leadership roles or responsibilities in the workplace. This can help you to further develop your skills and contribute positively to the organization.\n",
      "\n",
      "9. 🚫 Avoid triggers: Identify and avoid triggers that may contribute to your addiction. This may include certain people, places, or situations.\n",
      "\n",
      "10. 💖 Practice self-care: Remember to prioritize self-care and self-compassion. This can help you to manage stress and maintain your emotional well-being as you work to manage your addiction and maintain your financial practices.\n"
     ]
    }
   ],
   "source": [
    "query = '''\n",
    "    How to maintain financial practices when someone addicted with alcohol and drugs?\n",
    "'''\n",
    "query_consultancy = generate_query_consultancy(\n",
    "    query,\n",
    "    recommendation,\n",
    "    \"TEN\"\n",
    ")\n",
    "print(query_consultancy)"
   ],
   "metadata": {
    "collapsed": false,
    "ExecuteTime": {
     "end_time": "2024-04-08T13:34:25.019467Z",
     "start_time": "2024-04-08T13:34:19.096346Z"
    }
   },
   "id": "983ee7a4c8cbc6c9",
   "execution_count": 15
  },
  {
   "cell_type": "code",
   "outputs": [
    {
     "name": "stdout",
     "output_type": "stream",
     "text": [
      " Absolutely, I'd be happy to provide some guidance on managing stress! Here are three techniques that might be helpful:\n",
      "\n",
      "1. 🧘 **Mindfulness and Meditation**: Regular practice of mindfulness or meditation can help reduce stress and increase emotional well-being. It's about focusing your attention and eliminating the stream of jumbled thoughts that may be crowding your mind.\n",
      "\n",
      "2. 💬 **Communication**: Often, stress can be a result of misunderstandings or unspoken concerns. Regularly communicating your feelings, whether it's with a loved one, friend, or even a professional, can help alleviate stress.\n",
      "\n",
      "3. 🍎 **Healthy Lifestyle**: Regular exercise, a balanced diet, and adequate sleep can significantly reduce stress levels. These factors not only improve your physical health but also contribute to your emotional well-being.\n",
      "\n",
      "Remember, it's perfectly normal to experience stress from time to time. However, if stress becomes overwhelming, don't hesitate to seek professional help. Your emotional well-being is just as important as your physical health. 😊\n"
     ]
    }
   ],
   "source": [
    "query = \"suggest me 3 techniques that I may follow to overcome over stress\"\n",
    "query_consultancy = generate_query_consultancy(\n",
    "    query,\n",
    "    recommendation,\n",
    "    \"TEN\"\n",
    ")\n",
    "print(query_consultancy)"
   ],
   "metadata": {
    "collapsed": false,
    "ExecuteTime": {
     "end_time": "2024-04-08T13:34:39.608295Z",
     "start_time": "2024-04-08T13:34:35.055605Z"
    }
   },
   "id": "bd3e837f4a0f5187",
   "execution_count": 16
  },
  {
   "cell_type": "code",
   "outputs": [
    {
     "name": "stdout",
     "output_type": "stream",
     "text": [
      " 1. 💡 An operating system powered by Large Language models could be defined as a sophisticated computer system that utilises advanced language processing capabilities to provide intuitive and user-friendly interfaces.\n",
      "2. 💻 Such an operating system would leverage the power of artificial intelligence to understand and respond to user commands in a natural, conversational manner.\n",
      "3. 💬 Large Language models would enable the operating system to understand context, nuance, and even emotion in user inputs, leading to more accurate and relevant responses.\n",
      "4. 🚀 This could revolutionise the way we interact with computers, making them more accessible and user-friendly for people of all ages and abilities.\n",
      "5. 🧠 To implement such a system, you would need a strong understanding of both computer science and linguistics, as well as access to large datasets for training the language models.\n",
      "6. 🔧 The development process would involve creating and training the language models, integrating them into the operating system, and testing the system to ensure it meets user needs and expectations.\n",
      "7. 🌐 Once developed, such an operating system could be used in a variety of settings, from personal computers and smartphones to customer service chatbots and virtual assistants.\n",
      "8. 💼 As an employee, you could contribute to this field by developing the necessary language models, testing and refining the operating system, or by integrating it into existing systems.\n",
      "9. 😊 Given your positive emotional disposition, this could be a challenging yet rewarding area to work in, as you would be at the forefront of a rapidly evolving field with the potential to make a significant impact on the way we interact with technology.\n",
      "10. 🏆 With your creativity and innovation skills, you could help shape the future of operating systems and improve the user experience for millions of people around the world. Good luck! 👍\n"
     ]
    }
   ],
   "source": [
    "query = \"How do you define a computer operating system powered by Large Language models?\"\n",
    "query_consultancy = generate_query_consultancy(\n",
    "    query,\n",
    "    recommendation,\n",
    "    \"TEN\"\n",
    ")\n",
    "print(query_consultancy)"
   ],
   "metadata": {
    "collapsed": false,
    "ExecuteTime": {
     "end_time": "2024-04-08T13:35:19.848422Z",
     "start_time": "2024-04-08T13:35:14.426726Z"
    }
   },
   "id": "c434819edda636a8",
   "execution_count": 17
  },
  {
   "cell_type": "code",
   "outputs": [],
   "source": [],
   "metadata": {
    "collapsed": false
   },
   "id": "6763a7116e9537a"
  }
 ],
 "metadata": {
  "kernelspec": {
   "display_name": "Python 3",
   "language": "python",
   "name": "python3"
  },
  "language_info": {
   "codemirror_mode": {
    "name": "ipython",
    "version": 2
   },
   "file_extension": ".py",
   "mimetype": "text/x-python",
   "name": "python",
   "nbconvert_exporter": "python",
   "pygments_lexer": "ipython2",
   "version": "2.7.6"
  }
 },
 "nbformat": 4,
 "nbformat_minor": 5
}
