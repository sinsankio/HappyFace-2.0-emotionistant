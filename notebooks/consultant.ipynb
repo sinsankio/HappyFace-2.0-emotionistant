{
 "cells": [
  {
   "cell_type": "code",
   "outputs": [],
   "source": [
    "from utils.consultant import generate_consultancy, generate_summarized_profile"
   ],
   "metadata": {
    "collapsed": false,
    "ExecuteTime": {
     "end_time": "2024-04-07T11:50:16.855304Z",
     "start_time": "2024-04-07T11:50:15.355204Z"
    }
   },
   "id": "92bdeb67556cf284",
   "execution_count": 1
  },
  {
   "cell_type": "code",
   "outputs": [],
   "source": [
    "from langchain_core.messages import HumanMessage, AIMessage\n",
    "from configs.consultant import MAX_CHAT_HISTORY_MSGS\n",
    "\n",
    "chat_history = []\n",
    "\n",
    "def update_chat_history(response: str, query: str = \"\") -> None:\n",
    "    global chat_history\n",
    "    \n",
    "    latest_conv = [\n",
    "        HumanMessage(content=query),\n",
    "        AIMessage(content=response)\n",
    "    ]\n",
    "    chat_history.append(latest_conv)\n",
    "    \n",
    "    if len(chat_history) > MAX_CHAT_HISTORY_MSGS:\n",
    "        chat_history = chat_history[1: MAX_CHAT_HISTORY_MSGS]"
   ],
   "metadata": {
    "collapsed": false,
    "ExecuteTime": {
     "end_time": "2024-04-07T11:50:18.562547Z",
     "start_time": "2024-04-07T11:50:18.555835Z"
    }
   },
   "id": "ba63962eb5580e3c",
   "execution_count": 2
  },
  {
   "cell_type": "code",
   "outputs": [
    {
     "name": "stdout",
     "output_type": "stream",
     "text": [
      "Smith is a male individual residing in the USA, born on June 20, 2001, making him 21 years old. He earns an annual salary of 6,000 and has been diagnosed with Hepatitis. In his nucleus family, there are twelve members, with a substantial monthly income of 300,000 but high monthly expenses totaling 900,000. This financial situation indicates potential challenges in managing the family's expenses compared to their income.\n"
     ]
    }
   ],
   "source": [
    "profile = {\n",
    "    \"name\": \"Smith\",\n",
    "    \"address\": \"USA\",\n",
    "    \"dob\": \"2001-06-20\",\n",
    "    \"gender\": \"male\",\n",
    "    \"salary\": 6000,\n",
    "    \"hiddenDiseases\": [\"Hepatitis\"],\n",
    "    \"family\": {\n",
    "        \"numMembers\": 12,\n",
    "        \"monthlyIncome\": 300000,\n",
    "        \"monthlyExpenses\": 900000,\n",
    "        \"category\": \"nucleus\"\n",
    "    }\n",
    "}\n",
    "personal_profile = generate_summarized_profile(profile)\n",
    "print(personal_profile)"
   ],
   "metadata": {
    "collapsed": false,
    "ExecuteTime": {
     "end_time": "2024-04-07T11:50:33.113589Z",
     "start_time": "2024-04-07T11:50:30.922772Z"
    }
   },
   "id": "965d2425ef49953a",
   "execution_count": 4
  },
  {
   "cell_type": "code",
   "outputs": [
    {
     "name": "stdout",
     "output_type": "stream",
     "text": [
      "Smith is a male individual with a predominantly negative emotional engagement profile. His most engaging facial emotion is \"fear\" with very high arousal (90) and very high negativity (valence -60), indicating intense anxiety or dread. Additionally, his engaging sentimental emotion is \"anger\" with high arousal (69) and very high negativity (valence -100), suggesting strong feelings of frustration or rage. These emotions may indicate significant distress or agitation, potentially affecting his decision-making and interactions with others. It would be crucial to address the underlying causes of these emotions to support Smith's emotional well-being and overall functioning.\n"
     ]
    }
   ],
   "source": [
    "profile = {\n",
    "    \"name\": \"Smith\",\n",
    "    \"gender\": \"male\",\n",
    "    \"emotionalProfile\": {\n",
    "        \"mostlyEngagingFacialEmotion\": {\n",
    "            \"emotion\": \"fear\",\n",
    "            \"avgArousal (percentage)\": 90,\n",
    "            \"avgValence (percentage)\": -60\n",
    "        },\n",
    "        \"mostlyEngagingSentimentalEmotion\": {\n",
    "            \"emotion\": \"anger\",\n",
    "            \"avgArousal (percentage)\": 69,\n",
    "            \"avgValence (percentage)\": -100\n",
    "        }\n",
    "    }\n",
    "}\n",
    "emotion_profile = generate_summarized_profile(profile)\n",
    "print(emotion_profile)"
   ],
   "metadata": {
    "collapsed": false,
    "ExecuteTime": {
     "end_time": "2024-04-07T11:51:08.715838Z",
     "start_time": "2024-04-07T11:51:06.966110Z"
    }
   },
   "id": "d0a4b40899df031c",
   "execution_count": 6
  },
  {
   "cell_type": "code",
   "outputs": [
    {
     "name": "stdout",
     "output_type": "stream",
     "text": [
      "Hello Smith! I appreciate your engagement on positive emotions and I'm glad to see you reaching out for support. It's clear that you have been experiencing intense feelings of fear and anger, which can be challenging to navigate. It's important to address the underlying causes of these emotions to support your emotional well-being and overall functioning.\n",
      "\n",
      "Given your financial situation with high monthly expenses compared to your income, it's crucial to find ways to improve financial management and reduce stress levels. Have you considered seeking support from a financial advisor or counselor to help you create a more sustainable budget? This could potentially alleviate some of the stress you may be feeling.\n",
      "\n",
      "Remember, it's okay to ask for help and take steps towards improving your emotional well-being. You deserve to feel calm and at peace. If you need further assistance or guidance, feel free to reach out. Your well-being is important, and I'm here to support you through any challenges you may be facing.\n",
      "\n",
      "Stay strong and keep a positive mindset, Smith!\n",
      "\n",
      "Best Regards,\n",
      "Your Personal HappyFace Consultant\n"
     ]
    }
   ],
   "source": [
    "init_consultancy = generate_consultancy(personal_profile, emotion_profile, chat_history)\n",
    "update_chat_history(response=init_consultancy)\n",
    "print(init_consultancy)"
   ],
   "metadata": {
    "collapsed": false,
    "ExecuteTime": {
     "end_time": "2024-04-07T11:52:20.302981Z",
     "start_time": "2024-04-07T11:52:16.505181Z"
    }
   },
   "id": "dc6eeefd12343799",
   "execution_count": 10
  },
  {
   "cell_type": "code",
   "outputs": [
    {
     "name": "stdout",
     "output_type": "stream",
     "text": [
      "Hello Smith! I understand that you are feeling fear towards your boss and anger towards your toxic friends. It's important to address these emotions to support your emotional well-being.\n",
      "\n",
      "Feeling fear towards your boss may stem from a sense of pressure or expectations in your work environment. It could be helpful to communicate openly with your boss about any concerns or challenges you are facing. Building a positive and transparent relationship with your boss can help alleviate some of the fear and create a more supportive work environment for you.\n",
      "\n",
      "Regarding the anger towards your toxic friends, it's essential to set boundaries and prioritize your own emotional well-being. Surrounding yourself with positive and supportive individuals can make a significant difference in how you feel and interact with others. Consider having a conversation with your toxic friends about how their behavior is affecting you, or if necessary, distance yourself from toxic relationships to prioritize your mental health.\n",
      "\n",
      "Remember, it's okay to prioritize your well-being and seek support when needed. If you need further assistance or guidance on how to navigate these emotions, feel free to reach out. Your emotional well-being is important, and I'm here to support you through any challenges you may be facing.\n",
      "\n",
      "Stay strong and keep a positive mindset, Smith!\n",
      "\n",
      "Best Regards,\n",
      "Your Personal HappyFace Consultant\n"
     ]
    }
   ],
   "source": [
    "query = '''\n",
    "    I feel fear for my boss and feel anger upon my toxic friends\n",
    "'''\n",
    "query_consultancy = generate_consultancy(\n",
    "    personal_profile, \n",
    "    emotion_profile, \n",
    "    chat_history, \n",
    "    query\n",
    ")\n",
    "update_chat_history(query=query, response=query_consultancy)\n",
    "print(query_consultancy)"
   ],
   "metadata": {
    "collapsed": false,
    "ExecuteTime": {
     "end_time": "2024-04-07T11:53:11.507694Z",
     "start_time": "2024-04-07T11:53:08.848339Z"
    }
   },
   "id": "837f11a318e279dd",
   "execution_count": 11
  },
  {
   "cell_type": "code",
   "outputs": [
    {
     "name": "stdout",
     "output_type": "stream",
     "text": [
      " Dear Smith,\n",
      "\n",
      "Thank you for sharing your concern about managing your time for work-life balance. It's great that you're taking steps to ensure you have a healthy balance between your professional and personal life (Best Regards, Your Personal HappyFace Consultant).\n",
      "\n",
      "In order to provide the most effective consultation, I'd like to ask a few questions to better understand your current time management strategies and challenges:\n",
      "\n",
      "1. Can you provide a general overview of your daily routine, including work hours and personal activities?\n",
      "2. Do you have any specific goals or priorities you'd like to achieve in your personal life that you feel are being neglected due to work?\n",
      "3. Have you tried any time management techniques in the past, such as setting a schedule, creating to-do lists, or designating time for specific tasks? If so, how effective were they for you?\n",
      "4. Are there any barriers or challenges that make it difficult for you to balance work and personal life, such as a long commute, demanding work schedule, or family responsibilities?\n",
      "\n",
      "Understanding your current situation and challenges will help me provide personalized guidance and strategies to assist you in achieving a better work-life balance (Best Regards, Your Personal HappyFace Consultant).\n",
      "\n",
      "Best Regards,\n",
      "Your Personal HappyFace Consultant\n"
     ]
    }
   ],
   "source": [
    "query = \"How would I manage my time for work and life balance, usually I can spend maximum 10 hours work work per day\"\n",
    "query_consultancy = generate_consultancy(\n",
    "    personal_profile,\n",
    "    emotion_profile,\n",
    "    chat_history,\n",
    "    query\n",
    ")\n",
    "update_chat_history(query=query, response=query_consultancy)\n",
    "print(query_consultancy)"
   ],
   "metadata": {
    "collapsed": false,
    "ExecuteTime": {
     "end_time": "2024-04-07T10:39:25.338321Z",
     "start_time": "2024-04-07T10:39:20.747926Z"
    }
   },
   "id": "983ee7a4c8cbc6c9",
   "execution_count": 7
  },
  {
   "cell_type": "code",
   "outputs": [
    {
     "name": "stdout",
     "output_type": "stream",
     "text": [
      "Based on the information provided, it seems like you have been experiencing intense feelings of fear towards your boss and anger towards your toxic friends. These emotions can be challenging to navigate, but it's important to address them to support your emotional well-being.\n",
      "\n",
      "It's crucial to communicate openly with your boss about any concerns or pressures you may be facing at work. Building a positive relationship with your boss can help alleviate some of the fear and create a more supportive work environment for you. Additionally, setting boundaries with toxic friends and surrounding yourself with positive individuals can help improve your emotional state.\n",
      "\n",
      "If you need further assistance or guidance on how to navigate these emotions, feel free to reach out. Your well-being is important, and I'm here to support you through any challenges you may be facing.\n",
      "\n",
      "Remember, it's okay to prioritize your emotional health and seek help when needed. Stay strong and keep a positive mindset, Smith!\n",
      "\n",
      "Best Regards,\n",
      "Your Personal HappyFace Consultant\n"
     ]
    }
   ],
   "source": [
    "query = \"What are the questions you have already answered to me. Questions should appointed by myself\"\n",
    "query_consultancy = generate_consultancy(\n",
    "    personal_profile,\n",
    "    emotion_profile,\n",
    "    chat_history,\n",
    "    query\n",
    ")\n",
    "update_chat_history(query=query, response=query_consultancy)\n",
    "print(query_consultancy)"
   ],
   "metadata": {
    "collapsed": false,
    "ExecuteTime": {
     "end_time": "2024-04-07T11:53:49.529295Z",
     "start_time": "2024-04-07T11:53:45.831084Z"
    }
   },
   "id": "bd3e837f4a0f5187",
   "execution_count": 12
  },
  {
   "cell_type": "code",
   "outputs": [],
   "source": [],
   "metadata": {
    "collapsed": false
   },
   "id": "c434819edda636a8"
  }
 ],
 "metadata": {
  "kernelspec": {
   "display_name": "Python 3",
   "language": "python",
   "name": "python3"
  },
  "language_info": {
   "codemirror_mode": {
    "name": "ipython",
    "version": 2
   },
   "file_extension": ".py",
   "mimetype": "text/x-python",
   "name": "python",
   "nbconvert_exporter": "python",
   "pygments_lexer": "ipython2",
   "version": "2.7.6"
  }
 },
 "nbformat": 4,
 "nbformat_minor": 5
}
