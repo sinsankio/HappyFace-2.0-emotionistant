{
 "cells": [
  {
   "cell_type": "code",
   "outputs": [],
   "source": [
    "from utils.consultant import generate_init_consultancy, generate_query_consultancy, generate_summarized_profile"
   ],
   "metadata": {
    "collapsed": false,
    "ExecuteTime": {
     "end_time": "2024-04-06T17:09:19.255707Z",
     "start_time": "2024-04-06T17:09:18.281041Z"
    }
   },
   "id": "92bdeb67556cf284",
   "execution_count": 1
  },
  {
   "cell_type": "code",
   "outputs": [
    {
     "name": "stdout",
     "output_type": "stream",
     "text": [
      " Smith is a male individual residing in the USA, who was born on June 20, 2001, making him 23 years old. His annual salary is 75,000, and he does not have any hidden diseases. In his compound family, there are 12 members, with a monthly income of 300,000 and monthly expenses of 500,000. This family's financial situation may present challenges due to high monthly expenses compared to their income.\n"
     ]
    }
   ],
   "source": [
    "profile = {\n",
    "    \"name\": \"Smith\",\n",
    "    \"address\": \"USA\",\n",
    "    \"dob\": \"2001-06-20\",\n",
    "    \"gender\": \"male\",\n",
    "    \"salary\": 75000,\n",
    "    \"hiddenDiseases\": [],\n",
    "    \"family\": {\n",
    "        \"numMembers\": 12,\n",
    "        \"monthlyIncome\": 300000,\n",
    "        \"monthlyExpenses\": 500000,\n",
    "        \"category\": \"compound\"\n",
    "    }\n",
    "}\n",
    "personal_profile = generate_summarized_profile(profile)\n",
    "print(personal_profile)"
   ],
   "metadata": {
    "collapsed": false,
    "ExecuteTime": {
     "end_time": "2024-04-06T17:09:39.489648Z",
     "start_time": "2024-04-06T17:09:36.214273Z"
    }
   },
   "id": "965d2425ef49953a",
   "execution_count": 5
  },
  {
   "cell_type": "code",
   "outputs": [
    {
     "name": "stdout",
     "output_type": "stream",
     "text": [
      " Pakar is a male individual whose emotional profile shows that he predominantly exhibits fear in his facial expressions, with an average arousal level of -20.5 and an average valence of 60.3. In sentimental contexts, Pakar mostly engages with emotions of contempt, featuring an average arousal level of -50 and an average valence of 90. This emotional profile suggests that Pakar often displays fear in his facial expressions and tends to express contempt in sentimental situations.\n"
     ]
    }
   ],
   "source": [
    "profile = {\n",
    "    \"name\": \"Pakar\",\n",
    "    \"gender\": \"male\",\n",
    "    \"emotionalProfile\": {\n",
    "        \"mostlyEngagingFacialEmotion\": {\n",
    "            \"emotion\": \"fear\",\n",
    "            \"avgArousal (percentage)\": -20.5,\n",
    "            \"avgValence (percentage)\": 60.3\n",
    "        },\n",
    "        \"mostlyEngagingSentimentalEmotion\": {\n",
    "            \"emotion\": \"contempt\",\n",
    "            \"avgArousal (percentage)\": -50,\n",
    "            \"avgValence (percentage)\": 90\n",
    "        }\n",
    "    }\n",
    "}\n",
    "emotion_profile = generate_summarized_profile(profile)\n",
    "print(emotion_profile)"
   ],
   "metadata": {
    "collapsed": false,
    "ExecuteTime": {
     "end_time": "2024-04-06T17:09:44.826415Z",
     "start_time": "2024-04-06T17:09:41.503456Z"
    }
   },
   "id": "d0a4b40899df031c",
   "execution_count": 6
  },
  {
   "cell_type": "code",
   "outputs": [
    {
     "name": "stdout",
     "output_type": "stream",
     "text": [
      " Hello Smith,\n",
      "\n",
      "I hope you're doing well today. I appreciate you engaging with me on your emotional well-being. After reviewing your personal profile, I can see that you're dealing with some financial challenges in your family, which can certainly be a source of stress.\n",
      "\n",
      "Regarding your emotional engagement profile, I noticed that you tend to exhibit fear in your facial expressions and express contempt in sentimental situations. It's important to remember that emotions are a natural part of the human experience, and there's no need to feel ashamed or embarrassed about how you're feeling.\n",
      "\n",
      "I would like to ask you a few questions to better understand your context. Can you tell me more about what you're afraid of, and how this fear is affecting your daily life? Also, can you share an example of a situation where you expressed contempt, and how you felt during that experience?\n",
      "\n",
      "My goal is to help you build emotional resilience and develop coping strategies to manage any challenges you may be facing. I'm here to support you, and I want you to know that you can trust me to handle your concerns with care and respect.\n",
      "\n",
      "Thank you for your time, and I look forward to hearing from you soon.\n",
      "\n",
      "Best regards,\n",
      "[Your Name]\n"
     ]
    }
   ],
   "source": [
    "init_consultancy = generate_init_consultancy(personal_profile, emotion_profile, [])\n",
    "print(init_consultancy)"
   ],
   "metadata": {
    "collapsed": false,
    "ExecuteTime": {
     "end_time": "2024-04-06T17:09:53.612876Z",
     "start_time": "2024-04-06T17:09:49.175782Z"
    }
   },
   "id": "dc6eeefd12343799",
   "execution_count": 7
  },
  {
   "cell_type": "code",
   "outputs": [
    {
     "name": "stdout",
     "output_type": "stream",
     "text": [
      " Hello Smith,\n",
      "\n",
      "I hope you're doing well today. I appreciate you engaging with me on your emotional well-being. After reviewing your personal profile, I can see that you're dealing with some financial challenges in your family, which can certainly be a source of stress.\n",
      "\n",
      "Regarding your emotional engagement profile, I noticed that you tend to exhibit fear in your facial expressions and express contempt in sentimental situations. It's important to remember that emotions are a natural part of the human experience, and there's no need to feel ashamed or embarrassed about how you're feeling.\n",
      "\n",
      "I would like to ask you a few questions to better understand your context. Can you tell me more about what you're afraid of, and how this fear is affecting your daily life? Also, can you share an example of a situation where you expressed contempt, and how you felt during that experience?\n",
      "\n",
      "My goal is to help you build emotional resilience and develop coping strategies to manage any challenges you may be facing. I'm here to support you, and I want you to know that you can trust me to handle your concerns with care and respect.\n",
      "\n",
      "Thank you for your time, and I look forward to hearing from you soon.\n",
      "\n",
      "Best regards,\n",
      "[Your Name]\n"
     ]
    }
   ],
   "source": [
    "query_consultancy = generate_query_consultancy(personal_profile, emotion_profile, [], \"I am feeling depressed with over work of my company :(\")\n",
    "print(init_consultancy)"
   ],
   "metadata": {
    "collapsed": false,
    "ExecuteTime": {
     "end_time": "2024-04-06T17:10:11.885335Z",
     "start_time": "2024-04-06T17:10:07.498146Z"
    }
   },
   "id": "837f11a318e279dd",
   "execution_count": 8
  },
  {
   "cell_type": "code",
   "outputs": [],
   "source": [],
   "metadata": {
    "collapsed": false
   },
   "id": "983ee7a4c8cbc6c9"
  }
 ],
 "metadata": {
  "kernelspec": {
   "display_name": "Python 3",
   "language": "python",
   "name": "python3"
  },
  "language_info": {
   "codemirror_mode": {
    "name": "ipython",
    "version": 2
   },
   "file_extension": ".py",
   "mimetype": "text/x-python",
   "name": "python",
   "nbconvert_exporter": "python",
   "pygments_lexer": "ipython2",
   "version": "2.7.6"
  }
 },
 "nbformat": 4,
 "nbformat_minor": 5
}
