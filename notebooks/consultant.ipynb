{
 "cells": [
  {
   "cell_type": "code",
   "outputs": [],
   "source": [
    "from utils.consultant import generate_init_consultancy, generate_query_consultancy, generate_summarized_profile"
   ],
   "metadata": {
    "collapsed": false,
    "ExecuteTime": {
     "end_time": "2024-04-07T07:22:38.001749Z",
     "start_time": "2024-04-07T07:22:37.125740Z"
    }
   },
   "id": "92bdeb67556cf284",
   "execution_count": 1
  },
  {
   "cell_type": "code",
   "outputs": [],
   "source": [
    "from langchain_core.messages import HumanMessage, AIMessage\n",
    "from configs.consultant import MAX_CHAT_HISTORY_MSGS\n",
    "\n",
    "chat_history = []\n",
    "\n",
    "def update_chat_history(response: str, query: str = \"\") -> None:\n",
    "    global chat_history\n",
    "    \n",
    "    latest_conv = [\n",
    "        HumanMessage(content=query),\n",
    "        AIMessage(content=response)\n",
    "    ]\n",
    "    chat_history.append(latest_conv)\n",
    "    \n",
    "    if len(chat_history) > MAX_CHAT_HISTORY_MSGS:\n",
    "        chat_history = chat_history[1: MAX_CHAT_HISTORY_MSGS]"
   ],
   "metadata": {
    "collapsed": false,
    "ExecuteTime": {
     "end_time": "2024-04-07T07:24:35.592622Z",
     "start_time": "2024-04-07T07:24:35.581822Z"
    }
   },
   "id": "ba63962eb5580e3c",
   "execution_count": 3
  },
  {
   "cell_type": "code",
   "outputs": [
    {
     "name": "stdout",
     "output_type": "stream",
     "text": [
      " Smith is a male individual residing in the USA, who was born on June 20, 2001, making him 23 years old. He earns an annual salary of 6,000. Smith has been diagnosed with Hepatitis, which should be taken into account for his overall health and well-being. In his large nucleus family, there are 12 members with a monthly income of 300,000 and monthly expenses of 900,000. This family faces significant financial challenges due to high monthly expenses compared to their income, requiring careful financial management.\n"
     ]
    }
   ],
   "source": [
    "profile = {\n",
    "    \"name\": \"Smith\",\n",
    "    \"address\": \"USA\",\n",
    "    \"dob\": \"2001-06-20\",\n",
    "    \"gender\": \"male\",\n",
    "    \"salary\": 6000,\n",
    "    \"hiddenDiseases\": [\"Hepatitis\"],\n",
    "    \"family\": {\n",
    "        \"numMembers\": 12,\n",
    "        \"monthlyIncome\": 300000,\n",
    "        \"monthlyExpenses\": 900000,\n",
    "        \"category\": \"nucleus\"\n",
    "    }\n",
    "}\n",
    "personal_profile = generate_summarized_profile(profile)\n",
    "print(personal_profile)"
   ],
   "metadata": {
    "collapsed": false,
    "ExecuteTime": {
     "end_time": "2024-04-07T07:10:56.660931Z",
     "start_time": "2024-04-07T07:10:52.993441Z"
    }
   },
   "id": "965d2425ef49953a",
   "execution_count": 16
  },
  {
   "cell_type": "code",
   "outputs": [
    {
     "name": "stdout",
     "output_type": "stream",
     "text": [
      " The individual named Smith is a male whose emotional profile indicates a predominant engagement with negative emotions. The most engaging facial emotion is \"fear\" with a high arousal level (90%) and a strong negative valence (-60%), reflecting feelings of anxiety or panic. Additionally, the engaging sentimental emotion is \"anger\" with a moderate arousal level (69%) and the most negative valence (-100%), indicating intense anger or rage. These emotional states may significantly impact Smith's decision-making processes, potentially leading to risk-averse or aggressive behaviors. Addressing the underlying causes of these emotions could be crucial for improving Smith's emotional well-being and effectiveness in various aspects of life.\n"
     ]
    }
   ],
   "source": [
    "profile = {\n",
    "    \"name\": \"Smith\",\n",
    "    \"gender\": \"male\",\n",
    "    \"emotionalProfile\": {\n",
    "        \"mostlyEngagingFacialEmotion\": {\n",
    "            \"emotion\": \"fear\",\n",
    "            \"avgArousal (percentage)\": 90,\n",
    "            \"avgValence (percentage)\": -60\n",
    "        },\n",
    "        \"mostlyEngagingSentimentalEmotion\": {\n",
    "            \"emotion\": \"anger\",\n",
    "            \"avgArousal (percentage)\": 69,\n",
    "            \"avgValence (percentage)\": -100\n",
    "        }\n",
    "    }\n",
    "}\n",
    "emotion_profile = generate_summarized_profile(profile)\n",
    "print(emotion_profile)"
   ],
   "metadata": {
    "collapsed": false,
    "ExecuteTime": {
     "end_time": "2024-04-07T07:12:33.609556Z",
     "start_time": "2024-04-07T07:12:29.876449Z"
    }
   },
   "id": "d0a4b40899df031c",
   "execution_count": 20
  },
  {
   "cell_type": "code",
   "outputs": [
    {
     "name": "stdout",
     "output_type": "stream",
     "text": [
      " Hello Smith,\n",
      "\n",
      "I hope you're doing well today. I've been reviewing our previous conversations and your emotional profile, and I want to express my appreciation for your openness in discussing your emotions. It takes courage to acknowledge and address our feelings, and I'm here to support you in any way I can.\n",
      "\n",
      "Your emotional engagement profile indicates that you've been experiencing high levels of fear and anger recently. These emotions can be quite challenging to manage and may affect your decision-making and overall well-being. It's essential to explore the underlying causes of these emotions to better understand and address them.\n",
      "\n",
      "To help me provide the most effective consultation, I'd like to ask a few questions. Please remember that there's no judgment here, and our conversation is confidential.\n",
      "\n",
      "1. Can you share any specific situations or events that might have triggered these feelings of fear and anger?\n",
      "2. How have these emotions impacted your daily life, relationships, and decision-making?\n",
      "3. Are there any strategies or activities that have helped you cope with these emotions in the past?\n",
      "\n",
      "I'm here to help you navigate these emotions and work towards improved emotional well-being. Remember, it's okay to seek help and support, and I'm grateful for the opportunity to be a part of your journey.\n",
      "\n",
      "Best Regards,\n",
      "Your Personal HappyFace Consultant\n"
     ]
    }
   ],
   "source": [
    "init_consultancy = generate_init_consultancy(personal_profile, emotion_profile, chat_history)\n",
    "update_chat_history(response=init_consultancy)\n",
    "print(init_consultancy)"
   ],
   "metadata": {
    "collapsed": false,
    "ExecuteTime": {
     "end_time": "2024-04-07T07:12:48.438351Z",
     "start_time": "2024-04-07T07:12:43.809932Z"
    }
   },
   "id": "dc6eeefd12343799",
   "execution_count": 22
  },
  {
   "cell_type": "code",
   "outputs": [
    {
     "name": "stdout",
     "output_type": "stream",
     "text": [
      " Dear Smith,\n",
      "\n",
      "Thank you for sharing your concerns about feeling fear towards your boss and anger towards your toxic friends. It's completely normal to experience a range of emotions, especially in response to challenging situations or relationships.\n",
      "\n",
      "Firstly, I'd like to validate your feelings and acknowledge that it takes courage to express them. It's important to remember that your emotions are a natural part of being human, and they can provide valuable insights into your experiences.\n",
      "\n",
      "In relation to your fear of your boss, it might be helpful to consider the following:\n",
      "\n",
      "1. Identify the specific causes of your fear. Are there particular aspects of your job or interactions with your boss that make you feel anxious? By understanding the root cause, you can begin to address it more effectively.\n",
      "2. Practice self-compassion. It's easy to be hard on ourselves when we're feeling fearful or anxious, but it's essential to remember that everyone experiences these emotions from time to time. Speak to yourself as you would to a friend, offering kindness and understanding.\n",
      "3. Develop coping strategies. This could include deep breathing exercises, mindfulness, or progressive muscle relaxation techniques to help manage your anxiety.\n",
      "\n",
      "Regarding your anger towards your toxic friends, it's important to prioritize your emotional well-being. You might consider the following:\n",
      "\n",
      "1. Set boundaries. It's okay to limit your exposure to people who negatively impact your emotional state. This could mean spending less time with them or declining invitations to events where they'll be present.\n",
      "2. Communicate your feelings. If it feels safe and appropriate to do so, express your concerns to your friends. They may not realize the impact of their behavior, and having an open conversation could lead to improved relationships.\n",
      "3. Seek support. Surround yourself with people who uplift and encourage you. This could include family members, other friends, or a therapist who can provide a safe space to process your emotions.\n",
      "\n",
      "Remember, it's okay to seek help and support when dealing with challenging emotions. I'm here to assist you in any way I can, and I believe in your ability to navigate these feelings and work towards improved emotional well-being.\n",
      "\n",
      "Best Regards,\n",
      "Your Personal HappyFace Consultant\n"
     ]
    }
   ],
   "source": [
    "query = '''\n",
    "    I feel fear for my boss and feel anger upon my toxic friends\n",
    "'''\n",
    "query_consultancy = generate_query_consultancy(\n",
    "    personal_profile, \n",
    "    emotion_profile, \n",
    "    chat_history, \n",
    "    query\n",
    ")\n",
    "update_chat_history(query=query, response=query_consultancy)\n",
    "print(query_consultancy)"
   ],
   "metadata": {
    "collapsed": false,
    "ExecuteTime": {
     "end_time": "2024-04-07T07:14:08.504290Z",
     "start_time": "2024-04-07T07:14:02.351909Z"
    }
   },
   "id": "837f11a318e279dd",
   "execution_count": 23
  },
  {
   "cell_type": "code",
   "outputs": [
    {
     "name": "stdout",
     "output_type": "stream",
     "text": [
      " Dear Smith,\n",
      "\n",
      "I hope you're doing well today. I'm glad you've reached out for guidance on managing your time for a better work-life balance. It's essential to allocate time effectively to ensure you have the energy and focus for both your professional and personal life.\n",
      "\n",
      "Given your emotional engagement profile, it's crucial to consider the impact of your emotions on your time management. High levels of fear and anger can consume your mental energy, making it more challenging to focus on tasks and manage your time effectively. Implementing self-care activities and coping strategies can help you better manage these emotions and create space for a balanced lifestyle.\n",
      "\n",
      "To help you manage your time and maintain a healthy work-life balance, I recommend the following steps:\n",
      "\n",
      "1. Set clear boundaries: Limit your work hours to a maximum of 10 hours per day, ensuring you have dedicated time for personal activities and relaxation.\n",
      "\n",
      "2. Prioritize tasks: Make a list of your daily tasks and rank them based on importance and urgency. Allocate your time accordingly, focusing on high-priority tasks first.\n",
      "\n",
      "3. Schedule breaks: Incorporate short breaks into your workday to help maintain your focus and productivity. This can also provide an opportunity to engage in relaxation techniques or mindfulness exercises to manage your emotions.\n",
      "\n",
      "4. Establish a daily routine: Create a consistent daily routine that includes time for work, self-care, and personal activities. This can help you maintain a balance between your professional and personal life.\n",
      "\n",
      "5. Monitor your emotional state: Regularly check in with yourself to assess your emotional well-being. If you notice high levels of fear or anger, take a moment to practice self-compassion and engage in coping strategies to help manage these emotions.\n",
      "\n",
      "6. Seek support: Share your time management goals with friends, family, or colleagues who can provide encouragement and accountability.\n",
      "\n",
      "Remember, managing your time effectively and maintaining a work-life balance is an ongoing process that requires practice and adjustment. Be patient with yourself as you implement these strategies, and don't hesitate to reach out if you need additional support.\n",
      "\n",
      "Best Regards,\n",
      "Your Personal HappyFace Consultant\n"
     ]
    }
   ],
   "source": [
    "query = \"How would I manage my time for work and life balance, usually I can spend maximum 10 hours work work per day\"\n",
    "query_consultancy = generate_query_consultancy(\n",
    "    personal_profile,\n",
    "    emotion_profile,\n",
    "    chat_history,\n",
    "    query\n",
    ")\n",
    "update_chat_history(query=query, response=query_consultancy)\n",
    "print(query_consultancy)"
   ],
   "metadata": {
    "collapsed": false,
    "ExecuteTime": {
     "end_time": "2024-04-07T07:17:28.366559Z",
     "start_time": "2024-04-07T07:17:22.147864Z"
    }
   },
   "id": "983ee7a4c8cbc6c9",
   "execution_count": 28
  },
  {
   "cell_type": "code",
   "outputs": [
    {
     "name": "stdout",
     "output_type": "stream",
     "text": [
      " Dear Smith,\n",
      "\n",
      "I hope you're doing well today. I'm glad you've asked me to explain the different questions you've recently asked. I'd be happy to provide some insights from my perspective.\n",
      "\n",
      "1. Your question about the purpose of using calculus in advanced mathematics shows your curiosity and desire to understand the practical applications of complex mathematical concepts. Calculus is essential in various fields, such as engineering, physics, computer science, and data science, as it helps model and simulate real-world phenomena, optimize solutions, and develop computational techniques.\n",
      "\n",
      "2. The simple arithmetic question, \"What is 2+2?\" might seem basic, but it's an opportunity for you to check your understanding of fundamental mathematical operations. The fact that you asked this question indicates that you value accuracy and are committed to learning, even in areas that seem straightforward.\n",
      "\n",
      "3. When you asked if I could remember your name, I took it as a sign of your trust in our relationship and our consultations. I understand the importance of building a strong rapport with you, and I want you to know that I take our conversations seriously. Remembering your name is a small but meaningful way to show that I value our connection and your emotional well-being.\n",
      "\n",
      "4. Your question about managing time for work-life balance demonstrates your awareness of the importance of self-care and setting boundaries. By seeking advice on this topic, you're showing that you're committed to maintaining a healthy balance between your professional and personal life, which is crucial for your overall well-being.\n",
      "\n",
      "By asking these questions, you've shown your curiosity, commitment to learning, and dedication to your emotional well-being. I'm here to support you in any way I can, and I appreciate the opportunity to be a part of your journey.\n",
      "\n",
      "Best Regards,\n",
      "Your Personal HappyFace Consultant\n"
     ]
    }
   ],
   "source": [
    "query = \"Can you explain different questions I have recently asked from you? I expect the reason of asking those question from your point of view\"\n",
    "query_consultancy = generate_query_consultancy(\n",
    "    personal_profile,\n",
    "    emotion_profile,\n",
    "    chat_history,\n",
    "    query\n",
    ")\n",
    "update_chat_history(query=query, response=query_consultancy)\n",
    "print(query_consultancy)"
   ],
   "metadata": {
    "collapsed": false,
    "ExecuteTime": {
     "end_time": "2024-04-07T07:18:12.411564Z",
     "start_time": "2024-04-07T07:18:06.226638Z"
    }
   },
   "id": "bd3e837f4a0f5187",
   "execution_count": 29
  },
  {
   "cell_type": "code",
   "outputs": [],
   "source": [],
   "metadata": {
    "collapsed": false
   },
   "id": "c434819edda636a8"
  }
 ],
 "metadata": {
  "kernelspec": {
   "display_name": "Python 3",
   "language": "python",
   "name": "python3"
  },
  "language_info": {
   "codemirror_mode": {
    "name": "ipython",
    "version": 2
   },
   "file_extension": ".py",
   "mimetype": "text/x-python",
   "name": "python",
   "nbconvert_exporter": "python",
   "pygments_lexer": "ipython2",
   "version": "2.7.6"
  }
 },
 "nbformat": 4,
 "nbformat_minor": 5
}
