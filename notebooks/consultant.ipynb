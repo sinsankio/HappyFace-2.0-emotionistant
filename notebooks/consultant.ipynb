{
 "cells": [
  {
   "cell_type": "code",
   "outputs": [],
   "source": [
    "from utils.consultant import generate_init_consultancy, generate_query_consultancy\n",
    "from utils.profile import generate_summarized_profile, generate_profiles_into_recommendation"
   ],
   "metadata": {
    "collapsed": false,
    "ExecuteTime": {
     "end_time": "2024-04-10T14:51:48.605930Z",
     "start_time": "2024-04-10T14:51:47.754369Z"
    }
   },
   "id": "92bdeb67556cf284",
   "execution_count": 1
  },
  {
   "cell_type": "code",
   "outputs": [
    {
     "name": "stdout",
     "output_type": "stream",
     "text": [
      " The provided JSON object pertains to a 23-year-old male individual residing in Sri Lanka, Colombo, with a salary of 10,000 LKR. He does not have any known hidden diseases. In terms of his family profile, there are five members in his nucleus family, with a monthly income of 30,000 LKR and monthly expenses of 28,000 LKR, indicating a relatively balanced financial situation.\n"
     ]
    }
   ],
   "source": [
    "profile = {\n",
    "    # \"name\": \"Sineth\",\n",
    "    \"address\": \"Sri Lanka, Colombo\",\n",
    "    \"dob\": \"2000-09-18\",\n",
    "    \"gender\": \"male\",\n",
    "    \"salary (LKR)\": 10000,\n",
    "    \"hiddenDiseases\": [],\n",
    "    \"family\": {\n",
    "        \"numMembers\": 5,\n",
    "        \"monthlyIncome (LKR)\": 30000,\n",
    "        \"monthlyExpenses (LKR)\": 28000,\n",
    "        \"category\": \"nucleus\"\n",
    "    }\n",
    "}\n",
    "bio_data_profile = generate_summarized_profile(profile)\n",
    "print(bio_data_profile)"
   ],
   "metadata": {
    "collapsed": false,
    "ExecuteTime": {
     "end_time": "2024-04-10T14:51:55.325508Z",
     "start_time": "2024-04-10T14:51:50.379013Z"
    }
   },
   "id": "965d2425ef49953a",
   "execution_count": 2
  },
  {
   "cell_type": "code",
   "outputs": [
    {
     "name": "stdout",
     "output_type": "stream",
     "text": [
      " This individual's emotional profile demonstrates a predominant engagement with the emotion \"happy.\" The mostly engaging facial emotion is \"happy\" with a high arousal level (90%) and moderate positivity (60%), indicating strong feelings of joy or excitement. The engaging sentimental emotion is also \"happy,\" but with lower arousal (30%) and even lower positivity (20%). This suggests a more subdued and calm form of happiness. Overall, the emotional profile indicates a positive outlook, but the difference in arousal levels between the two emotions might imply varying intensities of happiness in different contexts.\n"
     ]
    }
   ],
   "source": [
    "profile = {\n",
    "    # \"name\": \"Smith\",\n",
    "    # \"gender\": \"male\",\n",
    "    \"emotionalProfile\": {\n",
    "        \"mostlyEngagingFacialEmotion\": {\n",
    "            \"emotion\": \"happy\",\n",
    "            \"avgArousal (percentage)\": 90,\n",
    "            \"avgValence (percentage)\": 60\n",
    "        },\n",
    "        \"mostlyEngagingSentimentalEmotion\": {\n",
    "            \"emotion\": \"happy\",\n",
    "            \"avgArousal (percentage)\": 30,\n",
    "            \"avgValence (percentage)\": 20\n",
    "        }\n",
    "    }\n",
    "}\n",
    "emotion_profile = generate_summarized_profile(profile)\n",
    "print(emotion_profile)"
   ],
   "metadata": {
    "collapsed": false,
    "ExecuteTime": {
     "end_time": "2024-04-10T14:52:02.541859Z",
     "start_time": "2024-04-10T14:51:58.645168Z"
    }
   },
   "id": "d0a4b40899df031c",
   "execution_count": 3
  },
  {
   "cell_type": "code",
   "outputs": [
    {
     "name": "stdout",
     "output_type": "stream",
     "text": [
      " Taking into account the provided personal bio data and emotional engagement profiles, several recommendations can be made for this individual.\n",
      "\n",
      "Firstly, considering the balanced financial situation of his nucleus family, it is suggested that this employee maintains his current employment status. This will ensure the stability of his family's income and expenses. Furthermore, with a salary of 10,000 LKR, he is contributing significantly to the overall family income, which is currently 30,000 LKR per month.\n",
      "\n",
      "Secondly, the employee's emotional disposition indicates a predominant engagement with the emotion \"happy.\" This is a positive attribute that can be leveraged in the workplace. Managers should consider assigning this employee tasks that require creativity and innovation, as positive emotions have been linked to enhanced problem-solving abilities and increased productivity.\n",
      "\n",
      "Additionally, the difference in arousal levels between the two \"happy\" emotions suggests varying intensities of happiness in different contexts. Therefore, it is recommended that managers provide a diverse range of tasks and responsibilities to this employee. This will allow him to experience different levels of arousal and maintain his overall emotional engagement.\n",
      "\n",
      "Finally, the employee's positive emotional disposition and balanced financial situation make him an ideal candidate for leadership roles in the future. Managers should consider providing him with opportunities for professional development and growth, such as training programs or mentorship opportunities. This will enable him to further enhance his skills and contribute positively to the organization.\n"
     ]
    }
   ],
   "source": [
    "recommendation = generate_profiles_into_recommendation(bio_data_profile, emotion_profile)\n",
    "print(recommendation)"
   ],
   "metadata": {
    "collapsed": false,
    "ExecuteTime": {
     "end_time": "2024-04-10T14:52:07.398071Z",
     "start_time": "2024-04-10T14:52:02.544857Z"
    }
   },
   "id": "109524b2ff1d74d1",
   "execution_count": 4
  },
  {
   "cell_type": "code",
   "outputs": [
    {
     "name": "stdout",
     "output_type": "stream",
     "text": [
      " Hello there! I'm really glad to see your predominant engagement with the emotion \"happy\"! It's wonderful to know that you're experiencing strong feelings of joy or excitement, as well as a more subdued and calm form of happiness. This is truly fantastic and I'm here to support you in maintaining this positive emotional well-being.\n",
      "\n",
      "However, I noticed that there's a difference in arousal levels between your facial emotion and sentimental emotion of happiness. Although this isn't negative in itself, it might imply varying intensities of happiness in different contexts. If you feel comfortable, could you share a bit more about what might be causing these differences? Understanding this could help us explore ways to maintain your high levels of happiness and joy.\n",
      "\n",
      "Remember, it's completely normal for emotions to fluctuate and it's important to acknowledge and accept all emotions as part of the human experience. But for now, let's focus on your positive emotions and how we can help you continue to nurture them. Keep up the great work and let's have a chat about this whenever you're ready! 😊👍\n"
     ]
    }
   ],
   "source": [
    "init_consultancy = generate_init_consultancy(bio_data_profile, emotion_profile)\n",
    "print(init_consultancy)"
   ],
   "metadata": {
    "collapsed": false,
    "ExecuteTime": {
     "end_time": "2024-04-10T14:52:51.256026Z",
     "start_time": "2024-04-10T14:52:43.973350Z"
    }
   },
   "id": "dc6eeefd12343799",
   "execution_count": 5
  },
  {
   "cell_type": "code",
   "outputs": [
    {
     "name": "stdout",
     "output_type": "stream",
     "text": [
      " 1. Acknowledge your feelings: It's okay to feel fear towards your boss if they have a demanding or intimidating nature. Similarly, it's understandable to feel anger towards toxic friends who may be negatively impacting your life.\n",
      "\n",
      "2. Identify the cause: Try to understand what exactly is causing these feelings. Is it their behaviour, their expectations, or something else? \n",
      "\n",
      "3. Communicate: If you feel safe and comfortable doing so, express your feelings to your boss in a respectful and constructive manner. They may not be aware of the impact of their behaviour.\n",
      "\n",
      "4. Set boundaries: With your toxic friends, it's important to set clear boundaries. Let them know what behaviour you find unacceptable and stick to your guns.\n",
      "\n",
      "5. Seek support: Don't bottle up your feelings. Talk to someone you trust about what you're going through. They can provide a fresh perspective and much-needed emotional support.\n",
      "\n",
      "6. Practice self-care: Make sure you're taking care of your physical and mental health. This can help you better manage stress and negative emotions.\n",
      "\n",
      "7. Evaluate the relationship: Consider whether the relationship with your boss or friends is truly beneficial for you. If not, it might be time to distance yourself.\n",
      "\n",
      "8. 🤝 Connect with positive people: Surround yourself with individuals who uplift and inspire you. This can help counterbalance the negative influence of toxic friends.\n",
      "\n",
      "9. 🧘‍♀️ Practise mindfulness: This can help you manage your reactions to difficult situations and people, reducing feelings of fear and anger.\n",
      "\n",
      "10. 😊 Stay positive: Remember, you're not alone in this. Many people face similar challenges. Stay optimistic and remember that you have the power to change your situation.\n"
     ]
    }
   ],
   "source": [
    "query = '''\n",
    "    I feel fear for my boss and feel anger upon my toxic friends\n",
    "    \n",
    "    Here is the profile recommendation: {profile_recommendation}\n",
    "'''\n",
    "\n",
    "query_consultancy = generate_query_consultancy(\n",
    "    query\n",
    ")\n",
    "print(query_consultancy)"
   ],
   "metadata": {
    "collapsed": false,
    "ExecuteTime": {
     "end_time": "2024-04-10T14:53:11.443322Z",
     "start_time": "2024-04-10T14:53:04.423299Z"
    }
   },
   "id": "837f11a318e279dd",
   "execution_count": 6
  },
  {
   "cell_type": "code",
   "outputs": [
    {
     "name": "stdout",
     "output_type": "stream",
     "text": [
      " 1. 💡 Seek professional help: Encourage the individual to attend a rehabilitation programme to address their addiction. This will not only benefit their health but also their financial situation.\n",
      "\n",
      "2. 📝 Budgeting: Assist the individual in creating a strict budget to manage their finances. This should include essential expenses only, such as food, housing, and healthcare.\n",
      "\n",
      "3. 💳 Prepaid cards: Consider using prepaid cards for daily expenses. This can help control spending and prevent overspending.\n",
      "\n",
      "4. 🔒 Save automatically: Set up automatic transfers to a savings account. This ensures that a portion of their income is saved before they have a chance to spend it.\n",
      "\n",
      "5. 🚫 Avoid payday loans: Encourage them to avoid payday loans and other high-interest loans. These can lead to a cycle of debt that is hard to escape.\n",
      "\n",
      "6. 🤝 Support network: Encourage them to lean on their support network. Friends and family can provide emotional support and help keep them accountable.\n",
      "\n",
      "7. 💼 Second income: If possible, encourage them to find a second source of income. This can help them get back on track financially.\n",
      "\n",
      "8. 📅 Regular reviews: Regularly review and adjust their budget as needed. This will help them stay on track and adapt to any changes in their income or expenses.\n",
      "\n",
      "9. 📚 Financial education: Encourage them to educate themselves about personal finance. This can help them make informed decisions and avoid financial pitfalls in the future.\n",
      "\n",
      "10. 😊 Stay positive: Remember that recovery is a journey. Celebrate small victories and stay positive. With time, effort, and the right support, it is possible to regain control of their finances. 💪\n"
     ]
    }
   ],
   "source": [
    "query = '''\n",
    "    How to maintain financial practices when someone addicted with alcohol and drugs?\n",
    "    \n",
    "    Here is the profile recommendation: {profile_recommendation}\n",
    "'''\n",
    "query_consultancy = generate_query_consultancy(\n",
    "    query\n",
    ")\n",
    "print(query_consultancy)"
   ],
   "metadata": {
    "collapsed": false,
    "ExecuteTime": {
     "end_time": "2024-04-10T14:54:24.014454Z",
     "start_time": "2024-04-10T14:54:18.623693Z"
    }
   },
   "id": "983ee7a4c8cbc6c9",
   "execution_count": 7
  },
  {
   "cell_type": "code",
   "outputs": [
    {
     "name": "stdout",
     "output_type": "stream",
     "text": [
      " 1. 🧘‍♀️ Practise Mindfulness Meditation: Allocate a quiet space in your daily routine for mindfulness meditation. This technique can help you stay focused on the present moment, reducing anxiety and stress.\n",
      "\n",
      "2. 🥗 Healthy Eating 🍎: Maintain a balanced diet to keep your energy levels stable. Avoid excessive caffeine and sugar, which can exacerbate stress levels. Include fruits, vegetables, lean proteins, and whole grains in your meals.\n",
      "\n",
      "3. 💤 Adequate Sleep 😴: Ensure you're getting enough sleep each night. Aim for 7-9 hours of sleep. Lack of sleep can increase stress and affect your overall well-being. Establish a regular sleep schedule and create a relaxing bedtime routine.\n",
      "\n",
      "4. 🚫 Limit Screen Time 📱: Reduce the time spent on electronic devices, especially before bedtime. The blue light emitted from these devices can interfere with your sleep patterns and increase stress levels.\n",
      "\n",
      "5. 🏃‍♀️ Regular Exercise 🏋️‍♂️: Engage in physical activities that you enjoy. Regular exercise can help reduce stress, improve mood, and promote better sleep.\n",
      "\n",
      "6. 🤝 Seek Social Support 👨‍👩‍👧‍👦: Spend quality time with friends and family. Social connections can provide emotional support and help you manage stress.\n",
      "\n",
      "7. 🧘‍♂️ Yoga and Deep Breathing 🌬: Practise yoga and deep breathing exercises to help calm your mind and reduce stress. These techniques can be done anywhere at any time.\n",
      "\n",
      "8. 📝 Journaling 📔: Write down your thoughts and feelings in a journal. This can help you process emotions and reduce stress.\n",
      "\n",
      "9. 🎶 Listen to Soothing Music 🎵: Incorporate soothing music into your daily routine. This can help create a calming environment and reduce stress levels.\n",
      "\n",
      "10. 😊 Embrace Positivity 🌞: Focus on the positive aspects of your life. Practise gratitude and surround yourself with positivity to help manage stress.\n"
     ]
    }
   ],
   "source": [
    "query = '''\n",
    "suggest me 3 techniques that I may follow to overcome over stress,\n",
    "\n",
    "this is about me: {profile_recommendation}\n",
    "\n",
    "'''\n",
    "query_consultancy = generate_query_consultancy(\n",
    "    query\n",
    ")\n",
    "print(query_consultancy)"
   ],
   "metadata": {
    "collapsed": false,
    "ExecuteTime": {
     "end_time": "2024-04-10T14:55:40.931136Z",
     "start_time": "2024-04-10T14:55:34.310941Z"
    }
   },
   "id": "bd3e837f4a0f5187",
   "execution_count": 8
  },
  {
   "cell_type": "code",
   "outputs": [],
   "source": [],
   "metadata": {
    "collapsed": false
   },
   "id": "6763a7116e9537a"
  }
 ],
 "metadata": {
  "kernelspec": {
   "display_name": "Python 3",
   "language": "python",
   "name": "python3"
  },
  "language_info": {
   "codemirror_mode": {
    "name": "ipython",
    "version": 2
   },
   "file_extension": ".py",
   "mimetype": "text/x-python",
   "name": "python",
   "nbconvert_exporter": "python",
   "pygments_lexer": "ipython2",
   "version": "2.7.6"
  }
 },
 "nbformat": 4,
 "nbformat_minor": 5
}
