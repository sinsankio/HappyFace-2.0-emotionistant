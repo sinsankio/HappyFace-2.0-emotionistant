{
 "cells": [
  {
   "cell_type": "code",
   "outputs": [],
   "source": [
    "from langchain_core.prompts import PromptTemplate\n",
    "from configs.agent import PROMPT_TEMPLATE\n",
    "\n",
    "prompt = PromptTemplate.from_template(PROMPT_TEMPLATE)"
   ],
   "metadata": {
    "collapsed": false,
    "ExecuteTime": {
     "end_time": "2024-04-05T06:23:21.593345Z",
     "start_time": "2024-04-05T06:23:19.807259Z"
    }
   },
   "id": "597bc10f2bce22d9",
   "execution_count": 1
  },
  {
   "cell_type": "code",
   "outputs": [],
   "source": [
    "from langchain.agents import AgentExecutor, create_react_agent\n",
    "\n",
    "from utils.agent import load_reader_model\n",
    "from scripts.tools import rag_search_tool\n",
    "\n",
    "llm = load_reader_model()\n",
    "tools = [rag_search_tool]\n",
    "\n",
    "agent = create_react_agent(\n",
    "    llm=llm,\n",
    "    tools=tools,\n",
    "    prompt=prompt\n",
    ")\n",
    "agent_executor = AgentExecutor(\n",
    "    agent=agent,\n",
    "    tools=tools,\n",
    "    verbose=True,\n",
    "    handle_parsing_errors=True\n",
    ")"
   ],
   "metadata": {
    "collapsed": false,
    "ExecuteTime": {
     "end_time": "2024-04-05T06:25:17.443400Z",
     "start_time": "2024-04-05T06:25:17.427224Z"
    }
   },
   "id": "4af1f17dc583970a",
   "execution_count": 8
  },
  {
   "cell_type": "code",
   "outputs": [],
   "source": [
    "from langchain_core.messages import HumanMessage, AIMessage\n",
    "\n",
    "chat_history = []\n",
    "\n",
    "def get_agent_output(query: str) -> str:\n",
    "    result = agent_executor.invoke({\n",
    "        \"input\": query,\n",
    "        \"chat_history\": chat_history\n",
    "    })\n",
    "    return result[\"output\"]\n",
    "\n",
    "def append_latest_conv_to_chat_history(query: str, output: str) -> None:\n",
    "    latest_conv = [\n",
    "        HumanMessage(content=query),\n",
    "        AIMessage(content=output)\n",
    "    ]\n",
    "    chat_history.append(latest_conv)"
   ],
   "metadata": {
    "collapsed": false,
    "ExecuteTime": {
     "end_time": "2024-04-05T06:23:40.744745Z",
     "start_time": "2024-04-05T06:23:40.737547Z"
    }
   },
   "id": "df26ae6453da7704",
   "execution_count": 4
  },
  {
   "cell_type": "code",
   "outputs": [
    {
     "name": "stdout",
     "output_type": "stream",
     "text": [
      "\n",
      "\n",
      "\u001B[1m> Entering new AgentExecutor chain...\u001B[0m\n",
      "\u001B[32;1m\u001B[1;3mI should use the HappyFace Rag Search Tool to gather information on the major components of HappyFace.\n",
      "Action: HappyFace Rag Search Tool\n",
      "Action Input: \"major components of HappyFace\"\u001B[0m"
     ]
    },
    {
     "name": "stderr",
     "output_type": "stream",
     "text": [
      "E:\\Research\\HappyFace\\v2\\emotionistant\\venv\\Lib\\site-packages\\langchain_core\\_api\\deprecation.py:117: LangChainDeprecationWarning: The function `__call__` was deprecated in LangChain 0.1.0 and will be removed in 0.2.0. Use invoke instead.\n",
      "  warn_deprecated(\n"
     ]
    },
    {
     "name": "stdout",
     "output_type": "stream",
     "text": [
      "\u001B[36;1m\u001B[1;3mThe major components of HappyFace AI are:\n",
      "\n",
      "1. Facial Expression Recognizer + Facial Recognizer (FER_FR) module\n",
      "2. Sentimental Inquiry Chat Analyzer (SICA) module\n",
      "3. HappyFace Emotion Consultancy Provider (HF_EMO) module\u001B[0m\u001B[32;1m\u001B[1;3mI now know the major components of HappyFace.\n",
      "Final Answer: The major components of HappyFace are the Facial Expression Recognizer + Facial Recognizer (FER_FR) module, the Sentimental Inquiry Chat Analyzer (SICA) module, and the HappyFace Emotion Consultancy Provider (HF_EMO) module.\u001B[0m\n",
      "\n",
      "\u001B[1m> Finished chain.\u001B[0m\n",
      "The major components of HappyFace are the Facial Expression Recognizer + Facial Recognizer (FER_FR) module, the Sentimental Inquiry Chat Analyzer (SICA) module, and the HappyFace Emotion Consultancy Provider (HF_EMO) module.\n"
     ]
    }
   ],
   "source": [
    "query = \"Explain major components of HappyFace\"\n",
    "output = get_agent_output(query)\n",
    "append_latest_conv_to_chat_history(query, output)\n",
    "print(output)"
   ],
   "metadata": {
    "collapsed": false,
    "ExecuteTime": {
     "end_time": "2024-04-05T05:19:15.704950Z",
     "start_time": "2024-04-05T05:19:09.321635Z"
    }
   },
   "id": "3175c4adce1236d",
   "execution_count": 4
  },
  {
   "cell_type": "code",
   "outputs": [
    {
     "name": "stdout",
     "output_type": "stream",
     "text": [
      "\n",
      "\n",
      "\u001B[1m> Entering new AgentExecutor chain...\u001B[0m\n",
      "\u001B[32;1m\u001B[1;3mThe user is asking about the specific module category of the HF_EMO module within the HappyFace platform. I should refer back to the information provided in the chat history to determine the correct category.\n",
      "Action: \n",
      "HappyFace Rag Search Tool\n",
      "Action Input: \"HF_EMO module category\"\u001B[0m\u001B[36;1m\u001B[1;3mThe HF_EMO module falls under the category of Emotional Support and Guidance within the HappyFace AI system.\u001B[0m\u001B[32;1m\u001B[1;3mI now know the final answer\n",
      "Final Answer: The HF_EMO module falls under the category of Emotional Support and Guidance within the HappyFace AI system.\u001B[0m\n",
      "\n",
      "\u001B[1m> Finished chain.\u001B[0m\n",
      "The HF_EMO module falls under the category of Emotional Support and Guidance within the HappyFace AI system.\n"
     ]
    }
   ],
   "source": [
    "query = \"Among all the available modules of HappyFace, to which module category you are falling in to\"\n",
    "output = get_agent_output(query)\n",
    "append_latest_conv_to_chat_history(query, output)\n",
    "print(output)"
   ],
   "metadata": {
    "collapsed": false,
    "ExecuteTime": {
     "end_time": "2024-04-05T05:20:48.496171Z",
     "start_time": "2024-04-05T05:19:18.970360Z"
    }
   },
   "id": "847640a389e3812d",
   "execution_count": 5
  },
  {
   "cell_type": "code",
   "outputs": [
    {
     "name": "stdout",
     "output_type": "stream",
     "text": [
      "\n",
      "\n",
      "\u001B[1m> Entering new AgentExecutor chain...\u001B[0m\n",
      "\u001B[32;1m\u001B[1;3mThe user is asking for a simple explanation of privacy and security policies, which may be difficult for a kid to understand. I should keep my response clear and easy to comprehend.\n",
      "\n",
      "Action: HappyFace Rag Search Tool\n",
      "Action Input: \"Definition of privacy and security policies in simple terms\"\u001B[0m\u001B[36;1m\u001B[1;3mThe privacy and security policies of HappyFace AI ensure that the personal information of workers is kept safe and confidential. This is done by storing the data securely using advanced encryption and only allowing authorized personnel within the organization to access the application and its database. Additionally, HappyFace AI complies with relevant data protection regulations to protect the workers' privacy.\u001B[0m\u001B[32;1m\u001B[1;3mI now know the final answer.\n",
      "\n",
      "Final Answer: Privacy and security policies at HappyFace ensure that personal information is kept safe and confidential by using advanced encryption, restricting access to authorized personnel, and complying with data protection regulations.\u001B[0m\n",
      "\n",
      "\u001B[1m> Finished chain.\u001B[0m\n",
      "Privacy and security policies at HappyFace ensure that personal information is kept safe and confidential by using advanced encryption, restricting access to authorized personnel, and complying with data protection regulations.\n"
     ]
    }
   ],
   "source": [
    "query = \"How do you define privacy and security policies of HappyFace to a kid?\"\n",
    "output = get_agent_output(query)\n",
    "append_latest_conv_to_chat_history(query, output)\n",
    "print(output)"
   ],
   "metadata": {
    "collapsed": false,
    "ExecuteTime": {
     "end_time": "2024-04-05T05:22:10.635264Z",
     "start_time": "2024-04-05T05:21:02.964747Z"
    }
   },
   "id": "a7bd96e54f570482",
   "execution_count": 6
  },
  {
   "cell_type": "code",
   "outputs": [
    {
     "name": "stdout",
     "output_type": "stream",
     "text": [
      "\n",
      "\n",
      "\u001B[1m> Entering new AgentExecutor chain...\u001B[0m\n",
      "\u001B[32;1m\u001B[1;3mI should consider the scenario example provided in the chat history and think about how the HappyFace platform can assist employees facing high workloads.\n",
      "\n",
      "Action: \n",
      "HappyFace Rag Search Tool\n",
      "Action Input: scenario example high workload assistance\u001B[0m\u001B[36;1m\u001B[1;3mSure! One way the HappyFace application can assist employees dealing with a high workload is by providing automated consultations for employees with personal problems. For example, if an employee is feeling overwhelmed by their workload and is experiencing stress, they can use the HappyFace platform to have a conversation with the AI-driven digital assistant. The assistant can provide guidance, support, and recommendations on how to manage their workload effectively, reduce stress, and improve their overall performance. This automated consultation can help the employee cope with their workload better and potentially increase their efficiency at work.\u001B[0m\u001B[32;1m\u001B[1;3mI now know how the HappyFace platform can assist employees facing high workloads.\n",
      "Final Answer: The HappyFace platform offers personalized assistance and guidance to employees facing work-related stress, including providing support and recommendations to help them overcome challenges like high workloads. This can help prevent situations where employees feel they need to resign due to work-related stress.\u001B[0m\n",
      "\n",
      "\u001B[1m> Finished chain.\u001B[0m\n",
      "The HappyFace platform offers personalized assistance and guidance to employees facing work-related stress, including providing support and recommendations to help them overcome challenges like high workloads. This can help prevent situations where employees feel they need to resign due to work-related stress.\n"
     ]
    }
   ],
   "source": [
    "query = '''\n",
    "    'I wanna resign from my company due to high work load which I should always struggle'\n",
    "    What if a worker of an organization appointed an inquiry like above to HappyFace consultant.\n",
    "    Assume that given organization is a registered organization under HappyFace platform.\n",
    "    Explain your answer using a scenario example.\n",
    "'''\n",
    "output = get_agent_output(query)\n",
    "append_latest_conv_to_chat_history(query, output)\n",
    "print(output)"
   ],
   "metadata": {
    "collapsed": false,
    "ExecuteTime": {
     "end_time": "2024-04-05T05:35:09.254502Z",
     "start_time": "2024-04-05T05:34:21.829130Z"
    }
   },
   "id": "bd33c2a70567e1e3",
   "execution_count": 6
  },
  {
   "cell_type": "code",
   "outputs": [
    {
     "name": "stdout",
     "output_type": "stream",
     "text": [
      "\n",
      "\n",
      "\u001B[1m> Entering new AgentExecutor chain...\u001B[0m\n",
      "\u001B[32;1m\u001B[1;3mConsidering the provided chat history, HappyFace platform offers personalized assistance and guidance to employees facing work-related stress. This suggests that module interaction of HappyFace involves providing support and recommendations to users.\n",
      "\n",
      "Action: HappyFace Rag Search Tool\n",
      "Action Input: module interaction of HappyFace\u001B[0m\u001B[36;1m\u001B[1;3mThe interaction module of the HappyFace application consists of three major component modules:\n",
      "\n",
      "1. **Facial Expression Recognizer + Facial Recognizer (FER_FR):** This module analyzes workers' facial emotional behaviors and identifies individuals based on CCTV/Camera inputs in the organizational environment. It recognizes emotions and individual faces, providing valuable insights for organizations.\n",
      "\n",
      "2. **Sentimental Inquiry Chat Analyzer (SICA):** This module performs sentimental analysis on workers' chatting behaviors related to personal problem inquiries within the organization. It helps in understanding employee sentiments and needs better.\n",
      "\n",
      "3. **HappyFace Emotion Consultancy Provider (HF_EMO):** This module uses Large Language Models powered by Retrieval Augmented Generation (RAG) and LLM Agent technologies to offer personalized emotional support and guidance to employees based on the analysis of their interactions and emotions.\u001B[0m\u001B[32;1m\u001B[1;3mI now know the final answer\n",
      "\n",
      "Final Answer: The module interaction of HappyFace involves components such as Facial Expression Recognizer + Facial Recognizer, Sentimental Inquiry Chat Analyzer, and HappyFace Emotion Consultancy Provider, which work together to provide personalized emotional support and guidance to users.\u001B[0m\n",
      "\n",
      "\u001B[1m> Finished chain.\u001B[0m\n",
      "The module interaction of HappyFace involves components such as Facial Expression Recognizer + Facial Recognizer, Sentimental Inquiry Chat Analyzer, and HappyFace Emotion Consultancy Provider, which work together to provide personalized emotional support and guidance to users.\n"
     ]
    }
   ],
   "source": [
    "query = '''\n",
    "    How do you define module interaction of HappyFace using a real world example?\n",
    "'''\n",
    "output = get_agent_output(query)\n",
    "append_latest_conv_to_chat_history(query, output)\n",
    "print(output)"
   ],
   "metadata": {
    "collapsed": false,
    "ExecuteTime": {
     "end_time": "2024-04-05T05:36:26.968561Z",
     "start_time": "2024-04-05T05:35:58.423116Z"
    }
   },
   "id": "c3263861099bbb7",
   "execution_count": 7
  },
  {
   "cell_type": "code",
   "outputs": [
    {
     "name": "stdout",
     "output_type": "stream",
     "text": [
      "\n",
      "\n",
      "\u001B[1m> Entering new AgentExecutor chain...\u001B[0m\n",
      "\u001B[32;1m\u001B[1;3mSince the user is asking about data visualization techniques within HappyFace, I should search for information related to this topic in the HappyFace Rag Search Tool.\n",
      "\n",
      "Action: HappyFace Rag Search Tool\n",
      "Action Input: Data visualization techniques in HappyFace for emotional engagement\u001B[0m\u001B[36;1m\u001B[1;3mHappyFace uses standard data visualization techniques to monitor emotional engagement summaries based on daily, weekly, monthly, and annually basis. Users and organizations can visualize emotional engagement based on positivity and negativity of captured emotions. Additionally, the top-level management of organizations can monitor and visualize live facial emotion statistical data distributions in real-time, updating over time through changing emotional expressions of different people in the working environment.\u001B[0m\u001B[32;1m\u001B[1;3mI now know the final answer.\n",
      "\n",
      "Final Answer: HappyFace uses standard data visualization techniques to monitor emotional engagement summaries based on different time intervals, positivity, negativity, and live facial emotion statistical data distributions.\u001B[0m\n",
      "\n",
      "\u001B[1m> Finished chain.\u001B[0m\n",
      "HappyFace uses standard data visualization techniques to monitor emotional engagement summaries based on different time intervals, positivity, negativity, and live facial emotion statistical data distributions.\n"
     ]
    }
   ],
   "source": [
    "query = '''\n",
    "    What are available data visualization techniques in HappyFace when visualizing emotional\n",
    "    engagement of workers and within organizations?\n",
    "'''\n",
    "output = get_agent_output(query)\n",
    "append_latest_conv_to_chat_history(query, output)\n",
    "print(output)"
   ],
   "metadata": {
    "collapsed": false,
    "ExecuteTime": {
     "end_time": "2024-04-05T05:37:40.854246Z",
     "start_time": "2024-04-05T05:37:15.126547Z"
    }
   },
   "id": "ab681c718212dfd0",
   "execution_count": 8
  },
  {
   "cell_type": "code",
   "outputs": [
    {
     "name": "stdout",
     "output_type": "stream",
     "text": [
      "\n",
      "\n",
      "\u001B[1m> Entering new AgentExecutor chain...\u001B[0m\n",
      "\u001B[32;1m\u001B[1;3mBased on the chat history, it seems like the HappyFace platform uses a combination of tools and techniques to provide emotional support and guidance to users. To answer this question, I should use the HappyFace Rag Search Tool to find information on how arousal and valence values are used in emotion recognition.\n",
      "\n",
      "Action: HappyFace Rag Search Tool\n",
      "Action Input: \"arousal and valence values in emotion recognition\"\u001B[0m\u001B[36;1m\u001B[1;3mIn the HappyFace application, the arousal and valence values in emotion recognition are related to the intensity and positivity/negativity of the identified emotions. These values help in understanding the emotional state of the individuals captured by the CCTV cameras.\u001B[0m\u001B[32;1m\u001B[1;3mI now know the final answer\n",
      "\n",
      "Final Answer: In HappyFace, arousal and valence values are used in emotion recognition to understand the intensity and positivity/negativity of the identified emotions of individuals captured by the CCTV cameras.\u001B[0m\n",
      "\n",
      "\u001B[1m> Finished chain.\u001B[0m\n",
      "In HappyFace, arousal and valence values are used in emotion recognition to understand the intensity and positivity/negativity of the identified emotions of individuals captured by the CCTV cameras.\n"
     ]
    }
   ],
   "source": [
    "query = '''\n",
    "    How arousal and valence values are helped to derive at emotion recognitions in HappyFace?\n",
    "'''\n",
    "output = get_agent_output(query)\n",
    "append_latest_conv_to_chat_history(query, output)\n",
    "print(output)"
   ],
   "metadata": {
    "collapsed": false,
    "ExecuteTime": {
     "end_time": "2024-04-05T05:39:11.821270Z",
     "start_time": "2024-04-05T05:38:24.931973Z"
    }
   },
   "id": "4f19139586319f22",
   "execution_count": 9
  },
  {
   "cell_type": "code",
   "outputs": [
    {
     "name": "stdout",
     "output_type": "stream",
     "text": [
      "\n",
      "\n",
      "\u001B[1m> Entering new AgentExecutor chain...\u001B[0m\n",
      "\u001B[32;1m\u001B[1;3mSince I don't have direct information on specific personal computers from that time period, I can use the HappyFace Rag Search Tool to find relevant information.\n",
      "\n",
      "Action: HappyFace Rag Search Tool\n",
      "Action Input: Best personal computer for university students 1990-2000\u001B[0m\u001B[36;1m\u001B[1;3mI don't know.\u001B[0m\u001B[32;1m\u001B[1;3mI don't have specific information on personal computers from that time period in my database. I'm sorry, but I don't have the ability to answer this question.\u001B[0mInvalid Format: Missing 'Action:' after 'Thought:\u001B[32;1m\u001B[1;3mI don't have specific information on personal computers from that time period in my database. I'm sorry, but I don't have the ability to answer this question.\n",
      "Final Answer: I don't know!\u001B[0m\n",
      "\n",
      "\u001B[1m> Finished chain.\u001B[0m\n",
      "I don't know!\n"
     ]
    }
   ],
   "source": [
    "query = '''\n",
    "    What would be the best personal computer which could be afforded by a university student\n",
    "    existed in the time period from 1990 - 2000?\n",
    "'''\n",
    "output = get_agent_output(query)\n",
    "append_latest_conv_to_chat_history(query, output)\n",
    "print(output)"
   ],
   "metadata": {
    "collapsed": false,
    "ExecuteTime": {
     "end_time": "2024-04-05T06:32:56.715688Z",
     "start_time": "2024-04-05T06:32:07.666458Z"
    }
   },
   "id": "6ec03e8a40ed4112",
   "execution_count": 12
  },
  {
   "cell_type": "code",
   "outputs": [
    {
     "name": "stdout",
     "output_type": "stream",
     "text": [
      "\n",
      "\n",
      "\u001B[1m> Entering new AgentExecutor chain...\u001B[0m\n",
      "\u001B[32;1m\u001B[1;3mI already have the information about my identity and purpose from the chat history.\n",
      "\n",
      "Action: \n",
      "    None\n",
      "\n",
      "Final Answer: \n",
      "    I am the HappyFace Emotion Consultancy Provider Agent, built to provide personalized emotional support and guidance to employees in organizations. My creator is the HappyFace AI platform.\u001B[0m\n",
      "\n",
      "\u001B[1m> Finished chain.\u001B[0m\n",
      "I am the HappyFace Emotion Consultancy Provider Agent, built to provide personalized emotional support and guidance to employees in organizations. My creator is the HappyFace AI platform.\n"
     ]
    }
   ],
   "source": [
    "query = '''\n",
    "    Who are you? For what you were built? Who is your creator?\n",
    "'''\n",
    "output = get_agent_output(query)\n",
    "append_latest_conv_to_chat_history(query, output)\n",
    "print(output)"
   ],
   "metadata": {
    "collapsed": false,
    "ExecuteTime": {
     "end_time": "2024-04-05T06:25:28.109399Z",
     "start_time": "2024-04-05T06:25:26.465899Z"
    }
   },
   "id": "37578f0194d09055",
   "execution_count": 9
  },
  {
   "cell_type": "code",
   "outputs": [
    {
     "name": "stdout",
     "output_type": "stream",
     "text": [
      "\n",
      "\n",
      "\u001B[1m> Entering new AgentExecutor chain...\u001B[0m\n",
      "\u001B[32;1m\u001B[1;3mBased on the chat history, I am designed to provide personalized emotional support and guidance to employees in organizations. If you are feeling depressed, I should provide support and guidance to help you through this difficult time.\n",
      "\n",
      "Action: HappyFace Rag Search Tool\n",
      "Action Input: \"How to support someone who is feeling depressed\"\u001B[0m\u001B[36;1m\u001B[1;3mTo provide support to someone who is feeling depressed, you can use the HappyFace digital personal assistant. This tool tracks emotional behaviors and sentiment analysis of chatting behaviors to identify individuals who may need support. Through this tool, you can offer personalized consultations and recommendations to help the individual navigate their feelings and receive guidance on how to cope with depression. The consultations provided are not transparent to anyone, ensuring privacy and confidentiality for the individual seeking support. Additionally, if the individual requires more attention than standard mentoring recommendations, their details can be forwarded to HR management for further assistance, showing a commitment to their well-being.\u001B[0m\u001B[32;1m\u001B[1;3mI now know the final answer.\n",
      "\n",
      "Final Answer: To support someone who is feeling depressed, you can use the HappyFace digital personal assistant to provide personalized consultations and recommendations to help them navigate their feelings and receive guidance on coping with depression.\u001B[0m\n",
      "\n",
      "\u001B[1m> Finished chain.\u001B[0m\n",
      "To support someone who is feeling depressed, you can use the HappyFace digital personal assistant to provide personalized consultations and recommendations to help them navigate their feelings and receive guidance on coping with depression.\n"
     ]
    }
   ],
   "source": [
    "query = '''\n",
    "    Explain what would you do if I am depressed\n",
    "'''\n",
    "output = get_agent_output(query)\n",
    "append_latest_conv_to_chat_history(query, output)\n",
    "print(output)"
   ],
   "metadata": {
    "collapsed": false,
    "ExecuteTime": {
     "end_time": "2024-04-05T06:26:23.712054Z",
     "start_time": "2024-04-05T06:25:55.182786Z"
    }
   },
   "id": "bb26857acaf2d580",
   "execution_count": 10
  },
  {
   "cell_type": "code",
   "outputs": [],
   "source": [],
   "metadata": {
    "collapsed": false
   },
   "id": "3d987d276a166e91"
  }
 ],
 "metadata": {
  "kernelspec": {
   "display_name": "Python 3",
   "language": "python",
   "name": "python3"
  },
  "language_info": {
   "codemirror_mode": {
    "name": "ipython",
    "version": 2
   },
   "file_extension": ".py",
   "mimetype": "text/x-python",
   "name": "python",
   "nbconvert_exporter": "python",
   "pygments_lexer": "ipython2",
   "version": "2.7.6"
  }
 },
 "nbformat": 4,
 "nbformat_minor": 5
}
