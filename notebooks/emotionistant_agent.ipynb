{
 "cells": [
  {
   "cell_type": "code",
   "outputs": [],
   "source": [
    "from langchain_core.prompts import PromptTemplate\n",
    "from configs.agent import PROMPT_TEMPLATE\n",
    "\n",
    "prompt = PromptTemplate.from_template(PROMPT_TEMPLATE)"
   ],
   "metadata": {
    "collapsed": false,
    "ExecuteTime": {
     "end_time": "2024-04-05T09:49:55.979750Z",
     "start_time": "2024-04-05T09:49:53.126813Z"
    }
   },
   "id": "597bc10f2bce22d9",
   "execution_count": 1
  },
  {
   "cell_type": "code",
   "outputs": [],
   "source": [
    "from langchain.agents import AgentExecutor, create_react_agent\n",
    "from langchain.tools.render import render_text_description_and_args\n",
    "\n",
    "from utils.agent import load_reader_model\n",
    "from scripts.tools import RagSearchTool\n",
    "\n",
    "llm = load_reader_model()\n",
    "tools = [RagSearchTool()]\n",
    "\n",
    "agent = create_react_agent(\n",
    "    llm=llm,\n",
    "    tools=tools,\n",
    "    prompt=prompt,\n",
    "    tools_renderer=render_text_description_and_args\n",
    ")\n",
    "agent_executor = AgentExecutor(\n",
    "    agent=agent,\n",
    "    tools=tools,\n",
    "    verbose=True,\n",
    "    handle_parsing_errors=True\n",
    ")"
   ],
   "metadata": {
    "collapsed": false,
    "ExecuteTime": {
     "end_time": "2024-04-05T09:50:09.930131Z",
     "start_time": "2024-04-05T09:50:01.673776Z"
    }
   },
   "id": "4af1f17dc583970a",
   "execution_count": 2
  },
  {
   "cell_type": "code",
   "outputs": [],
   "source": [
    "from langchain_core.messages import HumanMessage, AIMessage\n",
    "\n",
    "chat_history = []\n",
    "\n",
    "def get_agent_output(query: str) -> str:\n",
    "    result = agent_executor.invoke({\n",
    "        \"input\": query,\n",
    "        \"chat_history\": chat_history\n",
    "    })\n",
    "    return result[\"output\"]\n",
    "\n",
    "def append_latest_conv_to_chat_history(query: str, output: str) -> None:\n",
    "    latest_conv = [\n",
    "        HumanMessage(content=query),\n",
    "        AIMessage(content=output)\n",
    "    ]\n",
    "    chat_history.append(latest_conv)"
   ],
   "metadata": {
    "collapsed": false,
    "ExecuteTime": {
     "end_time": "2024-04-05T09:50:11.919699Z",
     "start_time": "2024-04-05T09:50:11.909725Z"
    }
   },
   "id": "df26ae6453da7704",
   "execution_count": 3
  },
  {
   "cell_type": "code",
   "outputs": [
    {
     "name": "stdout",
     "output_type": "stream",
     "text": [
      "\n",
      "\n",
      "\u001B[1m> Entering new AgentExecutor chain...\u001B[0m\n",
      "\u001B[32;1m\u001B[1;3mThought: The user is asking about the major components of the HappyFace platform. I should provide a comprehensive explanation to assist them better.\n",
      "\n",
      "Action: HappyFace Rag Search Tool\n",
      "Action Input: {'title': 'Major components of HappyFace'}\u001B[0m"
     ]
    },
    {
     "name": "stderr",
     "output_type": "stream",
     "text": [
      "E:\\Research\\HappyFace\\v2\\emotionistant\\venv\\Lib\\site-packages\\langchain_core\\_api\\deprecation.py:117: LangChainDeprecationWarning: The function `__call__` was deprecated in LangChain 0.1.0 and will be removed in 0.2.0. Use invoke instead.\n",
      "  warn_deprecated(\n"
     ]
    },
    {
     "name": "stdout",
     "output_type": "stream",
     "text": [
      "\u001B[36;1m\u001B[1;3mThe major components of HappyFace are:\n",
      "\n",
      "1. Facial Expression Recognizer + Facial Recognizer (FER_FR)\n",
      "2. Sentimental Inquiry Chat Analyzer (SICA)\n",
      "3. HappyFace Emotion Consultancy Provider (HF_EMO)\u001B[0m\u001B[32;1m\u001B[1;3mI now know the final answer\n",
      "\n",
      "Final Answer: The major components of HappyFace are:\n",
      "1. Facial Expression Recognizer + Facial Recognizer (FER_FR)\n",
      "2. Sentimental Inquiry Chat Analyzer (SICA)\n",
      "3. HappyFace Emotion Consultancy Provider (HF_EMO)\u001B[0m\n",
      "\n",
      "\u001B[1m> Finished chain.\u001B[0m\n",
      "The major components of HappyFace are:\n",
      "1. Facial Expression Recognizer + Facial Recognizer (FER_FR)\n",
      "2. Sentimental Inquiry Chat Analyzer (SICA)\n",
      "3. HappyFace Emotion Consultancy Provider (HF_EMO)\n"
     ]
    }
   ],
   "source": [
    "query = \"Explain major components of HappyFace\"\n",
    "output = get_agent_output(query)\n",
    "append_latest_conv_to_chat_history(query, output)\n",
    "print(output)"
   ],
   "metadata": {
    "collapsed": false,
    "ExecuteTime": {
     "end_time": "2024-04-05T09:50:24.147085Z",
     "start_time": "2024-04-05T09:50:13.194126Z"
    }
   },
   "id": "3175c4adce1236d",
   "execution_count": 4
  },
  {
   "cell_type": "code",
   "outputs": [
    {
     "name": "stdout",
     "output_type": "stream",
     "text": [
      "\n",
      "\n",
      "\u001B[1m> Entering new AgentExecutor chain...\u001B[0m\n",
      "\u001B[32;1m\u001B[1;3mThought: The user is asking about the specific module category that the HappyFace Emotion Consultancy Provider falls under. Given the chat history provided, I can see that the HappyFace Emotion Consultancy Provider (HF_EMO) is one of the major components of HappyFace. To determine the module category it falls into, I can use the HappyFace Rag Search Tool to find relevant information.\n",
      "\n",
      "Action: HappyFace Rag Search Tool\n",
      "Action Input: {'query': 'Module category of HappyFace Emotion Consultancy Provider'}\u001B[0m\u001B[36;1m\u001B[1;3mThe module category of the HappyFace Emotion Consultancy Provider (HF_EMO) is an end-to-end encrypted intelligent consultant module.\u001B[0m\u001B[32;1m\u001B[1;3mI now know the final answer\n",
      "\n",
      "Final Answer: The HappyFace Emotion Consultancy Provider (HF_EMO) falls under the module category of an end-to-end encrypted intelligent consultant module.\u001B[0m\n",
      "\n",
      "\u001B[1m> Finished chain.\u001B[0m\n",
      "The HappyFace Emotion Consultancy Provider (HF_EMO) falls under the module category of an end-to-end encrypted intelligent consultant module.\n"
     ]
    }
   ],
   "source": [
    "query = \"Among all the available modules of HappyFace, to which module category you are falling in to\"\n",
    "output = get_agent_output(query)\n",
    "append_latest_conv_to_chat_history(query, output)\n",
    "print(output)"
   ],
   "metadata": {
    "collapsed": false,
    "ExecuteTime": {
     "end_time": "2024-04-05T09:51:37.222935Z",
     "start_time": "2024-04-05T09:50:29.428250Z"
    }
   },
   "id": "847640a389e3812d",
   "execution_count": 5
  },
  {
   "cell_type": "code",
   "outputs": [
    {
     "name": "stdout",
     "output_type": "stream",
     "text": [
      "\n",
      "\n",
      "\u001B[1m> Entering new AgentExecutor chain...\u001B[0m\n",
      "\u001B[32;1m\u001B[1;3mConsidering the user is a kid, I should simplify my explanation and use language that is easy to understand. I can refer to the chat history to gather information about the privacy and security policies of HappyFace.\n",
      "\n",
      "Action: \n",
      "HappyFace Rag Search Tool\n",
      "Action Input:\n",
      "{'query': {'title': 'Privacy and Security Policies of HappyFace', 'description': 'What are the privacy and security policies of HappyFace?'}}\u001B[0m\u001B[36;1m\u001B[1;3mThe privacy and security policies of HappyFace include securely storing and protecting worker's/subject's personal information using advanced encryption and hashing methodologies. Access to the HappyFace application and its database is strictly restricted to authorised personnel within the organisation and complies with relevant data protection regulations. Additionally, HappyFace Administration is not allowed to share organization emotional engagement records with any third party, and the legal responsibility of all registered organizational sensitive data rests on the shoulders of HappyFace Administration.\u001B[0m\u001B[32;1m\u001B[1;3mI now know the final answer\n",
      "Final Answer: HappyFace ensures that all personal information is securely stored and protected using advanced encryption methods. Access to the application and database is restricted to authorized personnel only, and data is not shared with third parties.\u001B[0m\n",
      "\n",
      "\u001B[1m> Finished chain.\u001B[0m\n",
      "HappyFace ensures that all personal information is securely stored and protected using advanced encryption methods. Access to the application and database is restricted to authorized personnel only, and data is not shared with third parties.\n"
     ]
    }
   ],
   "source": [
    "query = \"How do you define privacy and security policies of HappyFace to a kid?\"\n",
    "output = get_agent_output(query)\n",
    "append_latest_conv_to_chat_history(query, output)\n",
    "print(output)"
   ],
   "metadata": {
    "collapsed": false,
    "ExecuteTime": {
     "end_time": "2024-04-05T09:53:16.090294Z",
     "start_time": "2024-04-05T09:51:43.213290Z"
    }
   },
   "id": "a7bd96e54f570482",
   "execution_count": 6
  },
  {
   "cell_type": "code",
   "outputs": [
    {
     "name": "stdout",
     "output_type": "stream",
     "text": [
      "\n",
      "\n",
      "\u001B[1m> Entering new AgentExecutor chain...\u001B[0m\n",
      "\u001B[32;1m\u001B[1;3mThe user is seeking advice on resigning from their company due to high workloads. As an HF_EMO agent, I should provide guidance based on the tools available to me.\n",
      "\n",
      "Action: HappyFace Rag Search Tool\n",
      "Action Input: {'query': {'title': 'Resigning from a job due to high workload', 'description': 'What advice should be given to an employee considering resigning from their job due to high workloads?'}}\u001B[0m\u001B[36;1m\u001B[1;3mThe advice that should be given to an employee considering resigning from their job due to high workloads could include the following:\n",
      "\n",
      "1. **Encourage Communication:** Suggest that the employee communicate with their direct supervisor or HR about their workload concerns. They can discuss potential solutions, like redistributing tasks or adjusting deadlines.\n",
      "\n",
      "2. **Use HappyFace Platform:** Recommend using the HappyFace platform to discuss their personal problems and receive guidance. The platform can provide personalized recommendations to help manage stress and workload issues.\n",
      "\n",
      "3. **Seek Work-Life Balance:** Emphasize the importance of work-life balance and encourage the employee to set boundaries between work and personal life. Suggest time management techniques to prioritize tasks effectively.\n",
      "\n",
      "4. **Professional Development:** Recommend exploring professional development opportunities within the organization. This could include training, mentoring, or skill-building programs to help manage workload more efficiently.\n",
      "\n",
      "5. **Consider Long-Term Goals:** Encourage the employee to consider their long-term career goals and how resigning due to high workloads may impact them. Suggest weighing the pros and cons before making a decision.\n",
      "\n",
      "Remember, each individual's situation is unique, so it's essential to provide personalized advice tailored to their specific circumstances.\u001B[0m\u001B[32;1m\u001B[1;3mI now know the final answer\n",
      "\n",
      "Final Answer: If an employee of a registered organization under the HappyFace platform is considering resigning due to high workloads, they should consider communicating with their supervisor or HR, using the HappyFace platform for guidance, seeking work-life balance, exploring professional development opportunities, and evaluating their long-term career goals before making a decision.\u001B[0m\n",
      "\n",
      "\u001B[1m> Finished chain.\u001B[0m\n",
      "If an employee of a registered organization under the HappyFace platform is considering resigning due to high workloads, they should consider communicating with their supervisor or HR, using the HappyFace platform for guidance, seeking work-life balance, exploring professional development opportunities, and evaluating their long-term career goals before making a decision.\n"
     ]
    }
   ],
   "source": [
    "query = '''\n",
    "    'I wanna resign from my company due to high work load which I should always struggle'\n",
    "    What if a worker of an organization appointed an inquiry like above to HappyFace consultant.\n",
    "    Assume that given organization is a registered organization under HappyFace platform.\n",
    "    Explain your answer using a scenario example.\n",
    "'''\n",
    "output = get_agent_output(query)\n",
    "append_latest_conv_to_chat_history(query, output)\n",
    "print(output)"
   ],
   "metadata": {
    "collapsed": false,
    "ExecuteTime": {
     "end_time": "2024-04-05T09:54:20.801857Z",
     "start_time": "2024-04-05T09:53:28.628686Z"
    }
   },
   "id": "bd33c2a70567e1e3",
   "execution_count": 7
  },
  {
   "cell_type": "code",
   "outputs": [
    {
     "name": "stdout",
     "output_type": "stream",
     "text": [
      "\n",
      "\n",
      "\u001B[1m> Entering new AgentExecutor chain...\u001B[0m\n",
      "\u001B[32;1m\u001B[1;3mI should refer to the chat history to find information about the module interaction of HappyFace and try to relate it to a real-world example. \n",
      "\n",
      "Action: \n",
      "[HappyFace Rag Search Tool]\n",
      "Action Input: {'query': {'title': 'Module Interaction of HappyFace', 'description': 'should provide information on how modules interact within the HappyFace platform'}}\u001B[0m[HappyFace Rag Search Tool] is not a valid tool, try one of [HappyFace Rag Search Tool].\u001B[32;1m\u001B[1;3mI don't know!\u001B[0mInvalid Format: Missing 'Action:' after 'Thought:\u001B[32;1m\u001B[1;3mI don't know!\u001B[0mInvalid Format: Missing 'Action:' after 'Thought:"
     ]
    }
   ],
   "source": [
    "query = '''\n",
    "    How do you define module interaction of HappyFace using a real world example?\n",
    "'''\n",
    "output = get_agent_output(query)\n",
    "append_latest_conv_to_chat_history(query, output)\n",
    "print(output)"
   ],
   "metadata": {
    "collapsed": false,
    "is_executing": true,
    "ExecuteTime": {
     "start_time": "2024-04-05T09:54:36.105133Z"
    }
   },
   "id": "c3263861099bbb7",
   "execution_count": null
  },
  {
   "cell_type": "code",
   "outputs": [
    {
     "name": "stdout",
     "output_type": "stream",
     "text": [
      "\n",
      "\n",
      "\u001B[1m> Entering new AgentExecutor chain...\u001B[0m\n",
      "\u001B[32;1m\u001B[1;3mSince the user is asking about data visualization techniques within HappyFace, I should search for information related to this topic in the HappyFace Rag Search Tool.\n",
      "\n",
      "Action: HappyFace Rag Search Tool\n",
      "Action Input: Data visualization techniques in HappyFace for emotional engagement\u001B[0m\u001B[36;1m\u001B[1;3mHappyFace uses standard data visualization techniques to monitor emotional engagement summaries based on daily, weekly, monthly, and annually basis. Users and organizations can visualize emotional engagement based on positivity and negativity of captured emotions. Additionally, the top-level management of organizations can monitor and visualize live facial emotion statistical data distributions in real-time, updating over time through changing emotional expressions of different people in the working environment.\u001B[0m\u001B[32;1m\u001B[1;3mI now know the final answer.\n",
      "\n",
      "Final Answer: HappyFace uses standard data visualization techniques to monitor emotional engagement summaries based on different time intervals, positivity, negativity, and live facial emotion statistical data distributions.\u001B[0m\n",
      "\n",
      "\u001B[1m> Finished chain.\u001B[0m\n",
      "HappyFace uses standard data visualization techniques to monitor emotional engagement summaries based on different time intervals, positivity, negativity, and live facial emotion statistical data distributions.\n"
     ]
    }
   ],
   "source": [
    "query = '''\n",
    "    What are available data visualization techniques in HappyFace when visualizing emotional\n",
    "    engagement of workers and within organizations?\n",
    "'''\n",
    "output = get_agent_output(query)\n",
    "append_latest_conv_to_chat_history(query, output)\n",
    "print(output)"
   ],
   "metadata": {
    "collapsed": false,
    "ExecuteTime": {
     "end_time": "2024-04-05T05:37:40.854246Z",
     "start_time": "2024-04-05T05:37:15.126547Z"
    }
   },
   "id": "ab681c718212dfd0",
   "execution_count": 8
  },
  {
   "cell_type": "code",
   "outputs": [
    {
     "name": "stdout",
     "output_type": "stream",
     "text": [
      "\n",
      "\n",
      "\u001B[1m> Entering new AgentExecutor chain...\u001B[0m\n",
      "\u001B[32;1m\u001B[1;3mBased on the chat history, it seems like the HappyFace platform uses a combination of tools and techniques to provide emotional support and guidance to users. To answer this question, I should use the HappyFace Rag Search Tool to find information on how arousal and valence values are used in emotion recognition.\n",
      "\n",
      "Action: HappyFace Rag Search Tool\n",
      "Action Input: \"arousal and valence values in emotion recognition\"\u001B[0m\u001B[36;1m\u001B[1;3mIn the HappyFace application, the arousal and valence values in emotion recognition are related to the intensity and positivity/negativity of the identified emotions. These values help in understanding the emotional state of the individuals captured by the CCTV cameras.\u001B[0m\u001B[32;1m\u001B[1;3mI now know the final answer\n",
      "\n",
      "Final Answer: In HappyFace, arousal and valence values are used in emotion recognition to understand the intensity and positivity/negativity of the identified emotions of individuals captured by the CCTV cameras.\u001B[0m\n",
      "\n",
      "\u001B[1m> Finished chain.\u001B[0m\n",
      "In HappyFace, arousal and valence values are used in emotion recognition to understand the intensity and positivity/negativity of the identified emotions of individuals captured by the CCTV cameras.\n"
     ]
    }
   ],
   "source": [
    "query = '''\n",
    "    How arousal and valence values are helped to derive at emotion recognitions in HappyFace?\n",
    "'''\n",
    "output = get_agent_output(query)\n",
    "append_latest_conv_to_chat_history(query, output)\n",
    "print(output)"
   ],
   "metadata": {
    "collapsed": false,
    "ExecuteTime": {
     "end_time": "2024-04-05T05:39:11.821270Z",
     "start_time": "2024-04-05T05:38:24.931973Z"
    }
   },
   "id": "4f19139586319f22",
   "execution_count": 9
  },
  {
   "cell_type": "code",
   "outputs": [
    {
     "name": "stdout",
     "output_type": "stream",
     "text": [
      "\n",
      "\n",
      "\u001B[1m> Entering new AgentExecutor chain...\u001B[0m\n",
      "\u001B[32;1m\u001B[1;3mSince I don't have direct information on specific personal computers from that time period, I can use the HappyFace Rag Search Tool to find relevant information.\n",
      "\n",
      "Action: HappyFace Rag Search Tool\n",
      "Action Input: Best personal computer for university students 1990-2000\u001B[0m\u001B[36;1m\u001B[1;3mI don't know.\u001B[0m\u001B[32;1m\u001B[1;3mI don't have specific information on personal computers from that time period in my database. I'm sorry, but I don't have the ability to answer this question.\u001B[0mInvalid Format: Missing 'Action:' after 'Thought:\u001B[32;1m\u001B[1;3mI don't have specific information on personal computers from that time period in my database. I'm sorry, but I don't have the ability to answer this question.\n",
      "Final Answer: I don't know!\u001B[0m\n",
      "\n",
      "\u001B[1m> Finished chain.\u001B[0m\n",
      "I don't know!\n"
     ]
    }
   ],
   "source": [
    "query = '''\n",
    "    What would be the best personal computer which could be afforded by a university student\n",
    "    existed in the time period from 1990 - 2000?\n",
    "'''\n",
    "output = get_agent_output(query)\n",
    "append_latest_conv_to_chat_history(query, output)\n",
    "print(output)"
   ],
   "metadata": {
    "collapsed": false,
    "ExecuteTime": {
     "end_time": "2024-04-05T06:32:56.715688Z",
     "start_time": "2024-04-05T06:32:07.666458Z"
    }
   },
   "id": "6ec03e8a40ed4112",
   "execution_count": 12
  },
  {
   "cell_type": "code",
   "outputs": [
    {
     "name": "stdout",
     "output_type": "stream",
     "text": [
      "\n",
      "\n",
      "\u001B[1m> Entering new AgentExecutor chain...\u001B[0m\n",
      "\u001B[32;1m\u001B[1;3mI already have the information about my identity and purpose from the chat history.\n",
      "\n",
      "Action: \n",
      "    None\n",
      "\n",
      "Final Answer: \n",
      "    I am the HappyFace Emotion Consultancy Provider Agent, built to provide personalized emotional support and guidance to employees in organizations. My creator is the HappyFace AI platform.\u001B[0m\n",
      "\n",
      "\u001B[1m> Finished chain.\u001B[0m\n",
      "I am the HappyFace Emotion Consultancy Provider Agent, built to provide personalized emotional support and guidance to employees in organizations. My creator is the HappyFace AI platform.\n"
     ]
    }
   ],
   "source": [
    "query = '''\n",
    "    Who are you? For what you were built? Who is your creator?\n",
    "'''\n",
    "output = get_agent_output(query)\n",
    "append_latest_conv_to_chat_history(query, output)\n",
    "print(output)"
   ],
   "metadata": {
    "collapsed": false,
    "ExecuteTime": {
     "end_time": "2024-04-05T06:25:28.109399Z",
     "start_time": "2024-04-05T06:25:26.465899Z"
    }
   },
   "id": "37578f0194d09055",
   "execution_count": 9
  },
  {
   "cell_type": "code",
   "outputs": [
    {
     "name": "stdout",
     "output_type": "stream",
     "text": [
      "\n",
      "\n",
      "\u001B[1m> Entering new AgentExecutor chain...\u001B[0m\n",
      "\u001B[32;1m\u001B[1;3mBased on the chat history, I am designed to provide personalized emotional support and guidance to employees in organizations. If you are feeling depressed, I should provide support and guidance to help you through this difficult time.\n",
      "\n",
      "Action: HappyFace Rag Search Tool\n",
      "Action Input: \"How to support someone who is feeling depressed\"\u001B[0m\u001B[36;1m\u001B[1;3mTo provide support to someone who is feeling depressed, you can use the HappyFace digital personal assistant. This tool tracks emotional behaviors and sentiment analysis of chatting behaviors to identify individuals who may need support. Through this tool, you can offer personalized consultations and recommendations to help the individual navigate their feelings and receive guidance on how to cope with depression. The consultations provided are not transparent to anyone, ensuring privacy and confidentiality for the individual seeking support. Additionally, if the individual requires more attention than standard mentoring recommendations, their details can be forwarded to HR management for further assistance, showing a commitment to their well-being.\u001B[0m\u001B[32;1m\u001B[1;3mI now know the final answer.\n",
      "\n",
      "Final Answer: To support someone who is feeling depressed, you can use the HappyFace digital personal assistant to provide personalized consultations and recommendations to help them navigate their feelings and receive guidance on coping with depression.\u001B[0m\n",
      "\n",
      "\u001B[1m> Finished chain.\u001B[0m\n",
      "To support someone who is feeling depressed, you can use the HappyFace digital personal assistant to provide personalized consultations and recommendations to help them navigate their feelings and receive guidance on coping with depression.\n"
     ]
    }
   ],
   "source": [
    "query = '''\n",
    "    Explain what would you do if I am depressed\n",
    "'''\n",
    "output = get_agent_output(query)\n",
    "append_latest_conv_to_chat_history(query, output)\n",
    "print(output)"
   ],
   "metadata": {
    "collapsed": false,
    "ExecuteTime": {
     "end_time": "2024-04-05T06:26:23.712054Z",
     "start_time": "2024-04-05T06:25:55.182786Z"
    }
   },
   "id": "bb26857acaf2d580",
   "execution_count": 10
  },
  {
   "cell_type": "code",
   "outputs": [],
   "source": [],
   "metadata": {
    "collapsed": false
   },
   "id": "3d987d276a166e91"
  }
 ],
 "metadata": {
  "kernelspec": {
   "display_name": "Python 3",
   "language": "python",
   "name": "python3"
  },
  "language_info": {
   "codemirror_mode": {
    "name": "ipython",
    "version": 2
   },
   "file_extension": ".py",
   "mimetype": "text/x-python",
   "name": "python",
   "nbconvert_exporter": "python",
   "pygments_lexer": "ipython2",
   "version": "2.7.6"
  }
 },
 "nbformat": 4,
 "nbformat_minor": 5
}
