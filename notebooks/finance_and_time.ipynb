{
 "cells": [
  {
   "cell_type": "code",
   "execution_count": 2,
   "id": "initial_id",
   "metadata": {
    "collapsed": true,
    "ExecuteTime": {
     "end_time": "2024-04-09T04:48:34.031279Z",
     "start_time": "2024-04-09T04:48:34.015509Z"
    }
   },
   "outputs": [],
   "source": [
    "from utils.finance import get_finance_capability\n",
    "from utils.time import get_current_datetime, get_time_capability"
   ]
  },
  {
   "cell_type": "code",
   "outputs": [
    {
     "name": "stdout",
     "output_type": "stream",
     "text": [
      "{'employee_id': 'E1', 'availableLoans': [{'id': 1, 'name': 'medical', 'amount': 100000, 'currency': 'LKR', 'periodToSettle': {'years': 1, 'months': 6, 'days': 0}}, {'id': 2, 'name': 'personal', 'amount': 50000, 'currency': 'LKR', 'periodToSettle': {'years': 0, 'months': 6, 'days': 0}}], 'availableOffers': [{'id': 1, 'name': 'christmas', 'amount': 5000, 'currency': 'LKR'}], 'salaryDeductions': [{'id': 1, 'reason': 'company equipment damage', 'amount': 1000, 'currency': 'LKR', 'basis': 'per month'}]}\n"
     ]
    }
   ],
   "source": [
    "print(get_finance_capability(\"E1\"))"
   ],
   "metadata": {
    "collapsed": false,
    "ExecuteTime": {
     "end_time": "2024-04-09T04:48:34.843545Z",
     "start_time": "2024-04-09T04:48:34.835566Z"
    }
   },
   "id": "e6f4c4ed0354688e",
   "execution_count": 3
  },
  {
   "cell_type": "code",
   "outputs": [
    {
     "name": "stdout",
     "output_type": "stream",
     "text": [
      "{'employee_id': 'E1', 'workingSlots': [{'id': 1, 'day': 'monday', 'from': '8.00 AM', 'to': '6.00 PM'}, {'id': 2, 'day': 'tuesday', 'from': '8.00 AM', 'to': '6.00 PM'}, {'id': 3, 'day': 'wednesday', 'from': '8.00 AM', 'to': '3.00 PM'}, {'id': 4, 'day': 'thursday', 'from': '8.00 AM', 'to': '6.00 PM'}, {'id': 5, 'day': 'friday', 'from': '8.00 AM', 'to': '12.00 AM'}], 'numOfHolidaysAvailable': 12, 'vacations': [{'id': 1, 'name': 'christmas', 'from': {'date': 23, 'month': 'december'}, 'to': {'date': 1, 'month': 'january'}}]}\n"
     ]
    }
   ],
   "source": [
    "print(get_time_capability(\"E1\"))"
   ],
   "metadata": {
    "collapsed": false,
    "ExecuteTime": {
     "end_time": "2024-04-09T04:48:35.799832Z",
     "start_time": "2024-04-09T04:48:35.783054Z"
    }
   },
   "id": "fa8ad02e6acb9433",
   "execution_count": 4
  },
  {
   "cell_type": "code",
   "outputs": [
    {
     "name": "stdout",
     "output_type": "stream",
     "text": [
      "2024-04-09 10:18:57\n"
     ]
    }
   ],
   "source": [
    "print(get_current_datetime())"
   ],
   "metadata": {
    "collapsed": false,
    "ExecuteTime": {
     "end_time": "2024-04-09T04:48:57.365064Z",
     "start_time": "2024-04-09T04:48:57.357537Z"
    }
   },
   "id": "e8f56bb57da80c77",
   "execution_count": 5
  },
  {
   "cell_type": "code",
   "outputs": [],
   "source": [],
   "metadata": {
    "collapsed": false
   },
   "id": "17400d13ff979f71"
  }
 ],
 "metadata": {
  "kernelspec": {
   "display_name": "Python 3",
   "language": "python",
   "name": "python3"
  },
  "language_info": {
   "codemirror_mode": {
    "name": "ipython",
    "version": 2
   },
   "file_extension": ".py",
   "mimetype": "text/x-python",
   "name": "python",
   "nbconvert_exporter": "python",
   "pygments_lexer": "ipython2",
   "version": "2.7.6"
  }
 },
 "nbformat": 4,
 "nbformat_minor": 5
}
