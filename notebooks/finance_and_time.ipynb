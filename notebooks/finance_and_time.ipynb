{
 "cells": [
  {
   "cell_type": "code",
   "execution_count": 14,
   "id": "initial_id",
   "metadata": {
    "collapsed": true,
    "ExecuteTime": {
     "end_time": "2024-04-10T15:19:23.510874Z",
     "start_time": "2024-04-10T15:19:23.505818Z"
    }
   },
   "outputs": [],
   "source": [
    "from utils.finance import generate_financial_capability_search_results\n",
    "from utils.time import generate_time_capability_search_results\n",
    "from utils.time import get_current_datetime"
   ]
  },
  {
   "cell_type": "code",
   "outputs": [
    {
     "data": {
      "text/plain": "'Wednesday, 10 April 2024 08:46 PM'"
     },
     "execution_count": 4,
     "metadata": {},
     "output_type": "execute_result"
    }
   ],
   "source": [
    "datetime = get_current_datetime()\n",
    "datetime"
   ],
   "metadata": {
    "collapsed": false,
    "ExecuteTime": {
     "end_time": "2024-04-10T15:16:14.328990Z",
     "start_time": "2024-04-10T15:16:14.317523Z"
    }
   },
   "id": "a6ba38c9bdf51aa7",
   "execution_count": 4
  },
  {
   "cell_type": "code",
   "outputs": [
    {
     "name": "stdout",
     "output_type": "stream",
     "text": [
      " For the employee with ID E1, there are two available loans: a medical loan of 100,000 LKR to be settled within 1 year and 6 months, and a personal loan of 50,000 LKR to be settled within 6 months. There are no active offers available at this time (April 10, 2024).\n"
     ]
    }
   ],
   "source": [
    "print(generate_financial_capability_search_results(f'''\n",
    "    finance capability of id=1, current datetime is: {datetime}\n",
    "'''))"
   ],
   "metadata": {
    "collapsed": false,
    "ExecuteTime": {
     "end_time": "2024-04-10T15:16:31.823551Z",
     "start_time": "2024-04-10T15:16:28.587301Z"
    }
   },
   "id": "e6f4c4ed0354688e",
   "execution_count": 5
  },
  {
   "cell_type": "code",
   "outputs": [
    {
     "name": "stdout",
     "output_type": "stream",
     "text": [
      " I'm sorry to inform you that there's no employee registered with the ID 'E2' in our records. Therefore, I'm unable to provide financial capabilities or recommendation for this employee.\n"
     ]
    }
   ],
   "source": [
    "print(generate_financial_capability_search_results(f'''\n",
    "    finance capability of employee id=2, profile recommendation: {profile_recommendation}\n",
    "'''))"
   ],
   "metadata": {
    "collapsed": false,
    "ExecuteTime": {
     "end_time": "2024-04-10T15:17:15.444954Z",
     "start_time": "2024-04-10T15:17:12.491919Z"
    }
   },
   "id": "fa8ad02e6acb9433",
   "execution_count": 8
  },
  {
   "cell_type": "code",
   "outputs": [
    {
     "name": "stdout",
     "output_type": "stream",
     "text": [
      " Based on the financial capabilities data, employee E1 is eligible for both a medical loan of 100,000 LKR and a personal loan of 50,000 LKR. However, the specific circumstances of your query regarding a sudden loan support due to a father's injury are not explicitly covered in the data. Therefore, while there is loan availability, a definitive answer cannot be given without further information aligning with the provided data.\n"
     ]
    }
   ],
   "source": [
    "print(generate_financial_capability_search_results(f'''\n",
    "    will employee '1' eligible to get a sudden loan support from the organization due to his father's injury?\n",
    "    suppose datetime relative to current situation is: {datetime}\n",
    "'''))"
   ],
   "metadata": {
    "collapsed": false,
    "ExecuteTime": {
     "end_time": "2024-04-10T15:17:25.535358Z",
     "start_time": "2024-04-10T15:17:22.304752Z"
    }
   },
   "id": "17400d13ff979f71",
   "execution_count": 9
  },
  {
   "cell_type": "code",
   "outputs": [
    {
     "name": "stdout",
     "output_type": "stream",
     "text": [
      " Based on the provided information, employee 'E1' is not eligible for any offers in April. The available offer, named \"christmas\", only becomes active from the 1st of December.\n"
     ]
    }
   ],
   "source": [
    "print(generate_financial_capability_search_results(f'''\n",
    "    will employee '1' eligible to get offers within THIS month? if yes, what are those?\n",
    "    suppose datetime relative to current situation is: {datetime}\n",
    "'''))"
   ],
   "metadata": {
    "collapsed": false,
    "ExecuteTime": {
     "end_time": "2024-04-10T15:17:50.569739Z",
     "start_time": "2024-04-10T15:17:47.697850Z"
    }
   },
   "id": "9d92859d3f581941",
   "execution_count": 10
  },
  {
   "cell_type": "code",
   "outputs": [
    {
     "name": "stdout",
     "output_type": "stream",
     "text": [
      " For employee E1, the salary deductions include a monthly amount of 1000 LKR. Given the current salary is 10,000 LKR, the final salary for this month, before any other deductions or additions, would be 9,000 LKR.\n"
     ]
    }
   ],
   "source": [
    "print(generate_financial_capability_search_results(f'''\n",
    "    if salary of employee 1 is 10,000 LKR, what would be his final salary for THIS month?\n",
    "    suppose datetime relative to current situation is: {datetime}\n",
    "'''))"
   ],
   "metadata": {
    "collapsed": false,
    "ExecuteTime": {
     "end_time": "2024-04-10T15:18:00.299327Z",
     "start_time": "2024-04-10T15:17:57.224183Z"
    }
   },
   "id": "6ff8e182aa883505",
   "execution_count": 11
  },
  {
   "cell_type": "code",
   "outputs": [
    {
     "name": "stdout",
     "output_type": "stream",
     "text": [
      " I'm sorry for any confusion, but the employee ID provided in the query, 'ABC-123', does not correspond to any worker in the given financial capabilities object, as it consists of alphabetic characters unlike the 'E1' format in the records. Therefore, I cannot provide information on the financial offers or loans for this employee.\n"
     ]
    }
   ],
   "source": [
    "print(generate_financial_capability_search_results(f'''\n",
    "    how employee ABC-123 will be offered with extra bonuses during this week?\n",
    "    suppose datetime relative to current situation is: {datetime}\n",
    "'''))"
   ],
   "metadata": {
    "collapsed": false,
    "ExecuteTime": {
     "end_time": "2024-04-10T15:18:11.779729Z",
     "start_time": "2024-04-10T15:18:08.642698Z"
    }
   },
   "id": "b8e651e42f24124",
   "execution_count": 12
  },
  {
   "cell_type": "code",
   "outputs": [
    {
     "name": "stdout",
     "output_type": "stream",
     "text": [
      " I'm sorry, but there are no extra bonuses available to employee E1 during this week, as there are no active offers or incentives specified for this period in the provided financial capabilities object.\n"
     ]
    }
   ],
   "source": [
    "print(generate_financial_capability_search_results(f'''\n",
    "    how employee 1 will be offered with extra bonuses during this week?\n",
    "    suppose datetime relative to current situation is: {datetime}\n",
    "'''))"
   ],
   "metadata": {
    "collapsed": false,
    "ExecuteTime": {
     "end_time": "2024-04-10T15:18:37.410628Z",
     "start_time": "2024-04-10T15:18:34.428177Z"
    }
   },
   "id": "683e585649a1f326",
   "execution_count": 13
  },
  {
   "cell_type": "code",
   "outputs": [
    {
     "name": "stdout",
     "output_type": "stream",
     "text": [
      " Employee E1 cannot request a holiday for tomorrow, which is Thursday, as their working slots for this day extend from 8.00 AM to 6.00 PM.\n"
     ]
    }
   ],
   "source": [
    "print(generate_time_capability_search_results(f'''\n",
    "    Employee 1 should want to request for a holiday on tomorrow based on available holidays for \n",
    "    the employee? is this possible to be undertaken if today is {datetime}\n",
    "'''))"
   ],
   "metadata": {
    "collapsed": false,
    "ExecuteTime": {
     "end_time": "2024-04-10T15:21:47.778316Z",
     "start_time": "2024-04-10T15:21:44.877165Z"
    }
   },
   "id": "bdc90619d5176dde",
   "execution_count": 18
  },
  {
   "cell_type": "code",
   "outputs": [
    {
     "name": "stdout",
     "output_type": "stream",
     "text": [
      " For Employee 1, there are no vacations available before the end of April 2024, as the next vacation period, christmas, begins on December 23.\n"
     ]
    }
   ],
   "source": [
    "print(generate_time_capability_search_results(f'''\n",
    "    Employee 1\n",
    "    Shall I able to receive vacations before ending of this month? Suppose today is {datetime}\n",
    "'''))"
   ],
   "metadata": {
    "collapsed": false,
    "ExecuteTime": {
     "end_time": "2024-04-10T15:22:54.192793Z",
     "start_time": "2024-04-10T15:22:51.299199Z"
    }
   },
   "id": "5beed6b4139c3d60",
   "execution_count": 20
  },
  {
   "cell_type": "code",
   "outputs": [],
   "source": [],
   "metadata": {
    "collapsed": false
   },
   "id": "7d317c30bc529d4a"
  }
 ],
 "metadata": {
  "kernelspec": {
   "display_name": "Python 3",
   "language": "python",
   "name": "python3"
  },
  "language_info": {
   "codemirror_mode": {
    "name": "ipython",
    "version": 2
   },
   "file_extension": ".py",
   "mimetype": "text/x-python",
   "name": "python",
   "nbconvert_exporter": "python",
   "pygments_lexer": "ipython2",
   "version": "2.7.6"
  }
 },
 "nbformat": 4,
 "nbformat_minor": 5
}
