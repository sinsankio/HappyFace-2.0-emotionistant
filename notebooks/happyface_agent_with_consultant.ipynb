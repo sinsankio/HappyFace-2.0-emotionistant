{
 "cells": [
  {
   "cell_type": "code",
   "execution_count": 1,
   "id": "initial_id",
   "metadata": {
    "collapsed": true,
    "ExecuteTime": {
     "end_time": "2024-04-07T11:54:17.359590Z",
     "start_time": "2024-04-07T11:54:14.918496Z"
    }
   },
   "outputs": [],
   "source": [
    "from langchain_core.prompts import PromptTemplate\n",
    "\n",
    "from configs.agent import PROMPT_TEMPLATE\n",
    "\n",
    "prompt = PromptTemplate.from_template(PROMPT_TEMPLATE)"
   ]
  },
  {
   "cell_type": "code",
   "outputs": [],
   "source": [
    "from langchain.agents import AgentExecutor, create_openai_tools_agent\n",
    "from utils.agent import load_reader_model\n",
    "from scripts.tools import HappyFaceTool, ConsultancyTool\n",
    "\n",
    "llm = load_reader_model()\n",
    "tools = [HappyFaceTool(), ConsultancyTool()]\n",
    "\n",
    "agent = create_openai_tools_agent(\n",
    "    llm=llm,\n",
    "    tools=tools,\n",
    "    prompt=prompt\n",
    ")\n",
    "agent_executor = AgentExecutor(\n",
    "    agent=agent,\n",
    "    tools=tools,\n",
    "    verbose=True,\n",
    "    handle_parsing_errors=True\n",
    ")"
   ],
   "metadata": {
    "collapsed": false,
    "ExecuteTime": {
     "end_time": "2024-04-07T11:54:20.571882Z",
     "start_time": "2024-04-07T11:54:17.364573Z"
    }
   },
   "id": "38e997f335156407",
   "execution_count": 2
  },
  {
   "cell_type": "code",
   "outputs": [
    {
     "name": "stdout",
     "output_type": "stream",
     "text": [
      "HappyFaceRagSearchTool: Use this tool whenever you're responding to requests related to factual details of the\n",
      "    HappyFace service platform\n",
      "HappyFaceConsultantTool: Use this tool when addressing queries within the context of offering consultation, guidance, or \n",
      "    assistance to an individual actively seeking solutions for encountered personal problems or challenges\n",
      "HappyFaceRagSearchTool, HappyFaceConsultantTool\n"
     ]
    }
   ],
   "source": [
    "from langchain.tools.render import render_text_description\n",
    "\n",
    "rendered_tools = render_text_description(tools)\n",
    "tool_names = ', '.join([tool.name for tool in tools])\n",
    "print(rendered_tools)\n",
    "print(tool_names)"
   ],
   "metadata": {
    "collapsed": false,
    "ExecuteTime": {
     "end_time": "2024-04-07T11:54:20.581044Z",
     "start_time": "2024-04-07T11:54:20.572884Z"
    }
   },
   "id": "e720c5b46996dbeb",
   "execution_count": 3
  },
  {
   "cell_type": "code",
   "outputs": [],
   "source": [
    "from langchain_core.messages import HumanMessage, AIMessage\n",
    "\n",
    "chat_history = []\n",
    "\n",
    "\n",
    "def get_agent_output(query: str) -> str:\n",
    "    result = agent_executor.invoke({\n",
    "        \"input\": query,\n",
    "        \"chat_history\": chat_history,\n",
    "        \"tools\": rendered_tools,\n",
    "        \"tool_names\": tool_names\n",
    "    })\n",
    "    return result[\"output\"]\n",
    "\n",
    "\n",
    "def append_latest_conv_to_chat_history(query: str, output: str) -> None:\n",
    "    latest_conv = [\n",
    "        HumanMessage(content=query),\n",
    "        AIMessage(content=output)\n",
    "    ]\n",
    "    chat_history.append(latest_conv)"
   ],
   "metadata": {
    "collapsed": false,
    "ExecuteTime": {
     "end_time": "2024-04-07T11:54:20.594721Z",
     "start_time": "2024-04-07T11:54:20.585030Z"
    }
   },
   "id": "52a0b6f11de2678a",
   "execution_count": 4
  },
  {
   "cell_type": "code",
   "outputs": [
    {
     "name": "stdout",
     "output_type": "stream",
     "text": [
      "\n",
      "\n",
      "\u001B[1m> Entering new AgentExecutor chain...\u001B[0m\n",
      "\u001B[32;1m\u001B[1;3m\n",
      "Invoking: `HappyFaceConsultantTool` with `{'personal_profile': 'Smith is a male individual residing in the USA, born on June 20, 2001, making him 21 years old. His annual salary is 6,000, and he has been diagnosed with Hepatitis. In his nucleus family, there are twelve members, with a substantial monthly income of 300,000 but high monthly expenses of 900,000. The family might face financial challenges due to the significant difference between their income and expenses, which could require careful financial management and planning.', 'emotion_engagement_profile': \"Smith is a male individual who exhibits predominantly negative emotions in his emotional profile. His most engaging facial emotion is 'fear' with very high arousal (90) and a very high negative valence (-60), suggesting intense feelings of anxiety or dread. Additionally, his engaging sentimental emotion is 'anger' with high arousal (69) and an extremely negative valence (-100), indicating strong feelings of frustration or rage. This emotional combination may indicate a high level of stress and potential challenges in managing anger. It is essential to address the underlying causes of these emotions for Smith's emotional well-being and overall effectiveness in interpersonal relationships.\", 'consultant_chat_history': '[]'}`\n",
      "\n",
      "\n",
      "\u001B[0m\u001B[33;1m\u001B[1;3mHello Smith,\n",
      "\n",
      "I appreciate your engagement on positive emotions and your willingness to seek guidance for your emotional well-being. It's important to acknowledge that negative emotions like fear and anger can be challenging to manage, but by addressing the underlying causes, we can work towards finding solutions together. Remember, it's okay to feel these emotions, but it's also important to take steps towards managing them effectively.\n",
      "\n",
      "If you ever feel overwhelmed or need support in understanding and coping with these emotions, feel free to reach out. Remember, you're not alone, and there are always ways to navigate through difficult emotions and situations. \n",
      "\n",
      "Stay strong and keep a positive mindset!\n",
      "\n",
      "Best Regards,\n",
      "Your Personal HappyFace Consultant\u001B[0m\u001B[32;1m\u001B[1;3m\n",
      "Invoking: `HappyFaceConsultantTool` with `{'query': '', 'personal_profile': 'Smith is a male individual residing in the USA, born on June 20, 2001, making him 21 years old. His annual salary is 6,000, and he has been diagnosed with Hepatitis. In his nucleus family, there are twelve members, with a substantial monthly income of 300,000 but high monthly expenses of 900,000. The family might face financial challenges due to the significant difference between their income and expenses, which could require careful financial management and planning.', 'emotion_engagement_profile': \"Smith is a male individual who exhibits predominantly negative emotions in his emotional profile. His most engaging facial emotion is 'fear' with very high arousal (90) and a very high negative valence (-60), suggesting intense feelings of anxiety or dread. Additionally, his engaging sentimental emotion is 'anger' with high arousal (69) and an extremely negative valence (-100), indicating strong feelings of frustration or rage. This emotional combination may indicate a high level of stress and potential challenges in managing anger. It is essential to address the underlying causes of these emotions for Smith's emotional well-being and overall effectiveness in interpersonal relationships.\", 'consultant_chat_history': '[]'}`\n",
      "\n",
      "\n",
      "\u001B[0m\u001B[33;1m\u001B[1;3mHello Smith,\n",
      "\n",
      "I appreciate your engagement and willingness to open up about your emotions. It's important to acknowledge the positive emotions you may experience and celebrate those moments.\n",
      "\n",
      "I understand that you have been experiencing predominantly negative emotions, such as fear and anger, with high levels of arousal and negative valence. It's crucial to address these emotions and the underlying causes to improve your emotional well-being and interpersonal relationships.\n",
      "\n",
      "I want you to know that you are not alone in facing these challenges, and it's okay to seek help and support. It's important to work on managing stress and finding healthy ways to cope with feelings of anxiety and frustration.\n",
      "\n",
      "If you ever feel overwhelmed or need to talk about your emotions, please don't hesitate to reach out. Remember, it's okay to not be okay sometimes, and seeking help is a sign of strength.\n",
      "\n",
      "I'm here to support you on your journey towards emotional well-being and to help you navigate through any challenges you may face.\n",
      "\n",
      "Stay strong and remember that there is always a way to find peace and balance in your emotions.\n",
      "\n",
      "Best Regards,\n",
      "Your Personal HappyFace Consultant\u001B[0m\u001B[32;1m\u001B[1;3m\n",
      "Invoking: `HappyFaceConsultantTool` with `{'personal_profile': 'Smith is a male individual residing in the USA, born on June 20, 2001, making him 21 years old. His annual salary is 6,000, and he has been diagnosed with Hepatitis. In his nucleus family, there are twelve members, with a substantial monthly income of 300,000 but high monthly expenses of 900,000. The family might face financial challenges due to the significant difference between their income and expenses, which could require careful financial management and planning.', 'emotion_engagement_profile': \"Smith is a male individual who exhibits predominantly negative emotions in his emotional profile. His most engaging facial emotion is 'fear' with very high arousal (90) and a very high negative valence (-60), suggesting intense feelings of anxiety or dread. Additionally, his engaging sentimental emotion is 'anger' with high arousal (69) and an extremely negative valence (-100), indicating strong feelings of frustration or rage. This emotional combination may indicate a high level of stress and potential challenges in managing anger. It is essential to address the underlying causes of these emotions for Smith's emotional well-being and overall effectiveness in interpersonal relationships.\", 'consultant_chat_history': '[]'}`\n",
      "\n",
      "\n",
      "\u001B[0m\u001B[33;1m\u001B[1;3mHello Smith!\n",
      "\n",
      "I appreciate your engagement on positive emotions and your willingness to seek guidance on your emotional well-being. It's important to acknowledge the challenges you may be facing with negative emotions like fear and anger. These intense feelings can impact your overall well-being and relationships.\n",
      "\n",
      "I want you to know that it's okay to feel these emotions, but it's also essential to address the underlying causes and find healthy ways to manage them. By understanding and working through these emotions, you can improve your emotional resilience and create a more positive outlook on life.\n",
      "\n",
      "Remember, you are not alone in this journey. Seeking support from loved ones or a professional can make a significant difference in your emotional well-being. Take small steps towards self-care and self-awareness, and you'll gradually see positive changes in your emotional state.\n",
      "\n",
      "Always here to support you on your path to emotional well-being!\n",
      "\n",
      "Best Regards,\n",
      "Your Personal HappyFace Consultant\u001B[0m\u001B[32;1m\u001B[1;3m\n",
      "Invoking: `HappyFaceConsultantTool` with `{'personal_profile': 'Smith is a male individual residing in the USA, born on June 20, 2001, making him 21 years old. His annual salary is 6,000, and he has been diagnosed with Hepatitis. In his nucleus family, there are twelve members, with a substantial monthly income of 300,000 but high monthly expenses of 900,000. The family might face financial challenges due to the significant difference between their income and expenses, which could require careful financial management and planning.', 'emotion_engagement_profile': \"Smith is a male individual who exhibits predominantly negative emotions in his emotional profile. His most engaging facial emotion is 'fear' with very high arousal (90) and a very high negative valence (-60), suggesting intense feelings of anxiety or dread. Additionally, his engaging sentimental emotion is 'anger' with high arousal (69) and an extremely negative valence (-100), indicating strong feelings of frustration or rage. This emotional combination may indicate a high level of stress and potential challenges in managing anger. It is essential to address the underlying causes of these emotions for Smith's emotional well-being and overall effectiveness in interpersonal relationships.\", 'consultant_chat_history': '[]'}`\n",
      "\n",
      "\n",
      "\u001B[0m\u001B[33;1m\u001B[1;3mHello Smith,\n",
      "\n",
      "I appreciate your engagement in expressing your emotions, both positive and negative. It's important to acknowledge and address all feelings that arise within us. I can see that you have been experiencing intense emotions like fear and anger, which can be overwhelming at times.\n",
      "\n",
      "It's completely normal to feel these emotions, but it's also crucial to understand the root causes behind them. By recognizing and addressing the underlying issues, we can work towards managing these emotions effectively.\n",
      "\n",
      "I am here to support you in navigating through these emotions and finding healthy ways to cope. Remember, you're not alone in this journey, and together, we can work towards a more balanced emotional well-being.\n",
      "\n",
      "Feel free to share more about how you're feeling, and let's work together to bring a positive smile back to your face!\n",
      "\n",
      "Best Regards,\n",
      "Your Personal HappyFace Consultant\u001B[0m\u001B[32;1m\u001B[1;3m\n",
      "Invoking: `HappyFaceConsultantTool` with `{'personal_profile': 'Smith is a male individual residing in the USA, born on June 20, 2001, making him 21 years old. His annual salary is 6,000, and he has been diagnosed with Hepatitis. In his nucleus family, there are twelve members, with a substantial monthly income of 300,000 but high monthly expenses of 900,000. The family might face financial challenges due to the significant difference between their income and expenses, which could require careful financial management and planning.', 'emotion_engagement_profile': \"Smith is a male individual who exhibits predominantly negative emotions in his emotional profile. His most engaging facial emotion is 'fear' with very high arousal (90) and a very high negative valence (-60), suggesting intense feelings of anxiety or dread. Additionally, his engaging sentimental emotion is 'anger' with high arousal (69) and an extremely negative valence (-100), indicating strong feelings of frustration or rage. This emotional combination may indicate a high level of stress and potential challenges in managing anger. It is essential to address the underlying causes of these emotions for Smith's emotional well-being and overall effectiveness in interpersonal relationships.\", 'consultant_chat_history': '[]'}`\n",
      "\n",
      "\n",
      "\u001B[0m\u001B[33;1m\u001B[1;3mHello Smith,\n",
      "\n",
      "I appreciate your engagement with positive emotions and your willingness to seek guidance. It's important to acknowledge your emotions and understand that it's okay to feel fear and anger at times. However, it's crucial to address the underlying causes of these intense emotions for your emotional well-being.\n",
      "\n",
      "I understand that you may be facing challenges, especially with a high level of stress and potential difficulties in managing anger. It's essential to work on coping mechanisms and strategies to help you navigate through these emotions effectively.\n",
      "\n",
      "Remember, you are not alone in this journey, and seeking help is a sign of strength. If you ever feel overwhelmed or need someone to talk to, don't hesitate to reach out for support. Take small steps towards self-care and practice self-compassion.\n",
      "\n",
      "Always here to support you on your path to emotional well-being.\n",
      "\n",
      "Best Regards,\n",
      "Your Personal HappyFace Consultant\u001B[0m\u001B[32;1m\u001B[1;3m\n",
      "Invoking: `HappyFaceConsultantTool` with `{'personal_profile': 'Smith is a male individual residing in the USA, born on June 20, 2001, making him 21 years old. His annual salary is 6,000, and he has been diagnosed with Hepatitis. In his nucleus family, there are twelve members, with a substantial monthly income of 300,000 but high monthly expenses of 900,000. The family might face financial challenges due to the significant difference between their income and expenses, which could require careful financial management and planning.', 'emotion_engagement_profile': \"Smith is a male individual who exhibits predominantly negative emotions in his emotional profile. His most engaging facial emotion is 'fear' with very high arousal (90) and a very high negative valence (-60), suggesting intense feelings of anxiety or dread. Additionally, his engaging sentimental emotion is 'anger' with high arousal (69) and an extremely negative valence (-100), indicating strong feelings of frustration or rage. This emotional combination may indicate a high level of stress and potential challenges in managing anger. It is essential to address the underlying causes of these emotions for Smith's emotional well-being and overall effectiveness in interpersonal relationships.\", 'consultant_chat_history': '[]'}`\n",
      "\n",
      "\n",
      "\u001B[0m"
     ]
    }
   ],
   "source": [
    "from utils.consultant import generate_summarized_profile\n",
    "\n",
    "personal_profile = {\n",
    "    \"name\": \"Smith\",\n",
    "    \"address\": \"USA\",\n",
    "    \"dob\": \"2001-06-20\",\n",
    "    \"gender\": \"male\",\n",
    "    \"salary\": 6000,\n",
    "    \"hiddenDiseases\": [\"Hepatitis\"],\n",
    "    \"family\": {\n",
    "        \"numMembers\": 12,\n",
    "        \"monthlyIncome\": 300000,\n",
    "        \"monthlyExpenses\": 900000,\n",
    "        \"category\": \"nucleus\"\n",
    "    }\n",
    "}\n",
    "emotion_engagement_profile = {\n",
    "    \"name\": \"Smith\",\n",
    "    \"gender\": \"male\",\n",
    "    \"emotionalProfile\": {\n",
    "        \"mostlyEngagingFacialEmotion\": {\n",
    "            \"emotion\": \"fear\",\n",
    "            \"avgArousal (percentage)\": 90,\n",
    "            \"avgValence (percentage)\": -60\n",
    "        },\n",
    "        \"mostlyEngagingSentimentalEmotion\": {\n",
    "            \"emotion\": \"anger\",\n",
    "            \"avgArousal (percentage)\": 69,\n",
    "            \"avgValence (percentage)\": -100\n",
    "        }\n",
    "    }\n",
    "}\n",
    "query = '''\n",
    "    Provide a personal consultation for an individual named Smith by utilizing HappyFace Consultancy Tool.\n",
    "    \n",
    "    Smith's profile data is shown below. \n",
    "    \n",
    "    Personal Profile: {personal_profile}\n",
    "    \n",
    "    Emotion Engagement Profile: {emotion_engagement_profile}\n",
    "    \n",
    "    Here is the recent chat history which has already built between smith and consultant.\n",
    "    \n",
    "    Consultant Chat History: {consultant_chat_history}\n",
    "'''.format(\n",
    "    personal_profile=generate_summarized_profile(personal_profile),\n",
    "    emotion_engagement_profile=generate_summarized_profile(emotion_engagement_profile),\n",
    "    consultant_chat_history=[]\n",
    ")\n",
    "# print(query)\n",
    "output = get_agent_output(query)\n",
    "append_latest_conv_to_chat_history(query, output)\n",
    "print(output)"
   ],
   "metadata": {
    "collapsed": false,
    "is_executing": true,
    "ExecuteTime": {
     "start_time": "2024-04-07T11:54:21.171061Z"
    }
   },
   "id": "9be4075308b08cf1",
   "execution_count": null
  },
  {
   "cell_type": "code",
   "outputs": [],
   "source": [],
   "metadata": {
    "collapsed": false
   },
   "id": "f4af1ab5f6a84676"
  }
 ],
 "metadata": {
  "kernelspec": {
   "display_name": "Python 3",
   "language": "python",
   "name": "python3"
  },
  "language_info": {
   "codemirror_mode": {
    "name": "ipython",
    "version": 2
   },
   "file_extension": ".py",
   "mimetype": "text/x-python",
   "name": "python",
   "nbconvert_exporter": "python",
   "pygments_lexer": "ipython2",
   "version": "2.7.6"
  }
 },
 "nbformat": 4,
 "nbformat_minor": 5
}
