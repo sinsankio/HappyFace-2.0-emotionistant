{
 "cells": [
  {
   "cell_type": "code",
   "execution_count": 1,
   "id": "initial_id",
   "metadata": {
    "collapsed": true,
    "ExecuteTime": {
     "end_time": "2024-04-08T05:28:58.466171Z",
     "start_time": "2024-04-08T05:28:57.634129Z"
    }
   },
   "outputs": [],
   "source": [
    "from utils.profile import generate_profiles_into_recommendation, generate_summarized_profile"
   ]
  },
  {
   "cell_type": "code",
   "outputs": [
    {
     "name": "stdout",
     "output_type": "stream",
     "text": [
      " Smith is a male individual residing in the USA, who was born on September 18, 2000, making him 23 years old. He has an annual salary of 10,000. Smith does not have any hidden diseases. In his nuclear family, there are six members, with a monthly income of 900,000 and monthly expenses of 200,000. This family has a relatively high income compared to their expenses, indicating a financially comfortable situation.\n"
     ]
    }
   ],
   "source": [
    "profile = {\n",
    "    \"name\": \"Smith\",\n",
    "    \"address\": \"USA\",\n",
    "    \"dob\": \"2000-09-18\",\n",
    "    \"gender\": \"male\",\n",
    "    \"salary\": 10000,\n",
    "    \"hiddenDiseases\": [],\n",
    "    \"family\": {\n",
    "        \"numMembers\": 6,\n",
    "        \"monthlyIncome\": 900000,\n",
    "        \"monthlyExpenses\": 200000,\n",
    "        \"category\": \"nuclear\"\n",
    "    }\n",
    "}\n",
    "bio_data_profile = generate_summarized_profile(profile)\n",
    "print(bio_data_profile)"
   ],
   "metadata": {
    "collapsed": false,
    "ExecuteTime": {
     "end_time": "2024-04-08T05:37:32.368033Z",
     "start_time": "2024-04-08T05:37:28.544024Z"
    }
   },
   "id": "78ba4f9a26d70809",
   "execution_count": 10
  },
  {
   "cell_type": "code",
   "outputs": [
    {
     "name": "stdout",
     "output_type": "stream",
     "text": [
      " Smith is a male individual with a positive emotional engagement profile. His most engaging facial emotion is \"happy\" with a high arousal level of 90%, indicating excitement or joy. The \"happy\" sentimental emotion is also predominant with an arousal level of 69% and a high valence of 100%, reflecting strong feelings of happiness and contentment. Overall, Smith's emotional profile suggests a consistently positive and lively disposition.\n"
     ]
    }
   ],
   "source": [
    "profile = {\n",
    "    \"name\": \"Smith\",\n",
    "    \"gender\": \"male\",\n",
    "    \"emotionalProfile\": {\n",
    "        \"mostlyEngagingFacialEmotion\": {\n",
    "            \"emotion\": \"happy\",\n",
    "            \"avgArousal (percentage)\": 90,\n",
    "            \"avgValence (percentage)\": 60\n",
    "        },\n",
    "        \"mostlyEngagingSentimentalEmotion\": {\n",
    "            \"emotion\": \"happy\",\n",
    "            \"avgArousal (percentage)\": 69,\n",
    "            \"avgValence (percentage)\": 100\n",
    "        }\n",
    "    }\n",
    "}\n",
    "emotion_profile = generate_summarized_profile(profile)\n",
    "print(emotion_profile)"
   ],
   "metadata": {
    "collapsed": false,
    "ExecuteTime": {
     "end_time": "2024-04-08T05:37:44.235418Z",
     "start_time": "2024-04-08T05:37:40.821207Z"
    }
   },
   "id": "d0c6368dc58e6e81",
   "execution_count": 11
  },
  {
   "cell_type": "code",
   "outputs": [
    {
     "name": "stdout",
     "output_type": "stream",
     "text": [
      " Considering the provided bio data and emotional engagement profile, it is evident that Mr. Smith, a 23-year-old male residing in the USA, possesses a positive emotional disposition and enjoys financial stability. \n",
      "\n",
      "Given his annual salary of $10,000 and a family income of $900,000 per month, Mr. Smith is part of a family that is financially comfortable. This stability should be taken into account when considering any recommendations, as it suggests a secure foundation for decision-making.\n",
      "\n",
      "In terms of emotional engagement, Mr. Smith's predominant facial emotion is \"happy\" with a high arousal level of 90%. This indicates that he is often excited or joyful. Furthermore, the \"happy\" sentimental emotion is also prevalent with an arousal level of 69% and a high valence of 100%, reflecting strong feelings of happiness and contentment. These factors suggest that Mr. Smith has a consistently positive and lively disposition.\n",
      "\n",
      "Based on this information, it is recommended that Mr. Smith be considered for roles or projects that require high levels of enthusiasm and positive interaction with others. His financial stability also indicates that he may be well-suited to positions involving financial responsibility or long-term planning. Ultimately, Mr. Smith's strengths lie in his positive emotional engagement and financial stability, making him a valuable asset to any team.\n"
     ]
    }
   ],
   "source": [
    "profile_recommendation = generate_profiles_into_recommendation(bio_data_profile, emotion_profile)\n",
    "print(profile_recommendation)"
   ],
   "metadata": {
    "collapsed": false,
    "ExecuteTime": {
     "end_time": "2024-04-08T05:37:49.202120Z",
     "start_time": "2024-04-08T05:37:44.246402Z"
    }
   },
   "id": "5cc5af0c89fbf322",
   "execution_count": 12
  },
  {
   "cell_type": "code",
   "outputs": [
    {
     "name": "stdout",
     "output_type": "stream",
     "text": [
      " In light of the information provided in Jane Smith's personal bio data and emotional engagement profiles, several recommendations can be made to support her well-being and performance at work.\n",
      "\n",
      "Firstly, considering her financial situation, it would be prudent to explore avenues to increase her disposable income. This could be achieved through overtime work, if available, or by seeking additional sources of income within the family. Moreover, financial management training could be beneficial in managing the family's income and expenses more effectively.\n",
      "\n",
      "Secondly, regarding her emotional disposition, the predominance of negative emotions, particularly sadness and fear, suggests a need for emotional support. Implementing an Employee Assistance Program (EAP) could provide her with access to counselling services to address her anxiety diagnosis and manage her negative emotions.\n",
      "\n",
      "Thirdly, given her risk aversion or cautiousness, it might be beneficial to provide her with clear guidelines and expectations for her role. This could reduce her anxiety around decision-making and promote a sense of security.\n",
      "\n",
      "Lastly, fostering a positive work environment that encourages open communication and provides regular feedback could help improve Jane's emotional well-being and job satisfaction. This could involve team-building activities, recognition of achievements, and opportunities for professional development.\n",
      "\n",
      "In conclusion, by addressing Jane's financial and emotional needs, it is hoped that her overall well-being and job performance will improve, leading to a more satisfied and productive employee.\n"
     ]
    }
   ],
   "source": [
    "bio_data_profile = '''Jane Smith is a female individual who lives at 456 Elm St. She was born on February 2, 1990, \n",
    "making her 34 years old. Jane earns an annual salary of 75,000. She has been diagnosed with Anxiety. In her compound \n",
    "family, there are eight members, with a monthly income of 7,000 and monthly expenses of 5,000. There is only one \n",
    "occupation in the family, and they can be faced potential challenges or intricacies in managing their finances due to \n",
    "less income per month compared with expenses per month.'''\n",
    "emotion_profile = '''This person's emotional profile suggests a predominant engagement with negative emotions. Their most engaging facial \n",
    "emotion is \"sad\" (73% accuracy) with moderate arousal (38.9) and a moderate negative valence (54.1), reflecting feelings\n",
    "of sadness or melancholy. Furthermore, their engaging sentimental emotion is \"fear\" (85% accuracy) with low arousal \n",
    "(25.7) but a high negative valence (78.3), indicating feelings of anxiety or apprehension. These emotional states may \n",
    "impact decision-making processes by influencing risk aversion or cautiousness. Addressing the underlying causes of \n",
    "these emotions could be essential for improving the individual's emotional well-being and effectiveness in the \n",
    "workplace.'''\n",
    "profile_recommendation = generate_profiles_into_recommendation(bio_data_profile, emotion_profile)\n",
    "print(profile_recommendation)"
   ],
   "metadata": {
    "collapsed": false,
    "ExecuteTime": {
     "end_time": "2024-04-08T05:32:47.657888Z",
     "start_time": "2024-04-08T05:32:42.922910Z"
    }
   },
   "id": "c8db3fe727c2f923",
   "execution_count": 5
  },
  {
   "cell_type": "code",
   "outputs": [],
   "source": [],
   "metadata": {
    "collapsed": false
   },
   "id": "839e7ebe0e225a15"
  }
 ],
 "metadata": {
  "kernelspec": {
   "display_name": "Python 3",
   "language": "python",
   "name": "python3"
  },
  "language_info": {
   "codemirror_mode": {
    "name": "ipython",
    "version": 2
   },
   "file_extension": ".py",
   "mimetype": "text/x-python",
   "name": "python",
   "nbconvert_exporter": "python",
   "pygments_lexer": "ipython2",
   "version": "2.7.6"
  }
 },
 "nbformat": 4,
 "nbformat_minor": 5
}
