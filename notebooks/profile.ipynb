{
 "cells": [
  {
   "cell_type": "code",
   "execution_count": 1,
   "id": "initial_id",
   "metadata": {
    "collapsed": true,
    "ExecuteTime": {
     "end_time": "2024-04-08T12:14:26.248779Z",
     "start_time": "2024-04-08T12:14:25.429169Z"
    }
   },
   "outputs": [],
   "source": [
    "from utils.profile import generate_profiles_into_recommendation, generate_summarized_profile"
   ]
  },
  {
   "cell_type": "code",
   "outputs": [
    {
     "name": "stdout",
     "output_type": "stream",
     "text": [
      " The provided personal profile refers to a 23-year-old male residing in the USA, born on September 18, 2000. He has an annual salary of $10,000 and does not have any hidden diseases. The individual is part of a nuclear family consisting of six members, with a high monthly income of $900,000 and significant monthly expenses of $200,000. There is a special note mentioning that the person is subjected to a physical disorder, which might require attention or accommodation. Overall, the financial situation of the family appears to be robust, but managing high monthly expenses could be a challenge.\n"
     ]
    }
   ],
   "source": [
    "profile = {\n",
    "    # \"name\": \"Smith\",\n",
    "    \"address\": \"USA\",\n",
    "    \"dob\": \"2000-09-18\",\n",
    "    \"gender\": \"male\",\n",
    "    \"salary\": 10000,\n",
    "    \"hiddenDiseases\": [],\n",
    "    \"family\": {\n",
    "        \"numMembers\": 6,\n",
    "        \"monthlyIncome\": 900000,\n",
    "        \"monthlyExpenses\": 200000,\n",
    "        \"category\": \"nuclear\"\n",
    "    },\n",
    "    \"special notes\": [\"the person who subjected to this profile is having a physical disorder\"]\n",
    "}\n",
    "bio_data_profile = generate_summarized_profile(profile)\n",
    "print(bio_data_profile)"
   ],
   "metadata": {
    "collapsed": false,
    "ExecuteTime": {
     "end_time": "2024-04-08T12:17:26.593127Z",
     "start_time": "2024-04-08T12:17:22.773158Z"
    }
   },
   "id": "78ba4f9a26d70809",
   "execution_count": 5
  },
  {
   "cell_type": "code",
   "outputs": [
    {
     "name": "stdout",
     "output_type": "stream",
     "text": [
      " This individual's emotional profile demonstrates a predominantly positive engagement, with the most engaging facial emotion being \"happy\" (90% average arousal) and a moderate positive valence (60%). The mostly engaging sentimental emotion is also \"happy\" (100% average valence) with a moderate arousal level (69%). Overall, the emotional profile indicates a generally positive and content state, which could contribute to a more optimistic outlook and potentially more effective decision-making.\n"
     ]
    }
   ],
   "source": [
    "profile = {\n",
    "    # \"name\": \"Smith\",\n",
    "    # \"gender\": \"male\",\n",
    "    \"emotionalProfile\": {\n",
    "        \"mostlyEngagingFacialEmotion\": {\n",
    "            \"emotion\": \"happy\",\n",
    "            \"avgArousal (percentage)\": 90,\n",
    "            \"avgValence (percentage)\": 60\n",
    "        },\n",
    "        \"mostlyEngagingSentimentalEmotion\": {\n",
    "            \"emotion\": \"happy\",\n",
    "            \"avgArousal (percentage)\": 69,\n",
    "            \"avgValence (percentage)\": 100\n",
    "        }\n",
    "    }\n",
    "}\n",
    "emotion_profile = generate_summarized_profile(profile)\n",
    "print(emotion_profile)"
   ],
   "metadata": {
    "collapsed": false,
    "ExecuteTime": {
     "end_time": "2024-04-08T12:17:48.503169Z",
     "start_time": "2024-04-08T12:17:45.011097Z"
    }
   },
   "id": "d0c6368dc58e6e81",
   "execution_count": 6
  },
  {
   "cell_type": "code",
   "outputs": [
    {
     "name": "stdout",
     "output_type": "stream",
     "text": [
      " Taking into account the provided bio data and emotional engagement profiles, several recommendations can be made for this employee.\n",
      "\n",
      "Firstly, considering the individual's physical disorder, it would be beneficial to explore potential accommodations within the workplace. This could involve adjusting the physical environment or work tasks to better suit their needs, thereby promoting comfort and productivity.\n",
      "\n",
      "Secondly, despite the high family income, the significant monthly expenses should be noted. Although this does not directly impact the employee's work performance, it may contribute to stress levels outside of work. Therefore, implementing stress management strategies could be beneficial. This could include flexible working hours or providing access to mental health resources.\n",
      "\n",
      "Thirdly, the employee's predominantly positive emotional disposition should be acknowledged and leveraged. The high levels of happiness and positive valence suggest that this individual is likely to have a optimistic outlook and effective decision-making skills. Therefore, providing opportunities for growth and leadership could be beneficial, as this may further enhance these strengths.\n",
      "\n",
      "In conclusion, by accommodating the employee's physical needs, addressing potential financial stressors, and leveraging their positive emotional disposition, a supportive and productive work environment can be fostered.\n"
     ]
    }
   ],
   "source": [
    "profile_recommendation = generate_profiles_into_recommendation(bio_data_profile, emotion_profile)\n",
    "print(profile_recommendation)"
   ],
   "metadata": {
    "collapsed": false,
    "ExecuteTime": {
     "end_time": "2024-04-08T12:17:54.841728Z",
     "start_time": "2024-04-08T12:17:50.530543Z"
    }
   },
   "id": "5cc5af0c89fbf322",
   "execution_count": 7
  },
  {
   "cell_type": "code",
   "outputs": [
    {
     "name": "stdout",
     "output_type": "stream",
     "text": [
      " In light of the information provided, it is suggested that several recommendations be taken into consideration for the employee in question, Miss Jane Smith. Firstly, regarding her financial situation, it may be beneficial for her to explore opportunities for supplemental income, given the discrepancy between her family's monthly income and expenses. This could potentially alleviate some of the financial stress she may be experiencing due to her family's financial state.\n",
      "\n",
      "Secondly, in regard to her emotional engagement profile, it is recommended that measures be taken to address her predominant negative emotions, particularly her sadness and fear. This could involve implementing employee assistance programs that offer counseling or therapy services. Additionally, providing resources on mindfulness and stress management techniques could be beneficial in helping her manage her anxiety.\n",
      "\n",
      "Lastly, it is important to acknowledge her strengths. Although not specified in the profile, it is crucial to identify and highlight her abilities and achievements. Recognizing her contributions and providing constructive feedback can significantly enhance her emotional well-being and overall job satisfaction.\n",
      "\n",
      "In conclusion, by addressing her financial stability and emotional disposition, while also acknowledging her strengths, Miss Smith can be better supported in her role, leading to improved emotional well-being and effectiveness in the workplace.\n"
     ]
    }
   ],
   "source": [
    "bio_data_profile = '''Jane Smith is a female individual who lives at 456 Elm St. She was born on February 2, 1990, \n",
    "making her 34 years old. Jane earns an annual salary of 75,000. She has been diagnosed with Anxiety. In her compound \n",
    "family, there are eight members, with a monthly income of 7,000 and monthly expenses of 5,000. There is only one \n",
    "occupation in the family, and they can be faced potential challenges or intricacies in managing their finances due to \n",
    "less income per month compared with expenses per month.'''\n",
    "emotion_profile = '''This person's emotional profile suggests a predominant engagement with negative emotions. Their most engaging facial \n",
    "emotion is \"sad\" (73% accuracy) with moderate arousal (38.9) and a moderate negative valence (54.1), reflecting feelings\n",
    "of sadness or melancholy. Furthermore, their engaging sentimental emotion is \"fear\" (85% accuracy) with low arousal \n",
    "(25.7) but a high negative valence (78.3), indicating feelings of anxiety or apprehension. These emotional states may \n",
    "impact decision-making processes by influencing risk aversion or cautiousness. Addressing the underlying causes of \n",
    "these emotions could be essential for improving the individual's emotional well-being and effectiveness in the \n",
    "workplace.'''\n",
    "profile_recommendation = generate_profiles_into_recommendation(bio_data_profile, emotion_profile)\n",
    "print(profile_recommendation)"
   ],
   "metadata": {
    "collapsed": false,
    "ExecuteTime": {
     "end_time": "2024-04-08T10:19:11.650502Z",
     "start_time": "2024-04-08T10:19:07.270980Z"
    }
   },
   "id": "c8db3fe727c2f923",
   "execution_count": 5
  },
  {
   "cell_type": "code",
   "outputs": [],
   "source": [],
   "metadata": {
    "collapsed": false
   },
   "id": "839e7ebe0e225a15"
  }
 ],
 "metadata": {
  "kernelspec": {
   "display_name": "Python 3",
   "language": "python",
   "name": "python3"
  },
  "language_info": {
   "codemirror_mode": {
    "name": "ipython",
    "version": 2
   },
   "file_extension": ".py",
   "mimetype": "text/x-python",
   "name": "python",
   "nbconvert_exporter": "python",
   "pygments_lexer": "ipython2",
   "version": "2.7.6"
  }
 },
 "nbformat": 4,
 "nbformat_minor": 5
}
