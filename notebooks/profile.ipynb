{
 "cells": [
  {
   "cell_type": "code",
   "execution_count": 1,
   "id": "initial_id",
   "metadata": {
    "collapsed": true,
    "ExecuteTime": {
     "end_time": "2024-04-08T12:14:26.248779Z",
     "start_time": "2024-04-08T12:14:25.429169Z"
    }
   },
   "outputs": [],
   "source": [
    "from utils.profile import generate_profiles_into_recommendation, generate_summarized_profile"
   ]
  },
  {
   "cell_type": "code",
   "outputs": [
    {
     "data": {
      "text/plain": "[Model(id='ai-codellama-70b', model_type='chat', model_name='meta/codellama-70b', client='ChatNVIDIA', path='f6b06895-d073-4714-8bb2-26c09e9f6597'),\n Model(id='ai-fuyu-8b', model_type='image_in', model_name=None, client='ChatNVIDIA', path='e598bfc1-b058-41af-869d-556d3c7e1b48'),\n Model(id='ai-gemma-7b', model_type='chat', model_name='google/gemma-7b', client='ChatNVIDIA', path='a13e3bed-ca42-48f8-b3f1-fbc47b9675f9'),\n Model(id='ai-google-deplot', model_type='image_in', model_name=None, client='ChatNVIDIA', path='784a8ca4-ea7d-4c93-bb46-ec027c3fae47'),\n Model(id='ai-llama2-70b', model_type='chat', model_name='meta/llama2-70b', client='ChatNVIDIA', path='2fddadfb-7e76-4c8a-9b82-f7d3fab94471'),\n Model(id='ai-microsoft-kosmos-2', model_type='image_in', model_name=None, client='ChatNVIDIA', path='6018fed7-f227-48dc-99bc-3fd4264d5037'),\n Model(id='ai-mistral-7b-instruct-v2', model_type='chat', model_name='mistralai/mistral-7b-instruct-v0.2', client='ChatNVIDIA', path='d7618e99-db93-4465-af4d-330213a7f51f'),\n Model(id='ai-mixtral-8x7b-instruct', model_type='chat', model_name='mistralai/mixtral-8x7b-instruct-v0.1', client='ChatNVIDIA', path='a1e53ece-bff4-44d1-8b13-c009e5bf47f6'),\n Model(id='ai-neva-22b', model_type='image_in', model_name=None, client='ChatNVIDIA', path='bc205f8e-1740-40df-8d32-c4321763498a'),\n Model(id='deplot', model_type='image_in', model_name=None, client='ChatNVIDIA', path='3bc390c7-eeec-40f7-a64d-0c6a719985f7'),\n Model(id='fuyu_8b', model_type='image_in', model_name=None, client='ChatNVIDIA', path='9f757064-657f-4c85-abd7-37a7a9b6ee11'),\n Model(id='gemma_2b', model_type='chat', model_name=None, client='ChatNVIDIA', path='5bde8f6f-7e83-4413-a0f2-7b97be33988e'),\n Model(id='gemma_7b', model_type='chat', model_name=None, client='ChatNVIDIA', path='1361fa56-61d7-4a12-af32-69a3825746fa'),\n Model(id='kosmos_2', model_type='image_in', model_name=None, client='ChatNVIDIA', path='0bcd1a8c-451f-4b12-b7f0-64b4781190d1'),\n Model(id='llama2_13b', model_type='chat', model_name=None, client='ChatNVIDIA', path='e0bb7fb9-5333-4a27-8534-c6288f921d3f'),\n Model(id='llama2_70b', model_type='chat', model_name=None, client='ChatNVIDIA', path='0e349b44-440a-44e1-93e9-abe8dcb27158'),\n Model(id='llama2_code_13b', model_type='chat', model_name=None, client='ChatNVIDIA', path='f6a96af4-8bf9-4294-96d6-d71aa787612e'),\n Model(id='llama2_code_34b', model_type='chat', model_name=None, client='ChatNVIDIA', path='df2bee43-fb69-42b9-9ee5-f4eabbeaf3a8'),\n Model(id='llama2_code_70b', model_type='chat', model_name=None, client='ChatNVIDIA', path='2ae529dc-f728-4a46-9b8d-2697213666d8'),\n Model(id='mamba_chat', model_type='chat', model_name=None, client='ChatNVIDIA', path='381be320-4721-4664-bd75-58f8783b43c7'),\n Model(id='mistral_7b', model_type='chat', model_name=None, client='ChatNVIDIA', path='35ec3354-2681-4d0e-a8dd-80325dcf7c63'),\n Model(id='mixtral_8x7b', model_type='chat', model_name=None, client='ChatNVIDIA', path='8f4118ba-60a8-4e6b-8574-e38a4067a4a3'),\n Model(id='nemotron_qa_8b', model_type='qa', model_name=None, client='ChatNVIDIA', path='0c60f14d-46cb-465e-b994-227e1c3d5047'),\n Model(id='nemotron_steerlm_8b', model_type='chat', model_name=None, client='ChatNVIDIA', path='1423ff2f-d1c7-4061-82a7-9e8c67afd43a'),\n Model(id='neva_22b', model_type='image_in', model_name=None, client='ChatNVIDIA', path='8bf70738-59b9-4e5f-bc87-7ab4203be7a0'),\n Model(id='nv_llama2_rlhf_70b', model_type='chat', model_name=None, client='ChatNVIDIA', path='7b3e3361-4266-41c8-b312-f5e33c81fc92'),\n Model(id='phi2', model_type='chat', model_name=None, client='ChatNVIDIA', path='6251d6d2-54ee-4486-90f4-2792bf0d3acd'),\n Model(id='smaug_72b', model_type='chat', model_name=None, client='ChatNVIDIA', path='008cff6d-4f4c-4514-b61e-bcfad6ba52a7'),\n Model(id='steerlm_llama_70b', model_type='chat', model_name=None, client='ChatNVIDIA', path='d6fe6881-973a-4279-a0f8-e1d486c9618d'),\n Model(id='yi_34b', model_type='chat', model_name=None, client='ChatNVIDIA', path='347fa3f3-d675-432c-b844-669ef8ee53df'),\n Model(id='ai-ai-weather-forecasting', model_type=None, model_name=None, client=None, path='9cec444c-db1c-4525-9c6f-f40e4a5b11ce'),\n Model(id='ai-codegemma-7b', model_type=None, model_name=None, client=None, path='7dfc10a8-3cc4-448e-97c1-2213308dc222'),\n Model(id='ai-diffdock', model_type=None, model_name=None, client=None, path='f3dda972-561a-4772-8c09-873594b6fb72'),\n Model(id='ai-embed-qa-4', model_type=None, model_name=None, client=None, path='09c64e32-2b65-4892-a285-2f585408d118'),\n Model(id='ai-esmfold', model_type=None, model_name=None, client=None, path='a68c59e0-47a6-4a50-bf64-6d88766d56bf'),\n Model(id='ai-example', model_type=None, model_name=None, client=None, path='80a5d6c6-7658-49c5-b2b0-105bfb210282'),\n Model(id='ai-gemma-2b', model_type=None, model_name=None, client=None, path='04174188-f742-4069-9e72-d77c2b77d3cb'),\n Model(id='ai-molmim-generate', model_type=None, model_name=None, client=None, path='72be0b68-179f-412c-ac03-9a481f78cb9f'),\n Model(id='ai-nvidia-cuopt', model_type=None, model_name=None, client=None, path='b0ac1378-3d00-43cb-a8d9-0f0c37ef36c0'),\n Model(id='ai-parakeet-ctc-riva', model_type=None, model_name=None, client=None, path='22164014-a6cc-4a6f-b048-f3a303e745bb'),\n Model(id='ai-recurrentgemma-2b', model_type=None, model_name=None, client=None, path='2f495340-a99f-4b4b-89bd-1beb003dd896'),\n Model(id='ai-rerank-qa-mistral-4b', model_type=None, model_name=None, client=None, path='0bf77f50-5c35-4488-8e7a-f49bb1974af6'),\n Model(id='ai-sdxl-turbo', model_type=None, model_name=None, client=None, path='f886140c-424e-4c82-a841-99e23f9ae35d'),\n Model(id='ai-stable-diffusion-xl', model_type=None, model_name=None, client=None, path='c1b63bb0-448b-4e53-b2a7-fb0b3723cbe2'),\n Model(id='ai-stable-video-diffusion', model_type=None, model_name=None, client=None, path='8cd594f1-6a4d-4f8f-82b4-d1bf89adae98'),\n Model(id='ai-vista-3d', model_type=None, model_name=None, client=None, path='72311276-923f-4478-a506-d5b80914728a')]"
     },
     "execution_count": 2,
     "metadata": {},
     "output_type": "execute_result"
    }
   ],
   "source": [
    "from utils.agent import load_reader_model_api_key\n",
    "from langchain_nvidia_ai_endpoints import ChatNVIDIA \n",
    "\n",
    "load_reader_model_api_key()\n",
    "ChatNVIDIA.get_available_models()"
   ],
   "metadata": {
    "collapsed": false,
    "ExecuteTime": {
     "end_time": "2024-04-10T10:47:16.952491Z",
     "start_time": "2024-04-10T10:47:13.425763Z"
    }
   },
   "id": "a8d523ef5dc29f4f",
   "execution_count": 2
  },
  {
   "cell_type": "code",
   "outputs": [
    {
     "ename": "NameError",
     "evalue": "name 'generate_summarized_profile' is not defined",
     "output_type": "error",
     "traceback": [
      "\u001B[1;31m---------------------------------------------------------------------------\u001B[0m",
      "\u001B[1;31mNameError\u001B[0m                                 Traceback (most recent call last)",
      "Cell \u001B[1;32mIn[2], line 16\u001B[0m\n\u001B[0;32m      1\u001B[0m profile \u001B[38;5;241m=\u001B[39m {\n\u001B[0;32m      2\u001B[0m     \u001B[38;5;66;03m# \"name\": \"Smith\",\u001B[39;00m\n\u001B[0;32m      3\u001B[0m     \u001B[38;5;124m\"\u001B[39m\u001B[38;5;124maddress\u001B[39m\u001B[38;5;124m\"\u001B[39m: \u001B[38;5;124m\"\u001B[39m\u001B[38;5;124mUSA\u001B[39m\u001B[38;5;124m\"\u001B[39m,\n\u001B[1;32m   (...)\u001B[0m\n\u001B[0;32m     14\u001B[0m     \u001B[38;5;124m\"\u001B[39m\u001B[38;5;124mspecial notes\u001B[39m\u001B[38;5;124m\"\u001B[39m: [\u001B[38;5;124m\"\u001B[39m\u001B[38;5;124mthe person who subjected to this profile is having a physical disorder\u001B[39m\u001B[38;5;124m\"\u001B[39m]\n\u001B[0;32m     15\u001B[0m }\n\u001B[1;32m---> 16\u001B[0m bio_data_profile \u001B[38;5;241m=\u001B[39m \u001B[43mgenerate_summarized_profile\u001B[49m(profile)\n\u001B[0;32m     17\u001B[0m \u001B[38;5;28mprint\u001B[39m(bio_data_profile)\n",
      "\u001B[1;31mNameError\u001B[0m: name 'generate_summarized_profile' is not defined"
     ]
    }
   ],
   "source": [
    "profile = {\n",
    "    # \"name\": \"Smith\",\n",
    "    \"address\": \"USA\",\n",
    "    \"dob\": \"2000-09-18\",\n",
    "    \"gender\": \"male\",\n",
    "    \"salary\": 10000,\n",
    "    \"hiddenDiseases\": [],\n",
    "    \"family\": {\n",
    "        \"numMembers\": 6,\n",
    "        \"monthlyIncome\": 900000,\n",
    "        \"monthlyExpenses\": 200000,\n",
    "        \"category\": \"nuclear\"\n",
    "    },\n",
    "    \"special notes\": [\"the person who subjected to this profile is having a physical disorder\"]\n",
    "}\n",
    "bio_data_profile = generate_summarized_profile(profile)\n",
    "print(bio_data_profile)"
   ],
   "metadata": {
    "collapsed": false,
    "ExecuteTime": {
     "end_time": "2024-04-10T10:42:22.414195Z",
     "start_time": "2024-04-10T10:42:21.791003Z"
    }
   },
   "id": "78ba4f9a26d70809",
   "execution_count": 2
  },
  {
   "cell_type": "code",
   "outputs": [
    {
     "name": "stdout",
     "output_type": "stream",
     "text": [
      " This individual's emotional profile demonstrates a predominantly positive engagement, with the most engaging facial emotion being \"happy\" (90% average arousal) and a moderate positive valence (60%). The mostly engaging sentimental emotion is also \"happy\" (100% average valence) with a moderate arousal level (69%). Overall, the emotional profile indicates a generally positive and content state, which could contribute to a more optimistic outlook and potentially more effective decision-making.\n"
     ]
    }
   ],
   "source": [
    "profile = {\n",
    "    # \"name\": \"Smith\",\n",
    "    # \"gender\": \"male\",\n",
    "    \"emotionalProfile\": {\n",
    "        \"mostlyEngagingFacialEmotion\": {\n",
    "            \"emotion\": \"happy\",\n",
    "            \"avgArousal (percentage)\": 90,\n",
    "            \"avgValence (percentage)\": 60\n",
    "        },\n",
    "        \"mostlyEngagingSentimentalEmotion\": {\n",
    "            \"emotion\": \"happy\",\n",
    "            \"avgArousal (percentage)\": 69,\n",
    "            \"avgValence (percentage)\": 100\n",
    "        }\n",
    "    }\n",
    "}\n",
    "emotion_profile = generate_summarized_profile(profile)\n",
    "print(emotion_profile)"
   ],
   "metadata": {
    "collapsed": false,
    "ExecuteTime": {
     "end_time": "2024-04-08T12:17:48.503169Z",
     "start_time": "2024-04-08T12:17:45.011097Z"
    }
   },
   "id": "d0c6368dc58e6e81",
   "execution_count": 6
  },
  {
   "cell_type": "code",
   "outputs": [
    {
     "name": "stdout",
     "output_type": "stream",
     "text": [
      " Taking into account the provided bio data and emotional engagement profiles, several recommendations can be made for this employee.\n",
      "\n",
      "Firstly, considering the individual's physical disorder, it would be beneficial to explore potential accommodations within the workplace. This could involve adjusting the physical environment or work tasks to better suit their needs, thereby promoting comfort and productivity.\n",
      "\n",
      "Secondly, despite the high family income, the significant monthly expenses should be noted. Although this does not directly impact the employee's work performance, it may contribute to stress levels outside of work. Therefore, implementing stress management strategies could be beneficial. This could include flexible working hours or providing access to mental health resources.\n",
      "\n",
      "Thirdly, the employee's predominantly positive emotional disposition should be acknowledged and leveraged. The high levels of happiness and positive valence suggest that this individual is likely to have a optimistic outlook and effective decision-making skills. Therefore, providing opportunities for growth and leadership could be beneficial, as this may further enhance these strengths.\n",
      "\n",
      "In conclusion, by accommodating the employee's physical needs, addressing potential financial stressors, and leveraging their positive emotional disposition, a supportive and productive work environment can be fostered.\n"
     ]
    }
   ],
   "source": [
    "profile_recommendation = generate_profiles_into_recommendation(bio_data_profile, emotion_profile)\n",
    "print(profile_recommendation)"
   ],
   "metadata": {
    "collapsed": false,
    "ExecuteTime": {
     "end_time": "2024-04-08T12:17:54.841728Z",
     "start_time": "2024-04-08T12:17:50.530543Z"
    }
   },
   "id": "5cc5af0c89fbf322",
   "execution_count": 7
  },
  {
   "cell_type": "code",
   "outputs": [
    {
     "name": "stdout",
     "output_type": "stream",
     "text": [
      " In light of the information provided, it is suggested that several recommendations be taken into consideration for the employee in question, Miss Jane Smith. Firstly, regarding her financial situation, it may be beneficial for her to explore opportunities for supplemental income, given the discrepancy between her family's monthly income and expenses. This could potentially alleviate some of the financial stress she may be experiencing due to her family's financial state.\n",
      "\n",
      "Secondly, in regard to her emotional engagement profile, it is recommended that measures be taken to address her predominant negative emotions, particularly her sadness and fear. This could involve implementing employee assistance programs that offer counseling or therapy services. Additionally, providing resources on mindfulness and stress management techniques could be beneficial in helping her manage her anxiety.\n",
      "\n",
      "Lastly, it is important to acknowledge her strengths. Although not specified in the profile, it is crucial to identify and highlight her abilities and achievements. Recognizing her contributions and providing constructive feedback can significantly enhance her emotional well-being and overall job satisfaction.\n",
      "\n",
      "In conclusion, by addressing her financial stability and emotional disposition, while also acknowledging her strengths, Miss Smith can be better supported in her role, leading to improved emotional well-being and effectiveness in the workplace.\n"
     ]
    }
   ],
   "source": [
    "bio_data_profile = '''Jane Smith is a female individual who lives at 456 Elm St. She was born on February 2, 1990, \n",
    "making her 34 years old. Jane earns an annual salary of 75,000. She has been diagnosed with Anxiety. In her compound \n",
    "family, there are eight members, with a monthly income of 7,000 and monthly expenses of 5,000. There is only one \n",
    "occupation in the family, and they can be faced potential challenges or intricacies in managing their finances due to \n",
    "less income per month compared with expenses per month.'''\n",
    "emotion_profile = '''This person's emotional profile suggests a predominant engagement with negative emotions. Their most engaging facial \n",
    "emotion is \"sad\" (73% accuracy) with moderate arousal (38.9) and a moderate negative valence (54.1), reflecting feelings\n",
    "of sadness or melancholy. Furthermore, their engaging sentimental emotion is \"fear\" (85% accuracy) with low arousal \n",
    "(25.7) but a high negative valence (78.3), indicating feelings of anxiety or apprehension. These emotional states may \n",
    "impact decision-making processes by influencing risk aversion or cautiousness. Addressing the underlying causes of \n",
    "these emotions could be essential for improving the individual's emotional well-being and effectiveness in the \n",
    "workplace.'''\n",
    "profile_recommendation = generate_profiles_into_recommendation(bio_data_profile, emotion_profile)\n",
    "print(profile_recommendation)"
   ],
   "metadata": {
    "collapsed": false,
    "ExecuteTime": {
     "end_time": "2024-04-08T10:19:11.650502Z",
     "start_time": "2024-04-08T10:19:07.270980Z"
    }
   },
   "id": "c8db3fe727c2f923",
   "execution_count": 5
  },
  {
   "cell_type": "code",
   "outputs": [],
   "source": [],
   "metadata": {
    "collapsed": false
   },
   "id": "839e7ebe0e225a15"
  }
 ],
 "metadata": {
  "kernelspec": {
   "display_name": "Python 3",
   "language": "python",
   "name": "python3"
  },
  "language_info": {
   "codemirror_mode": {
    "name": "ipython",
    "version": 2
   },
   "file_extension": ".py",
   "mimetype": "text/x-python",
   "name": "python",
   "nbconvert_exporter": "python",
   "pygments_lexer": "ipython2",
   "version": "2.7.6"
  }
 },
 "nbformat": 4,
 "nbformat_minor": 5
}
