{
 "cells": [
  {
   "cell_type": "code",
   "execution_count": 1,
   "id": "initial_id",
   "metadata": {
    "collapsed": true,
    "ExecuteTime": {
     "end_time": "2024-04-11T12:45:12.005667Z",
     "start_time": "2024-04-11T12:45:10.813463Z"
    }
   },
   "outputs": [],
   "source": [
    "from utils.query_context import generate_query_context_analysis"
   ]
  },
  {
   "cell_type": "code",
   "outputs": [],
   "source": [
    "def analyze_query_context(query: str, chat_history: list) -> dict:\n",
    "    return generate_query_context_analysis(query, chat_history)"
   ],
   "metadata": {
    "collapsed": false,
    "ExecuteTime": {
     "end_time": "2024-04-11T12:45:12.014745Z",
     "start_time": "2024-04-11T12:45:12.008672Z"
    }
   },
   "id": "e8988f3c1b326e5b",
   "execution_count": 2
  },
  {
   "cell_type": "code",
   "outputs": [
    {
     "name": "stdout",
     "output_type": "stream",
     "text": [
      "{'evaluation': {'relevanceOnCapabilityAndBackgroundOfHappyFace': 0, 'relevanceOnPersonalMatters': 9, 'relevanceOnSatisfactionAboutServicesProvide': 0, 'relevanceOnChatHistory': 0, 'total': 9}}\n"
     ]
    }
   ],
   "source": [
    "query = '''\n",
    "    I am in a severe stress condition a personal financial un stability, would I able to take a loan from my work place? and also \n",
    "    I need to take three holidays within this week. Am I able to take holidays during this week? \n",
    "    If yes, what are the days I should be taken in this week?\n",
    "'''\n",
    "context = analyze_query_context(query, [])\n",
    "print(context)"
   ],
   "metadata": {
    "collapsed": false,
    "ExecuteTime": {
     "end_time": "2024-04-11T12:45:17.360773Z",
     "start_time": "2024-04-11T12:45:12.624194Z"
    }
   },
   "id": "815d6ef5401f91cf",
   "execution_count": 3
  },
  {
   "cell_type": "code",
   "outputs": [
    {
     "name": "stdout",
     "output_type": "stream",
     "text": [
      "{'evaluation': {'relevanceOnCapabilityAndBackgroundOfHappyFace': 1, 'relevanceOnPersonalMatters': 0, 'relevanceOnSatisfactionAboutServicesProvide': 0, 'relevanceOnChatHistory': 0, 'total': 1}}\n"
     ]
    }
   ],
   "source": [
    "print(analyze_query_context(\"what is the best laptop for a university student?\", []))"
   ],
   "metadata": {
    "collapsed": false,
    "ExecuteTime": {
     "end_time": "2024-04-11T12:45:26.477353Z",
     "start_time": "2024-04-11T12:45:23.056257Z"
    }
   },
   "id": "225ff88effdf5eeb",
   "execution_count": 4
  },
  {
   "cell_type": "code",
   "outputs": [
    {
     "name": "stdout",
     "output_type": "stream",
     "text": [
      "{'evaluation': {'relevanceOnCapabilityAndBackgroundOfHappyFace': 2, 'relevanceOnPersonalMatters': 0}}\n"
     ]
    }
   ],
   "source": [
    "print(analyze_query_context(\n",
    "    \"what would you think about a LLM powered operating system? How it will be aligned with today's business world?\",\n",
    "    []))"
   ],
   "metadata": {
    "collapsed": false,
    "ExecuteTime": {
     "end_time": "2024-04-11T12:45:32.557229Z",
     "start_time": "2024-04-11T12:45:29.688322Z"
    }
   },
   "id": "a54c66251510ea29",
   "execution_count": 5
  },
  {
   "cell_type": "code",
   "outputs": [
    {
     "name": "stdout",
     "output_type": "stream",
     "text": [
      "{'evaluation': {'relevanceOnCapabilityAndBackgroundOfHappyFace': 7, 'relevanceOnPersonalMatters': 0, 'relevanceOnSatisfactionAboutServicesProvide': 0, 'relevanceOnChatHistory': 0, 'total': 7}}\n"
     ]
    }
   ],
   "source": [
    "query = \"Who are you? for what are you capable of?\"\n",
    "print(analyze_query_context(query, []))"
   ],
   "metadata": {
    "collapsed": false,
    "ExecuteTime": {
     "end_time": "2024-04-11T12:45:40.803377Z",
     "start_time": "2024-04-11T12:45:37.456010Z"
    }
   },
   "id": "a3d4e85ab4e49cc0",
   "execution_count": 6
  },
  {
   "cell_type": "code",
   "outputs": [
    {
     "name": "stdout",
     "output_type": "stream",
     "text": [
      "{'evaluation': {'relevanceOnCapabilityAndBackgroundOfHappyFace': 2, 'relevanceOnPersonalMatters': 8, 'relevanceOnSatisfactionAboutServicesProvide': 0, 'relevanceOnChatHistory': 0, 'total': 10}}\n"
     ]
    }
   ],
   "source": [
    "query = '''\n",
    "    I am on a vacation next week? Will my boss allow me to do so?\n",
    "'''\n",
    "print(analyze_query_context(query, []))"
   ],
   "metadata": {
    "collapsed": false,
    "ExecuteTime": {
     "end_time": "2024-04-11T12:45:46.398384Z",
     "start_time": "2024-04-11T12:45:43.040371Z"
    }
   },
   "id": "8acf8c1fced031d4",
   "execution_count": 7
  },
  {
   "cell_type": "code",
   "outputs": [
    {
     "name": "stdout",
     "output_type": "stream",
     "text": [
      "{'evaluation': {'relevanceOnCapabilityAndBackgroundOfHappyFace': 8, 'relevanceOnPersonalMatters': 9, 'relevanceOnSatisfactionAboutServicesProvide': 0, 'relevanceOnChatHistory': 0, 'total': 17}}\n"
     ]
    }
   ],
   "source": [
    "query = \"I am afraid of my boss, I am somewhat depressed in right now\"\n",
    "print(analyze_query_context(query, []))"
   ],
   "metadata": {
    "collapsed": false,
    "ExecuteTime": {
     "end_time": "2024-04-11T12:45:51.519932Z",
     "start_time": "2024-04-11T12:45:48.145313Z"
    }
   },
   "id": "c79745b4bb00811b",
   "execution_count": 8
  },
  {
   "cell_type": "code",
   "outputs": [
    {
     "name": "stdout",
     "output_type": "stream",
     "text": [
      "{'evaluation': {'relevanceOnCapabilityAndBackgroundOfHappyFace': 7, 'relevanceOnPersonalMatters': 10, 'relevanceOnSatisfactionAboutServicesProvide': 0, 'relevanceOnChatHistory': 0, 'total': 17}}\n"
     ]
    }
   ],
   "source": [
    "query = '''\n",
    "    I am working as a software engineer of my company. Since I have to get engage by sitting in-front of a computer all the day,\n",
    "    I have encountered with a back pain yesterday? Help me please :(\n",
    "'''\n",
    "print(analyze_query_context(query, []))"
   ],
   "metadata": {
    "collapsed": false,
    "ExecuteTime": {
     "end_time": "2024-04-11T12:45:54.804762Z",
     "start_time": "2024-04-11T12:45:51.532891Z"
    }
   },
   "id": "1e8a7164dbdb4a83",
   "execution_count": 9
  },
  {
   "cell_type": "code",
   "outputs": [
    {
     "name": "stdout",
     "output_type": "stream",
     "text": [
      "{'evaluation': {'relevanceOnCapabilityAndBackgroundOfHappyFace': 7, 'relevanceOnPersonalMatters': 0, 'relevanceOnSatisfactionAboutServicesProvide': 0, 'relevanceOnChatHistory': 0, 'total': 7}}\n"
     ]
    }
   ],
   "source": [
    "query = '''\n",
    "    Who created HappyFace?\n",
    "    For what is it built for?\n",
    "    How HappyFace guarantees my privacy and security?\n",
    "'''\n",
    "print(analyze_query_context(query, []))"
   ],
   "metadata": {
    "collapsed": false,
    "ExecuteTime": {
     "end_time": "2024-04-11T12:45:58.003558Z",
     "start_time": "2024-04-11T12:45:54.806763Z"
    }
   },
   "id": "c4a4319ebc41920e",
   "execution_count": 10
  },
  {
   "cell_type": "code",
   "outputs": [
    {
     "name": "stdout",
     "output_type": "stream",
     "text": [
      "{'evaluation': {'relevanceOnCapabilityAndBackgroundOfHappyFace': 10, 'relevanceOnPersonalMatters': 0, 'relevanceOnSatisfactionAboutServicesProvide': 0, 'relevanceOnChatHistory': 0, 'total': 10}}\n"
     ]
    }
   ],
   "source": [
    "query = \"Builder of HappyFace\"\n",
    "print(analyze_query_context(query, []))"
   ],
   "metadata": {
    "collapsed": false,
    "ExecuteTime": {
     "end_time": "2024-04-11T12:46:01.200260Z",
     "start_time": "2024-04-11T12:45:58.006555Z"
    }
   },
   "id": "8869b04ad8682ee2",
   "execution_count": 11
  },
  {
   "cell_type": "code",
   "outputs": [
    {
     "name": "stdout",
     "output_type": "stream",
     "text": [
      "{'evaluation': {'relevanceOnCapabilityAndBackgroundOfHappyFace': 8, 'relevanceOnPersonalMatters': 10, 'relevanceOnSatisfactionAboutServicesProvide': 0, 'relevanceOnChatHistory': 0, 'total': 18}}\n"
     ]
    }
   ],
   "source": [
    "query = '''\n",
    "    My wife is pregnant! But I am not sure about my potentiality on financial capabilities will help me to make survive 3 members \n",
    "    including with me. By thinking about this problem all the time, now I feel a very frustrated attitude about my life. \n",
    "    Thinking I may need to get proper counselling from organizational medical center. Do you have any support which can do for me\n",
    "    under this situation? If it is, you are a great life savor! Thank you!\n",
    "'''\n",
    "print(analyze_query_context(query, []))"
   ],
   "metadata": {
    "collapsed": false,
    "ExecuteTime": {
     "end_time": "2024-04-11T12:46:04.379196Z",
     "start_time": "2024-04-11T12:46:01.202260Z"
    }
   },
   "id": "7ed633cad32df75c",
   "execution_count": 12
  },
  {
   "cell_type": "code",
   "outputs": [
    {
     "name": "stdout",
     "output_type": "stream",
     "text": [
      "{'evaluation': {'relevanceOnCapabilityAndBackgroundOfHappyFace': 2, 'relevanceOnPersonalMatters': 8, 'relevanceOnSatisfactionAboutServicesProvide': 0, 'relevanceOnChatHistory': 0, 'total': 10}}\n"
     ]
    }
   ],
   "source": [
    "query = '''\n",
    "    What would you do for me, If you are in my situation?\n",
    "'''\n",
    "print(analyze_query_context(query, []))"
   ],
   "metadata": {
    "collapsed": false,
    "ExecuteTime": {
     "end_time": "2024-04-11T12:46:07.653582Z",
     "start_time": "2024-04-11T12:46:04.384196Z"
    }
   },
   "id": "8f764b419134f631",
   "execution_count": 13
  },
  {
   "cell_type": "code",
   "outputs": [
    {
     "name": "stdout",
     "output_type": "stream",
     "text": [
      "{'evaluation': {'relevanceOnCapabilityAndBackgroundOfHappyFace': 0, 'relevanceOnPersonalMatters': 0, 'relevanceOnSatisfactionAboutServicesProvide': 10, 'relevanceOnChatHistory': 0, 'total': 10}}\n"
     ]
    }
   ],
   "source": [
    "query = '''\n",
    "    You are a life savor man! Keep it up with good works. I am in love with your service. 10 marks out of 10!\n",
    "'''\n",
    "print(analyze_query_context(query, []))"
   ],
   "metadata": {
    "collapsed": false,
    "ExecuteTime": {
     "end_time": "2024-04-11T12:46:10.998755Z",
     "start_time": "2024-04-11T12:46:07.657578Z"
    }
   },
   "id": "5f8e861a7dab03e7",
   "execution_count": 14
  },
  {
   "cell_type": "code",
   "outputs": [
    {
     "name": "stdout",
     "output_type": "stream",
     "text": [
      "{'evaluation': {'relevanceOnCapabilityAndBackgroundOfHappyFace': 0, 'relevanceOnPersonalMatters': 0, 'relevanceOnSatisfactionAboutServicesProvide': 0, 'relevanceOnChatHistory': 10, 'total': 10}}\n"
     ]
    }
   ],
   "source": [
    "query = '''\n",
    "    What we were talking about until now?\n",
    "'''\n",
    "print(analyze_query_context(query, []))"
   ],
   "metadata": {
    "collapsed": false,
    "ExecuteTime": {
     "end_time": "2024-04-11T12:46:14.494882Z",
     "start_time": "2024-04-11T12:46:11.004750Z"
    }
   },
   "id": "f3530eb33be2f288",
   "execution_count": 15
  },
  {
   "cell_type": "code",
   "outputs": [
    {
     "name": "stdout",
     "output_type": "stream",
     "text": [
      "{'evaluation': {'relevanceOnCapabilityAndBackgroundOfHappyFace': 0, 'relevanceOnPersonalMatters': 0, 'relevanceOnSatisfactionAboutServicesProvide': 0, 'relevanceOnChatHistory': 0, 'total': 0}}\n"
     ]
    }
   ],
   "source": [
    "query = '''\n",
    "    Would you able to generate a picture which is under the theme of 'animal free world'\n",
    "'''\n",
    "print(analyze_query_context(query, []))"
   ],
   "metadata": {
    "collapsed": false,
    "ExecuteTime": {
     "end_time": "2024-04-11T12:46:17.758673Z",
     "start_time": "2024-04-11T12:46:14.498881Z"
    }
   },
   "id": "6c72b1d9cea2f0c0",
   "execution_count": 16
  },
  {
   "cell_type": "code",
   "outputs": [
    {
     "name": "stdout",
     "output_type": "stream",
     "text": [
      "{'evaluation': {'relevanceOnCapabilityAndBackgroundOfHappyFace': 2, 'relevanceOnPersonalMatters': 0, 'relevanceOnSatisfactionAboutServicesProvide': 0, 'relevanceOnChatHistory': 0, 'total': 2}}\n"
     ]
    }
   ],
   "source": [
    "query = '''\n",
    "    Artificial intelligence (AI) is the science of creating machines that can think like humans. AI uses computers and machines to mimic the problem-solving and decision-making capabilities of the human mind.\n",
    "'''\n",
    "print(analyze_query_context(query, []))"
   ],
   "metadata": {
    "collapsed": false,
    "ExecuteTime": {
     "end_time": "2024-04-11T12:46:20.965598Z",
     "start_time": "2024-04-11T12:46:17.775641Z"
    }
   },
   "id": "eedd372b7c552760",
   "execution_count": 17
  },
  {
   "cell_type": "code",
   "outputs": [
    {
     "name": "stdout",
     "output_type": "stream",
     "text": [
      "{'evaluation': {'relevanceOnCapabilityAndBackgroundOfHappyFace': 1, 'relevanceOnPersonalMatters': 0, 'relevanceOnSatisfactionAboutServicesProvide': 0, 'relevanceOnChatHistory': 0, 'total': 1}}\n"
     ]
    }
   ],
   "source": [
    "query = '''\n",
    "    Answer below questions:\n",
    "    \n",
    "    What symbol is used to symbolise percentage?\n",
    "    What is the sum of 18 – 9?\n",
    "    How many sides does a pentagon have?\n",
    "    What is the sum of 7 x 7?\n",
    "    What is the sum of 100 ÷ 50?\n",
    "    What is one half written as a fraction?\n",
    "    If the time is 12pm, how many hours is it until 6pm?\n",
    "    I have a 300ml cup of coffee.\n",
    "'''\n",
    "print(analyze_query_context(query, []))"
   ],
   "metadata": {
    "collapsed": false,
    "ExecuteTime": {
     "end_time": "2024-04-11T12:46:24.233415Z",
     "start_time": "2024-04-11T12:46:20.974591Z"
    }
   },
   "id": "b1cb01a7acd0e70c",
   "execution_count": 18
  },
  {
   "cell_type": "code",
   "outputs": [
    {
     "name": "stdout",
     "output_type": "stream",
     "text": [
      "{'evaluation': {'relevanceOnCapabilityAndBackgroundOfHappyFace': 0, 'relevanceOnPersonalMatters': 0, 'relevanceOnSatisfactionAboutServicesProvide': 0, 'relevanceOnChatHistory': 0, 'total': 0}}\n"
     ]
    }
   ],
   "source": [
    "query = '''\n",
    "    Tell me a fairy tale by constructing it yourself only!\n",
    "'''\n",
    "print(analyze_query_context(query, []))"
   ],
   "metadata": {
    "collapsed": false,
    "ExecuteTime": {
     "end_time": "2024-04-11T12:46:27.473735Z",
     "start_time": "2024-04-11T12:46:24.235379Z"
    }
   },
   "id": "808383a9afbf7d5d",
   "execution_count": 19
  },
  {
   "cell_type": "code",
   "outputs": [
    {
     "name": "stdout",
     "output_type": "stream",
     "text": [
      "{'evaluation': {'relevanceOnCapabilityAndBackgroundOfHappyFace': 0, 'relevanceOnPersonalMatters': 0, 'relevanceOnSatisfactionAboutServicesProvide': 0, 'relevanceOnChatHistory': 0, 'total': 0}}\n"
     ]
    }
   ],
   "source": [
    "query = '''\n",
    "    Mention 3 types of animal breeds who exist alive in 2024?\n",
    "'''\n",
    "print(analyze_query_context(query, []))"
   ],
   "metadata": {
    "collapsed": false,
    "ExecuteTime": {
     "end_time": "2024-04-11T12:46:30.754570Z",
     "start_time": "2024-04-11T12:46:27.477731Z"
    }
   },
   "id": "cdf11f9e9b1de268",
   "execution_count": 20
  },
  {
   "cell_type": "code",
   "outputs": [
    {
     "name": "stdout",
     "output_type": "stream",
     "text": [
      "{'evaluation': {'relevanceOnCapabilityAndBackgroundOfHappyFace': 7, 'relevanceOnPersonalMatters': 0, 'relevanceOnSatisfactionAboutServicesProvide': 0, 'relevanceOnChatHistory': 0, 'total': 7}}\n"
     ]
    }
   ],
   "source": [
    "query = '''\n",
    "    Artificial intelligence (AI) is the science of creating machines that can think like humans. AI uses computers and machines to mimic the problem-solving and decision-making capabilities of the human mind. then HF?\n",
    "'''\n",
    "print(analyze_query_context(query, []))"
   ],
   "metadata": {
    "collapsed": false,
    "ExecuteTime": {
     "end_time": "2024-04-11T12:46:34.071433Z",
     "start_time": "2024-04-11T12:46:30.757571Z"
    }
   },
   "id": "6ad003988a00c5b4",
   "execution_count": 21
  },
  {
   "cell_type": "code",
   "outputs": [],
   "source": [],
   "metadata": {
    "collapsed": false
   },
   "id": "8da0041862a5d951"
  }
 ],
 "metadata": {
  "kernelspec": {
   "display_name": "Python 3",
   "language": "python",
   "name": "python3"
  },
  "language_info": {
   "codemirror_mode": {
    "name": "ipython",
    "version": 2
   },
   "file_extension": ".py",
   "mimetype": "text/x-python",
   "name": "python",
   "nbconvert_exporter": "python",
   "pygments_lexer": "ipython2",
   "version": "2.7.6"
  }
 },
 "nbformat": 4,
 "nbformat_minor": 5
}
