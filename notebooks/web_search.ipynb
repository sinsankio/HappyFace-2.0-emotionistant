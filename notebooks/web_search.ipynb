{
 "cells": [
  {
   "cell_type": "code",
   "execution_count": 1,
   "id": "initial_id",
   "metadata": {
    "collapsed": true,
    "ExecuteTime": {
     "end_time": "2024-04-09T05:14:24.340381Z",
     "start_time": "2024-04-09T05:14:23.736949Z"
    }
   },
   "outputs": [],
   "source": [
    "from utils.web_search import load_web_search_answer_tool"
   ]
  },
  {
   "cell_type": "code",
   "outputs": [
    {
     "name": "stdout",
     "output_type": "stream",
     "text": [
      "Sineth Sankalpa is a passionate Full Stack Developer from Sri Lanka who is currently learning Data Science and Artificial Intelligence. He is interested in collaborating on Open Source Projects and providing Tech Consultancy. Sineth Sankalpa is also described as an Artificial Intelligent Software Developer, Innovator, Teacher, Freelancer, and an Undergraduate.\n"
     ]
    }
   ],
   "source": [
    "tool = load_web_search_answer_tool()\n",
    "print(tool.invoke({\"query\": \"Who is Sineth Sankalpa?\"}))"
   ],
   "metadata": {
    "collapsed": false,
    "ExecuteTime": {
     "end_time": "2024-04-09T05:15:46.288925Z",
     "start_time": "2024-04-09T05:15:43.117250Z"
    }
   },
   "id": "c125cf6d6e7da6e5",
   "execution_count": 5
  },
  {
   "cell_type": "code",
   "outputs": [
    {
     "name": "stdout",
     "output_type": "stream",
     "text": [
      "Based on the data provided, Flask is noted as one of the top 11 Python frameworks to know in 2024. It offers a range of features and advantages that make it a popular choice for micro-framework development. Flask provides extensions for additional functionality like database integration and form validation, making it a versatile option for developers.\n"
     ]
    }
   ],
   "source": [
    "tool = load_web_search_answer_tool()\n",
    "print(tool.invoke({\"query\": \"What is the most trending Python framework in 2024?\"}))"
   ],
   "metadata": {
    "collapsed": false,
    "ExecuteTime": {
     "end_time": "2024-04-09T05:16:00.915729Z",
     "start_time": "2024-04-09T05:15:57.511196Z"
    }
   },
   "id": "4ae4482e14734b64",
   "execution_count": 6
  },
  {
   "cell_type": "code",
   "outputs": [],
   "source": [],
   "metadata": {
    "collapsed": false
   },
   "id": "965763cd77a56f22"
  }
 ],
 "metadata": {
  "kernelspec": {
   "display_name": "Python 3",
   "language": "python",
   "name": "python3"
  },
  "language_info": {
   "codemirror_mode": {
    "name": "ipython",
    "version": 2
   },
   "file_extension": ".py",
   "mimetype": "text/x-python",
   "name": "python",
   "nbconvert_exporter": "python",
   "pygments_lexer": "ipython2",
   "version": "2.7.6"
  }
 },
 "nbformat": 4,
 "nbformat_minor": 5
}
