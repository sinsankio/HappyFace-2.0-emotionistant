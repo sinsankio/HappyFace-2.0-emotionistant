{
 "cells": [
  {
   "cell_type": "code",
   "outputs": [],
   "source": [
    "from utils.hf_rag import load_reader_model\n",
    "\n",
    "llm = load_reader_model()"
   ],
   "metadata": {
    "collapsed": false,
    "ExecuteTime": {
     "end_time": "2024-04-04T14:37:25.448385Z",
     "start_time": "2024-04-04T14:37:25.376575Z"
    }
   },
   "id": "4af1f17dc583970a",
   "execution_count": 2
  },
  {
   "cell_type": "markdown",
   "source": [
    "## HappyFace RAG Search Tool"
   ],
   "metadata": {
    "collapsed": false
   },
   "id": "b223b95bb88577b2"
  },
  {
   "cell_type": "code",
   "outputs": [
    {
     "name": "stdout",
     "output_type": "stream",
     "text": [
      "HappyFace Rag Search Tool\n",
      "HappyFace Rag Search Tool(query: str) -> str - Use the tool when you need to answer anything in the context of HappyFace service platform\n",
      "{'query': {'title': 'Query', 'description': 'should be a query related to a user input', 'type': 'string'}}\n",
      "False\n"
     ]
    }
   ],
   "source": [
    "from scripts.tools.hf_rag_search_tool import rag_search_tool\n",
    "\n",
    "print(rag_search_tool.name)\n",
    "print(rag_search_tool.description)\n",
    "print(rag_search_tool.args)\n",
    "print(rag_search_tool.return_direct)"
   ],
   "metadata": {
    "collapsed": false,
    "ExecuteTime": {
     "end_time": "2024-04-04T14:37:28.279151Z",
     "start_time": "2024-04-04T14:37:28.223745Z"
    }
   },
   "id": "dee2ddc190a975c7",
   "execution_count": 3
  },
  {
   "cell_type": "code",
   "outputs": [],
   "source": [
    "from langchain.agents import initialize_agent\n",
    "from langchain.agents.agent_types import AgentType\n",
    "\n",
    "agent = initialize_agent(\n",
    "    tools=[rag_search_tool],\n",
    "    llm=llm,\n",
    "    agent=AgentType.ZERO_SHOT_REACT_DESCRIPTION,\n",
    "    verbose=True,\n",
    "    handle_parsing_errors=True\n",
    ")"
   ],
   "metadata": {
    "collapsed": false,
    "ExecuteTime": {
     "end_time": "2024-04-04T13:00:57.164991Z",
     "start_time": "2024-04-04T13:00:57.157902Z"
    }
   },
   "id": "40846d194c4a4c28",
   "execution_count": 64
  },
  {
   "cell_type": "code",
   "outputs": [
    {
     "name": "stdout",
     "output_type": "stream",
     "text": [
      "\n",
      "\n",
      "\u001B[1m> Entering new AgentExecutor chain...\u001B[0m\n",
      "\u001B[32;1m\u001B[1;3mI need to search for information on the ethics of the HappyFace platform to form a justified opinion.\n",
      "Action: rag_search_tool\n",
      "Action Input: \"ethics of HappyFace platform\"\u001B[0m\n",
      "Observation: \u001B[36;1m\u001B[1;3mThe ethics of the HappyFace platform are centered around ensuring data privacy, security, and confidentiality. The platform securely stores and protects personal information of workers using advanced encryption and hashing methodologies. Access to the application and its database is restricted to authorized personnel within the organization to maintain privacy and comply with relevant data protection regulations. Additionally, the platform aims to eliminate negative distractions from work environments without compromising individuals' personal information or violating their rights.\u001B[0m\n",
      "Thought:\u001B[32;1m\u001B[1;3mBased on the search results, I can see that the HappyFace platform is focused on ethical practices regarding data privacy and security.\n",
      "Final Answer: The HappyFace platform upholds ethical standards by prioritizing data privacy, security, and confidentiality.\u001B[0m\n",
      "\n",
      "\u001B[1m> Finished chain.\u001B[0m\n",
      "{'input': \"\\n            'Someone has said that HappyFace is a non-ethical platform'\\n            How do you agree with the above statement? If you are agreeing or not, justify your\\n            answer with reasonable possibilities \\n        \", 'output': 'The HappyFace platform upholds ethical standards by prioritizing data privacy, security, and confidentiality.'}\n"
     ]
    }
   ],
   "source": [
    "print(agent.invoke(\n",
    "    {\n",
    "        \"input\": '''\n",
    "            'Someone has said that HappyFace is a non-ethical platform'\n",
    "            How do you agree with the above statement? If you are agreeing or not, justify your\n",
    "            answer with reasonable possibilities \n",
    "        '''\n",
    "    }\n",
    "))"
   ],
   "metadata": {
    "collapsed": false,
    "ExecuteTime": {
     "end_time": "2024-04-04T12:58:37.047910Z",
     "start_time": "2024-04-04T12:58:11.085229Z"
    }
   },
   "id": "3c5a4ccf3a37f188",
   "execution_count": 59
  },
  {
   "cell_type": "markdown",
   "source": [
    "## Finding Best Agent Type"
   ],
   "metadata": {
    "collapsed": false
   },
   "id": "56e03fa08d4343e9"
  },
  {
   "cell_type": "code",
   "outputs": [
    {
     "name": "stdout",
     "output_type": "stream",
     "text": [
      "\n",
      "\n",
      "\u001B[1m> Entering new AgentExecutor chain...\u001B[0m\n",
      "\u001B[32;1m\u001B[1;3mI should use the rag_search_tool to find information about the HappyFace HF_EMO consultation for a person intending to resign from a job role.\n",
      "Action: rag_search_tool\n",
      "Action Input: HappyFace HF_EMO consultation for job resignation\u001B[0m\n",
      "Observation: \u001B[36;1m\u001B[1;3mThe HF_EMO module of HappyFace AI does not specifically mention handling consultations for individuals intending to resign from their job role in the provided context. The module focuses on providing personalized emotional support and guidance to employees based on their emotional behaviors and sentimental analysis of their chatting behaviors. It is designed to offer mentoring recommendations and support to help employees thrive in their roles. While it may address emotional issues and personal problems that could potentially lead to resignations, the exact process for handling consultations for individuals intending to resign is not detailed in the information provided.\u001B[0m\n",
      "Thought:\u001B[32;1m\u001B[1;3mIt seems like the HappyFace HF_EMO module may not have a specific consultation process for individuals intending to resign from their job role. However, it may still provide support and guidance for emotional issues that could be influencing their decision to resign.\n",
      "Final Answer: The HappyFace HF_EMO module may offer personalized emotional support and guidance to individuals facing emotional challenges related to their job roles, but a specific consultation process for those intending to resign may not be outlined.\u001B[0m\n",
      "\n",
      "\u001B[1m> Finished chain.\u001B[0m\n",
      "{'input': '\\n            What HappyFace HF_EMO will consulted on a person who is raising with an intention to resign from a job role? \\n            Explain using an example scenario explanation\\n        ', 'output': 'The HappyFace HF_EMO module may offer personalized emotional support and guidance to individuals facing emotional challenges related to their job roles, but a specific consultation process for those intending to resign may not be outlined.'}\n"
     ]
    }
   ],
   "source": [
    "agent = initialize_agent(\n",
    "    tools=[rag_search_tool],\n",
    "    llm=llm,\n",
    "    agent=AgentType.ZERO_SHOT_REACT_DESCRIPTION,\n",
    "    verbose=True,\n",
    "    handle_parsing_errors=True\n",
    ")\n",
    "\n",
    "print(agent.invoke(\n",
    "    {\n",
    "        \"input\": '''\n",
    "            What HappyFace HF_EMO will consulted on a person who is raising with an intention to resign from a job role? \n",
    "            Explain using an example scenario explanation\n",
    "        '''\n",
    "    }\n",
    "))"
   ],
   "metadata": {
    "collapsed": false,
    "ExecuteTime": {
     "end_time": "2024-04-04T13:01:28.982475Z",
     "start_time": "2024-04-04T13:01:00.768539Z"
    }
   },
   "id": "4901489eb9dd8349",
   "execution_count": 65
  },
  {
   "cell_type": "code",
   "outputs": [
    {
     "name": "stdout",
     "output_type": "stream",
     "text": [
      "\n",
      "\n",
      "\u001B[1m> Entering new AgentExecutor chain...\u001B[0m\n",
      "\u001B[32;1m\u001B[1;3mQuestion: What HappyFace HF_EMO will consulted on a person who is raising with an intention to resign from a job role? \n",
      "Explanation using an example scenario.\n",
      "\n",
      "Thought: I need to search for information on the HappyFace HF_EMO tool regarding consulting someone who intends to resign from a job role.\n",
      "\n",
      "Action:\n",
      "```\n",
      "{\n",
      "  \"action\": \"rag_search_tool\",\n",
      "  \"action_input\": \"HappyFace HF_EMO consulting on intention to resign from job role\"\n",
      "}\n",
      "```\n",
      "\n",
      "\u001B[0m\n",
      "Observation: \u001B[36;1m\u001B[1;3mThe HF_EMO module within HappyFace AI handles consultations for individuals intending to resign from their job role by privately consulting with them based on their emotional behaviors and sentimental analysis of their chatting behaviors. If an individual's emotional state and sentiments indicate a potential resignation, the module provides personalized emotional support and guidance to the employee. For those requiring more attention, their details may be forwarded to HR management as a special worker consideration request, demonstrating the organization's commitment to employee well-being. This approach aims to address personal problems and provide the necessary support to help employees thrive in their roles, potentially preventing resignations.\u001B[0m\n",
      "Thought:\u001B[32;1m\u001B[1;3mI have gathered information on how HappyFace HF_EMO consults individuals intending to resign from a job role.\n",
      "\n",
      "Final Answer: The HappyFace HF_EMO module provides consultations for individuals who are considering resigning from their job role by analyzing their emotional state and sentiments, offering personalized emotional support, guidance, and potentially escalating the situation to HR for special consideration.\u001B[0m\n",
      "\n",
      "\u001B[1m> Finished chain.\u001B[0m\n",
      "{'input': '\\n            What HappyFace HF_EMO will consulted on a person who is raising with an intention to resign from a job role? \\n            Explain using an example scenario explanation\\n        ', 'output': 'The HappyFace HF_EMO module provides consultations for individuals who are considering resigning from their job role by analyzing their emotional state and sentiments, offering personalized emotional support, guidance, and potentially escalating the situation to HR for special consideration.'}\n"
     ]
    }
   ],
   "source": [
    "agent = initialize_agent(\n",
    "    tools=[rag_search_tool],\n",
    "    llm=llm,\n",
    "    agent=AgentType.CHAT_ZERO_SHOT_REACT_DESCRIPTION,\n",
    "    verbose=True,\n",
    "    handle_parsing_errors=True\n",
    ")\n",
    "\n",
    "print(agent.invoke(\n",
    "    {\n",
    "        \"input\": '''\n",
    "            What HappyFace HF_EMO will consulted on a person who is raising with an intention to resign from a job role? \n",
    "            Explain using an example scenario explanation\n",
    "        '''\n",
    "    }\n",
    "))"
   ],
   "metadata": {
    "collapsed": false,
    "ExecuteTime": {
     "end_time": "2024-04-04T13:03:37.059920Z",
     "start_time": "2024-04-04T13:03:07.173854Z"
    }
   },
   "id": "38a6a807f657b4ab",
   "execution_count": 68
  },
  {
   "cell_type": "code",
   "outputs": [
    {
     "name": "stdout",
     "output_type": "stream",
     "text": [
      "\n",
      "\n",
      "\u001B[1m> Entering new AgentExecutor chain...\u001B[0m\n",
      "\u001B[32;1m\u001B[1;3mThought: The user is asking about the specific HappyFace HF_EMO that would be consulted when someone is considering resigning from a job role. I should use the RAG search tool to find the relevant information and provide an example scenario explanation based on the search results.\n",
      "Action:\n",
      "```json\n",
      "{\n",
      "  \"action\": \"rag_search_tool\",\n",
      "  \"action_input\": \"HappyFace HF_EMO consulted when considering resignation\"\n",
      "}\n",
      "```\u001B[0m\n",
      "Observation: \u001B[36;1m\u001B[1;3mHappyFace HF_EMO handles consultations for individuals considering resigning from their job role by tracking workers based on their emotional behaviors and sentimental analysis of their chatting behaviors. If an individual's behavior indicates they are considering resigning, they are privately consulted to provide support and guidance. For those requiring more attention, their details may be forwarded to HR management for special consideration, demonstrating the organization's commitment to employee well-being. The consultations provided by HF_EMO are personalized and not transparent to anyone, ensuring privacy and tailored support for employees.\u001B[0m\n",
      "Thought:\u001B[32;1m\u001B[1;3mAction:\n",
      "```json\n",
      "{\n",
      "  \"action\": \"Final Answer\",\n",
      "  \"action_input\": \"HappyFace HF_EMO would be consulted when an individual is considering resigning from a job role. HF_EMO tracks emotional behaviors and conducts sentimental analysis of chatting behaviors to identify individuals in need of support. Consultations are personalized, private, and may involve HR management for special attention.\"\n",
      "}\n",
      "``` \n",
      "\u001B[0m\n",
      "\n",
      "\u001B[1m> Finished chain.\u001B[0m\n",
      "{'input': '\\n            What HappyFace HF_EMO will consulted on a person who is raising with an intention to resign from a job role? \\n            Explain using an example scenario explanation\\n        ', 'output': 'HappyFace HF_EMO would be consulted when an individual is considering resigning from a job role. HF_EMO tracks emotional behaviors and conducts sentimental analysis of chatting behaviors to identify individuals in need of support. Consultations are personalized, private, and may involve HR management for special attention.'}\n"
     ]
    }
   ],
   "source": [
    "agent = initialize_agent(\n",
    "    tools=[rag_search_tool],\n",
    "    llm=llm,\n",
    "    agent=AgentType.STRUCTURED_CHAT_ZERO_SHOT_REACT_DESCRIPTION,\n",
    "    verbose=True,\n",
    "    handle_parsing_errors=True\n",
    ")\n",
    "\n",
    "print(agent.invoke(\n",
    "    {\n",
    "        \"input\": '''\n",
    "            What HappyFace HF_EMO will consulted on a person who is raising with an intention to resign from a job role? \n",
    "            Explain using an example scenario explanation\n",
    "        '''\n",
    "    }\n",
    "))"
   ],
   "metadata": {
    "collapsed": false,
    "ExecuteTime": {
     "end_time": "2024-04-04T13:04:54.325859Z",
     "start_time": "2024-04-04T13:04:26.792126Z"
    }
   },
   "id": "dbdc344697d15ac",
   "execution_count": 70
  },
  {
   "cell_type": "markdown",
   "source": [
    "## Evaluating more on CHAT_ZERO_SHOT_REACT_DESCRIPTION Agent Type"
   ],
   "metadata": {
    "collapsed": false
   },
   "id": "e8e623f5e74f82af"
  },
  {
   "cell_type": "code",
   "outputs": [
    {
     "name": "stdout",
     "output_type": "stream",
     "text": [
      "\n",
      "\n",
      "\u001B[1m> Entering new AgentExecutor chain...\u001B[0m\n",
      "\u001B[32;1m\u001B[1;3mQuestion: What will be the possibilities of Mr. John's emotion if HappyFace has identified him as raised with a positive emotion?\n",
      "Thought: I can use the RAG search tool to find out the possible emotions that Mr. John might be experiencing.\n",
      "Action:\n",
      "```\n",
      "{\n",
      "  \"action\": \"rag_search_tool\",\n",
      "  \"action_input\": \"positive\"\n",
      "}\n",
      "```\n",
      "\u001B[0m\n",
      "Observation: \u001B[36;1m\u001B[1;3mThe positive aspects of the HappyFace platform include:\n",
      "\n",
      "1. **Efficiency**: HappyFace is designed to eliminate negative distractions from the work environment, improving overall efficiency and performance in multi-worker environments.\n",
      "\n",
      "2. **Confidentiality**: The platform ensures the security and confidentiality of worker's personal information through advanced encryption and hashing methodologies, maintaining privacy and complying with relevant data protection regulations.\n",
      "\n",
      "3. **Scalability**: HappyFace can handle frames from numerous CCTV/Web cameras simultaneously and scale horizontally with the number of cameras and employees in the organization, making it adaptable to various organizational sizes.\n",
      "\n",
      "4. **Recognition**: At the end of each month, the HappyFace administration promotes the organization with the most positive and engaging workforce, highlighting successful implementation of the platform to improve employee well-being and productivity.\n",
      "\n",
      "These positive aspects contribute to the effectiveness of HappyFace in enhancing employee happiness, engagement, and overall organizational performance.\u001B[0m\n",
      "Thought:\u001B[32;1m\u001B[1;3mI can now list the possible emotions that Mr. John might be experiencing based on the positive aspects of the HappyFace platform.\n",
      "Final Answer: The possible emotions that Mr. John might be experiencing could include happiness, satisfaction, contentment, and engagement.\u001B[0m\n",
      "\n",
      "\u001B[1m> Finished chain.\u001B[0m\n",
      "{'input': '\\n            Suppose someone has recognized by HappyFace as Mr. John. \\n            Further HappyFace as identified this particular person is raised with a positive emotion.\\n            What will be the possibilities of his emotion?\\n        ', 'output': 'The possible emotions that Mr. John might be experiencing could include happiness, satisfaction, contentment, and engagement.'}\n"
     ]
    }
   ],
   "source": [
    "agent = initialize_agent(\n",
    "    tools=[rag_search_tool],\n",
    "    llm=llm,\n",
    "    agent=AgentType.CHAT_ZERO_SHOT_REACT_DESCRIPTION,\n",
    "    verbose=True,\n",
    "    handle_parsing_errors=True\n",
    ")\n",
    "\n",
    "print(agent.invoke(\n",
    "    {\n",
    "        \"input\": '''\n",
    "            Suppose someone has recognized by HappyFace as Mr. John. \n",
    "            Further HappyFace as identified this particular person is raised with a positive emotion.\n",
    "            What will be the possibilities of his emotion?\n",
    "        '''\n",
    "    }\n",
    "))"
   ],
   "metadata": {
    "collapsed": false,
    "ExecuteTime": {
     "end_time": "2024-04-04T13:11:04.484509Z",
     "start_time": "2024-04-04T13:10:35.973662Z"
    }
   },
   "id": "862957a1b0ae2910",
   "execution_count": 71
  },
  {
   "cell_type": "code",
   "outputs": [
    {
     "name": "stderr",
     "output_type": "stream",
     "text": [
      "E:\\Research\\HappyFace\\v2\\emotionistant\\venv\\Lib\\site-packages\\langchain_core\\_api\\deprecation.py:117: LangChainDeprecationWarning: The function `initialize_agent` was deprecated in LangChain 0.1.0 and will be removed in 0.2.0. Use Use new agent constructor methods like create_react_agent, create_json_agent, create_structured_chat_agent, etc. instead.\n",
      "  warn_deprecated(\n"
     ]
    },
    {
     "name": "stdout",
     "output_type": "stream",
     "text": [
      "\n",
      "\n",
      "\u001B[1m> Entering new AgentExecutor chain...\u001B[0m\n",
      "\u001B[32;1m\u001B[1;3mQuestion: Can you agree with the statement 'I created a Staff account on HappyFace'? If not, why?\n",
      "Thought: I can use the HappyFace Rag Search Tool to check if a Staff account was created on HappyFace.\n",
      "Action:\n",
      "```\n",
      "{\n",
      "  \"action\": \"HappyFace Rag Search Tool\",\n",
      "  \"action_input\": \"Staff account creation on HappyFace\"\n",
      "}\n",
      "```\n",
      "\u001B[0m"
     ]
    },
    {
     "name": "stderr",
     "output_type": "stream",
     "text": [
      "E:\\Research\\HappyFace\\v2\\emotionistant\\venv\\Lib\\site-packages\\langchain_core\\_api\\deprecation.py:117: LangChainDeprecationWarning: The function `__call__` was deprecated in LangChain 0.1.0 and will be removed in 0.2.0. Use invoke instead.\n",
      "  warn_deprecated(\n"
     ]
    },
    {
     "name": "stdout",
     "output_type": "stream",
     "text": [
      "\n",
      "Observation: \u001B[36;1m\u001B[1;3mTo create a staff account on HappyFace, the process involves the following steps:\n",
      "\n",
      "1. **Sign Up:** The staff member needs to sign up on the platform with their credentials, specifying their user role as either an Admin, Organisation, or Subject/Worker.\n",
      "\n",
      "2. **Registration:** The staff account needs to be registered under a top-level Organisation account. During registration, essential data attributes such as name, email, gender, address, and a minimum of 10 snapshots of the staff member should be uploaded. These details help in providing a contextual understanding of the worker profiles.\n",
      "\n",
      "3. **Chat with HappyFace:** HappyFace administration can monitor and visualize the happy engagement of each registered organisation. The staff account will allow the administration to assess the engagement level, and the most positively engaging organisation will receive a free promotion from the HappyFace head administration.\n",
      "\n",
      "Please note that the HappyFace administration cannot share any organisation's emotional engagement records with third parties, ensuring the confidentiality and security of the data.\n",
      "\n",
      "At the end of each month, the organisation with the most positive and engaging workforce will be promoted by HappyFace, showcasing the success of utilizing the platform to enhance employee well-being and productivity.\u001B[0m\n",
      "Thought:\u001B[32;1m\u001B[1;3mCould not parse LLM output: Final Answer\u001B[0m\n",
      "Observation: Invalid or incomplete response\n",
      "Thought:\u001B[32;1m\u001B[1;3mAction:\n",
      "```\n",
      "{\n",
      "  \"action\": \"HappyFace Rag Search Tool\",\n",
      "  \"action_input\": \"Staff account creation on HappyFace\"\n",
      "}\n",
      "```\u001B[0m\n",
      "Observation: \u001B[36;1m\u001B[1;3mStaff accounts on HappyFace can be created by a top-level Organisation account. When a Subject/Worker is registered by an Organisation account, snapshots of the worker along with required data attributes like name, email, gender, and address are taken and uploaded to the platform. This registration process is done by the Organisation to ensure that all necessary information is captured for better contextual understanding of worker profiles.\u001B[0m\n",
      "Thought:\u001B[32;1m\u001B[1;3mAction:\n",
      "```\n",
      "{\n",
      "  \"action\": \"HappyFace Rag Search Tool\",\n",
      "  \"action_input\": \"Staff account creation on HappyFace\"\n",
      "}\n",
      "```\u001B[0m\n",
      "Observation: \u001B[36;1m\u001B[1;3mA top-level Organisation account on HappyFace can create a staff account by registering the staff member with all the required data attributes. This includes capturing a minimum of 10 snapshots of the staff member and uploading them to the data store, along with generic data attributes such as name, email, gender, address, and more. This registration process helps in providing a better contextual understanding of the worker profiles to the consultancy service of HappyFace.\u001B[0m\n",
      "Thought:\u001B[32;1m\u001B[1;3mCould not parse LLM output: Final Answer\u001B[0m\n",
      "Observation: Invalid or incomplete response\n",
      "Thought:\u001B[32;1m\u001B[1;3mFinal Answer: A Staff account on HappyFace can be created by a top-level Organisation account by registering the staff member with required data attributes and snapshots, ensuring better contextual understanding of worker profiles.\u001B[0m\n",
      "\n",
      "\u001B[1m> Finished chain.\u001B[0m\n",
      "{'input': \"\\n            'I created a Staff account on HappyFace'\\n            Can you agree with above statement? If not why?\\n        \", 'output': 'A Staff account on HappyFace can be created by a top-level Organisation account by registering the staff member with required data attributes and snapshots, ensuring better contextual understanding of worker profiles.'}\n"
     ]
    }
   ],
   "source": [
    "from langchain.agents import initialize_agent\n",
    "from langchain.agents.agent_types import AgentType\n",
    "\n",
    "agent = initialize_agent(\n",
    "    tools=[rag_search_tool],\n",
    "    llm=llm,\n",
    "    agent=AgentType.CHAT_ZERO_SHOT_REACT_DESCRIPTION,\n",
    "    verbose=True,\n",
    "    handle_parsing_errors=True\n",
    ")\n",
    "\n",
    "print(agent.invoke(\n",
    "    {\n",
    "        \"input\": '''\n",
    "            'I created a Staff account on HappyFace'\n",
    "            Can you agree with above statement? If not why?\n",
    "        '''\n",
    "    }\n",
    "))"
   ],
   "metadata": {
    "collapsed": false,
    "ExecuteTime": {
     "end_time": "2024-04-04T14:40:45.435206Z",
     "start_time": "2024-04-04T14:37:56.363485Z"
    }
   },
   "id": "8668393cdf8dcc81",
   "execution_count": 4
  },
  {
   "cell_type": "code",
   "outputs": [
    {
     "name": "stdout",
     "output_type": "stream",
     "text": [
      "\n",
      "\n",
      "\u001B[1m> Entering new AgentExecutor chain...\u001B[0m\n",
      "\u001B[32;1m\u001B[1;3mQuestion: What can you do for me?\n",
      "Thought: I can use the HappyFace Rag Search Tool to find out what services are offered on the HappyFace platform.\n",
      "Action:\n",
      "```\n",
      "{\n",
      "  \"action\": \"HappyFace Rag Search Tool\",\n",
      "  \"action_input\": \"services offered on HappyFace platform\"\n",
      "}\n",
      "```\n",
      "\u001B[0m\n",
      "Observation: \u001B[36;1m\u001B[1;3mThe services offered on the HappyFace platform include Sign Up and Sign In functionality for different user roles (Admin, Organisation, Subject/Worker), Registration of Subjects/Workers with required data attributes and snapshots, and Chat with HappyFace AI - an AI-driven digital assistant designed to help improve worker performance by addressing personal problems and distractions.\u001B[0m\n",
      "Thought:\u001B[32;1m\u001B[1;3mCould not parse LLM output: Final Answer\u001B[0m\n",
      "Observation: Invalid or incomplete response\n",
      "Thought:\u001B[32;1m\u001B[1;3mI will try using the HappyFace Rag Search Tool again to gather information about the services offered on the HappyFace platform.\n",
      "Action:\n",
      "```\n",
      "{\n",
      "  \"action\": \"HappyFace Rag Search Tool\",\n",
      "  \"action_input\": \"services offered on HappyFace platform\"\n",
      "}\n",
      "```  \n",
      "\u001B[0m\n",
      "Observation: \u001B[36;1m\u001B[1;3mThe services offered on the HappyFace platform include:\n",
      "1. Sign Up and Sign In functionality for different user roles (Admin, Organisation, Subject/Worker)\n",
      "2. Registration of Subjects/Workers with required data attributes and snapshots\n",
      "3. Chat with HappyFace AI - an AI-driven digital assistant designed to improve worker efficiency and performance by eliminating distractions\n",
      "4. Performance metrics like responsiveness, scalability, security, and usability.\u001B[0m\n",
      "Thought:\u001B[32;1m\u001B[1;3mI now have a clear understanding of the services offered on the HappyFace platform. \n",
      "Final Answer: The services offered on the HappyFace platform include Sign Up and Sign In functionality for different user roles (Admin, Organisation, Subject/Worker), Registration of Subjects/Workers with required data attributes and snapshots, Chat with HappyFace AI, and Performance metrics.\u001B[0m\n",
      "\n",
      "\u001B[1m> Finished chain.\u001B[0m\n",
      "{'input': '\\n            What can you do for me?\\n        ', 'output': 'The services offered on the HappyFace platform include Sign Up and Sign In functionality for different user roles (Admin, Organisation, Subject/Worker), Registration of Subjects/Workers with required data attributes and snapshots, Chat with HappyFace AI, and Performance metrics.'}\n"
     ]
    }
   ],
   "source": [
    "agent = initialize_agent(\n",
    "    tools=[rag_search_tool],\n",
    "    llm=llm,\n",
    "    agent=AgentType.CHAT_ZERO_SHOT_REACT_DESCRIPTION,\n",
    "    verbose=True,\n",
    "    handle_parsing_errors=True\n",
    ")\n",
    "\n",
    "print(agent.invoke(\n",
    "    {\n",
    "        \"input\": '''\n",
    "            What can you do for me?\n",
    "        '''\n",
    "    }\n",
    "))"
   ],
   "metadata": {
    "collapsed": false,
    "ExecuteTime": {
     "end_time": "2024-04-04T14:54:25.331884Z",
     "start_time": "2024-04-04T14:52:30.608267Z"
    }
   },
   "id": "9361f2fc6cac5e0b",
   "execution_count": 6
  },
  {
   "cell_type": "code",
   "outputs": [],
   "source": [],
   "metadata": {
    "collapsed": false
   },
   "id": "d1941a03ad74d73e"
  }
 ],
 "metadata": {
  "kernelspec": {
   "display_name": "Python 3",
   "language": "python",
   "name": "python3"
  },
  "language_info": {
   "codemirror_mode": {
    "name": "ipython",
    "version": 2
   },
   "file_extension": ".py",
   "mimetype": "text/x-python",
   "name": "python",
   "nbconvert_exporter": "python",
   "pygments_lexer": "ipython2",
   "version": "2.7.6"
  }
 },
 "nbformat": 4,
 "nbformat_minor": 5
}
